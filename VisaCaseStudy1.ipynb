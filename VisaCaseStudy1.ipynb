{
 "cells": [
  {
   "cell_type": "markdown",
   "metadata": {},
   "source": [
    "# VISA CASE STUDY"
   ]
  },
  {
   "cell_type": "markdown",
   "metadata": {},
   "source": [
    "### Problem Statement:\n",
    "<b>How would you determine if a specific block in your neighborhood is suitable for a new grocery store?"
   ]
  },
  {
   "cell_type": "markdown",
   "metadata": {},
   "source": [
    "The following Notebook is an attempt to acheive the following:<br>\n",
    "***\n",
    "1. Frame the above problem coherently\n",
    "2. Use Analyses techniques on the data\n",
    "3. Leverage the results and findings to suggest possible solutions/insights\n",
    "4. Discuss potential limitations of the approach"
   ]
  },
  {
   "cell_type": "markdown",
   "metadata": {
    "collapsed": true
   },
   "source": [
    "### Framing the Problem"
   ]
  },
  {
   "cell_type": "markdown",
   "metadata": {},
   "source": [
    "We are trying to assess the pros and cons of choosing a specific neighbourhood block as the site for our grocery stores.<br>\n",
    "Let us lay some base assumptions and groundwork for the analyses that will be carried out.<br>\n",
    "***\n",
    "1. The location is chosen as the corner of <b>Baker and Fulton Street</b>, located in the North of Panhandle region in San Francisco. (This location was chosen because I recently noticed a popular Chilis pie shop permanently close at that location)\n",
    "2. Factors affecting our decision:\n",
    "<b><br>\n",
    " a. Security<br>\n",
    " b. Population density around the block<br>\n",
    " c. Traffic <br>\n",
    " d. Distance from import location<br>\n",
    " e. _More factors can be added later_<br></b>"
   ]
  },
  {
   "cell_type": "markdown",
   "metadata": {},
   "source": [
    "## Exploratory Analysis"
   ]
  },
  {
   "cell_type": "code",
   "execution_count": null,
   "metadata": {
    "collapsed": true
   },
   "outputs": [],
   "source": []
  }
 ],
 "metadata": {
  "kernelspec": {
   "display_name": "Python 3",
   "language": "python",
   "name": "python3"
  },
  "language_info": {
   "codemirror_mode": {
    "name": "ipython",
    "version": 3
   },
   "file_extension": ".py",
   "mimetype": "text/x-python",
   "name": "python",
   "nbconvert_exporter": "python",
   "pygments_lexer": "ipython3",
   "version": "3.6.4"
  }
 },
 "nbformat": 4,
 "nbformat_minor": 2
}
