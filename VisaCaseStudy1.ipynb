{
 "cells": [
  {
   "cell_type": "markdown",
   "metadata": {},
   "source": [
    "# VISA CASE STUDY"
   ]
  },
  {
   "cell_type": "markdown",
   "metadata": {},
   "source": [
    "### Problem Statement:\n",
    "><b>How would you determine if a specific block in your neighborhood is suitable for a new grocery store?"
   ]
  },
  {
   "cell_type": "markdown",
   "metadata": {},
   "source": [
    "***"
   ]
  },
  {
   "cell_type": "markdown",
   "metadata": {},
   "source": [
    "The following Notebook is an attempt to acheive the following:<br>\n",
    "1. Frame the above problem coherently\n",
    "2. Use Analyses techniques on the data\n",
    "3. Leverage the results and findings to suggest possible solutions/insights\n",
    "4. Discuss potential limitations of the approach"
   ]
  },
  {
   "cell_type": "markdown",
   "metadata": {},
   "source": [
    "A proposal is provided in the README covering the below points:\n",
    "<br>"
   ]
  },
  {
   "cell_type": "markdown",
   "metadata": {},
   "source": [
    "1. Assumptions - To frame the problem\n",
    "2. Analysis Methodology - To explain your analysis approach and chosen analytics techniques\n",
    "3. Expected Results and Findings\n",
    "4. Recommendations – Based on expected results and findings\n",
    "5. Potential Limitations inherent in the approach\n",
    "***"
   ]
  },
  {
   "cell_type": "markdown",
   "metadata": {
    "collapsed": true
   },
   "source": [
    "### Framing the Problem"
   ]
  },
  {
   "cell_type": "markdown",
   "metadata": {},
   "source": [
    "We are analyzing the pros and cons of choosing a specific neighbourhood block as the site for our grocery stores.<br>\n",
    "I have very originally chosen to name our potential store ASIV.<br>\n",
    "Let us lay some base assumptions and groundwork for the analyses that will be carried out.<br>\n",
    "***\n",
    "1. The location is chosen as the block around <b>Baker and Fulton Street</b>, located in the North of Panhandle region of San Francisco. (This location was chosen because I recently noticed a popular Chilis pie shop permanently close at that location :( )\n",
    "2. Factors that we will be considering in this case study:\n",
    "<b><br>\n",
    " a. Security<br>\n",
    " b. Population demographics around the block<br>\n",
    " c. Accessibility <br>\n",
    " d. Types of nearby businesses<br>\n",
    "</b><br>\n",
    "There are of couse other factors, such as type and goods of our store, import costs etc which can be considered in successive studies."
   ]
  },
  {
   "cell_type": "markdown",
   "metadata": {},
   "source": [
    "## Exploratory Analysis"
   ]
  },
  {
   "cell_type": "markdown",
   "metadata": {},
   "source": [
    "### Security"
   ]
  },
  {
   "cell_type": "markdown",
   "metadata": {},
   "source": [
    "Lets start with our first area of concern which is the security in the area.<br><br>\n",
    ">Assuming most people aren't very likely to shop for groceries in parts of town more notorious for criminal offenses. A prime factor that affects our decision for the grocery shops is the security in the area. "
   ]
  },
  {
   "cell_type": "markdown",
   "metadata": {},
   "source": [
    "#### Acquiring the data"
   ]
  },
  {
   "cell_type": "markdown",
   "metadata": {},
   "source": [
    "Fortunately, San Francisco has a public repository of city data related to Transportaion, City Infrastructure and yes <b> Public Safety</b> avaliable at:<br>\n",
    ">https://datasf.org<br>\n",
    ">https://data.sfgov.org/Public-Safety/Police-Department-Incidents-Current-Year-2018-/956q-2t7k"
   ]
  },
  {
   "cell_type": "markdown",
   "metadata": {},
   "source": [
    "I've chosen police department incidents for the year of 2018 so far."
   ]
  },
  {
   "cell_type": "markdown",
   "metadata": {},
   "source": [
    "Handling Imports"
   ]
  },
  {
   "cell_type": "code",
   "execution_count": 1,
   "metadata": {
    "collapsed": true
   },
   "outputs": [],
   "source": [
    "import pandas as pd\n",
    "import numpy as np\n",
    "\n",
    "import matplotlib.pyplot as plt\n",
    "import seaborn as sns\n",
    "%matplotlib inline"
   ]
  },
  {
   "cell_type": "code",
   "execution_count": 2,
   "metadata": {
    "collapsed": true
   },
   "outputs": [],
   "source": [
    "crime_df = pd.read_csv('data/Police_Department_Incidents_-_Current_Year__2018_.csv')"
   ]
  },
  {
   "cell_type": "code",
   "execution_count": 3,
   "metadata": {
    "scrolled": false
   },
   "outputs": [
    {
     "data": {
      "text/html": [
       "<div>\n",
       "<style scoped>\n",
       "    .dataframe tbody tr th:only-of-type {\n",
       "        vertical-align: middle;\n",
       "    }\n",
       "\n",
       "    .dataframe tbody tr th {\n",
       "        vertical-align: top;\n",
       "    }\n",
       "\n",
       "    .dataframe thead th {\n",
       "        text-align: right;\n",
       "    }\n",
       "</style>\n",
       "<table border=\"1\" class=\"dataframe\">\n",
       "  <thead>\n",
       "    <tr style=\"text-align: right;\">\n",
       "      <th></th>\n",
       "      <th>IncidntNum</th>\n",
       "      <th>Category</th>\n",
       "      <th>Descript</th>\n",
       "      <th>DayOfWeek</th>\n",
       "      <th>Date</th>\n",
       "      <th>Time</th>\n",
       "      <th>PdDistrict</th>\n",
       "      <th>Resolution</th>\n",
       "      <th>Address</th>\n",
       "      <th>X</th>\n",
       "      <th>Y</th>\n",
       "      <th>Location</th>\n",
       "      <th>PdId</th>\n",
       "    </tr>\n",
       "  </thead>\n",
       "  <tbody>\n",
       "    <tr>\n",
       "      <th>0</th>\n",
       "      <td>189014013</td>\n",
       "      <td>NON-CRIMINAL</td>\n",
       "      <td>STAY AWAY OR COURT ORDER, NON-DV RELATED</td>\n",
       "      <td>Monday</td>\n",
       "      <td>01/01/2018</td>\n",
       "      <td>22:37</td>\n",
       "      <td>TARAVAL</td>\n",
       "      <td>ARREST, BOOKED</td>\n",
       "      <td>3500 Block of 19TH AV</td>\n",
       "      <td>-122.474829</td>\n",
       "      <td>37.723976</td>\n",
       "      <td>(37.723975823482135, -122.47482947577244)</td>\n",
       "      <td>18901401371024</td>\n",
       "    </tr>\n",
       "    <tr>\n",
       "      <th>1</th>\n",
       "      <td>186095971</td>\n",
       "      <td>OTHER OFFENSES</td>\n",
       "      <td>OBSCENE PHONE CALLS(S)</td>\n",
       "      <td>Monday</td>\n",
       "      <td>01/01/2018</td>\n",
       "      <td>08:00</td>\n",
       "      <td>TENDERLOIN</td>\n",
       "      <td>NONE</td>\n",
       "      <td>500 Block of EDDY ST</td>\n",
       "      <td>-122.416711</td>\n",
       "      <td>37.783357</td>\n",
       "      <td>(37.78335703909351, -122.41671073384802)</td>\n",
       "      <td>18609597119050</td>\n",
       "    </tr>\n",
       "    <tr>\n",
       "      <th>2</th>\n",
       "      <td>186084021</td>\n",
       "      <td>FRAUD</td>\n",
       "      <td>CREDIT CARD, THEFT BY USE OF</td>\n",
       "      <td>Monday</td>\n",
       "      <td>01/01/2018</td>\n",
       "      <td>00:01</td>\n",
       "      <td>NORTHERN</td>\n",
       "      <td>NONE</td>\n",
       "      <td>1200 Block of EDDY ST</td>\n",
       "      <td>-122.428223</td>\n",
       "      <td>37.781896</td>\n",
       "      <td>(37.78189594886033, -122.42822330317604)</td>\n",
       "      <td>18608402109320</td>\n",
       "    </tr>\n",
       "    <tr>\n",
       "      <th>3</th>\n",
       "      <td>186072593</td>\n",
       "      <td>NON-CRIMINAL</td>\n",
       "      <td>LOST PROPERTY</td>\n",
       "      <td>Monday</td>\n",
       "      <td>01/01/2018</td>\n",
       "      <td>17:00</td>\n",
       "      <td>MISSION</td>\n",
       "      <td>NONE</td>\n",
       "      <td>2100 Block of MARKET ST</td>\n",
       "      <td>-122.429789</td>\n",
       "      <td>37.766652</td>\n",
       "      <td>(37.766652147476215, -122.4297889869883)</td>\n",
       "      <td>18607259371000</td>\n",
       "    </tr>\n",
       "    <tr>\n",
       "      <th>4</th>\n",
       "      <td>186063279</td>\n",
       "      <td>LARCENY/THEFT</td>\n",
       "      <td>GRAND THEFT FROM LOCKED AUTO</td>\n",
       "      <td>Monday</td>\n",
       "      <td>01/01/2018</td>\n",
       "      <td>22:00</td>\n",
       "      <td>SOUTHERN</td>\n",
       "      <td>NONE</td>\n",
       "      <td>800 Block of BRYANT ST</td>\n",
       "      <td>-122.403405</td>\n",
       "      <td>37.775421</td>\n",
       "      <td>(37.775420706711, -122.40340479147905)</td>\n",
       "      <td>18606327906244</td>\n",
       "    </tr>\n",
       "  </tbody>\n",
       "</table>\n",
       "</div>"
      ],
      "text/plain": [
       "   IncidntNum        Category                                  Descript  \\\n",
       "0   189014013    NON-CRIMINAL  STAY AWAY OR COURT ORDER, NON-DV RELATED   \n",
       "1   186095971  OTHER OFFENSES                    OBSCENE PHONE CALLS(S)   \n",
       "2   186084021           FRAUD              CREDIT CARD, THEFT BY USE OF   \n",
       "3   186072593    NON-CRIMINAL                             LOST PROPERTY   \n",
       "4   186063279   LARCENY/THEFT              GRAND THEFT FROM LOCKED AUTO   \n",
       "\n",
       "  DayOfWeek        Date   Time  PdDistrict      Resolution  \\\n",
       "0    Monday  01/01/2018  22:37     TARAVAL  ARREST, BOOKED   \n",
       "1    Monday  01/01/2018  08:00  TENDERLOIN            NONE   \n",
       "2    Monday  01/01/2018  00:01    NORTHERN            NONE   \n",
       "3    Monday  01/01/2018  17:00     MISSION            NONE   \n",
       "4    Monday  01/01/2018  22:00    SOUTHERN            NONE   \n",
       "\n",
       "                   Address           X          Y  \\\n",
       "0    3500 Block of 19TH AV -122.474829  37.723976   \n",
       "1     500 Block of EDDY ST -122.416711  37.783357   \n",
       "2    1200 Block of EDDY ST -122.428223  37.781896   \n",
       "3  2100 Block of MARKET ST -122.429789  37.766652   \n",
       "4   800 Block of BRYANT ST -122.403405  37.775421   \n",
       "\n",
       "                                    Location            PdId  \n",
       "0  (37.723975823482135, -122.47482947577244)  18901401371024  \n",
       "1   (37.78335703909351, -122.41671073384802)  18609597119050  \n",
       "2   (37.78189594886033, -122.42822330317604)  18608402109320  \n",
       "3   (37.766652147476215, -122.4297889869883)  18607259371000  \n",
       "4     (37.775420706711, -122.40340479147905)  18606327906244  "
      ]
     },
     "execution_count": 3,
     "metadata": {},
     "output_type": "execute_result"
    }
   ],
   "source": [
    "crime_df.head()"
   ]
  },
  {
   "cell_type": "code",
   "execution_count": 4,
   "metadata": {},
   "outputs": [
    {
     "data": {
      "text/plain": [
       "(46668, 13)"
      ]
     },
     "execution_count": 4,
     "metadata": {},
     "output_type": "execute_result"
    }
   ],
   "source": [
    "crime_df.shape"
   ]
  },
  {
   "cell_type": "code",
   "execution_count": 5,
   "metadata": {},
   "outputs": [
    {
     "data": {
      "text/html": [
       "<div>\n",
       "<style scoped>\n",
       "    .dataframe tbody tr th:only-of-type {\n",
       "        vertical-align: middle;\n",
       "    }\n",
       "\n",
       "    .dataframe tbody tr th {\n",
       "        vertical-align: top;\n",
       "    }\n",
       "\n",
       "    .dataframe thead th {\n",
       "        text-align: right;\n",
       "    }\n",
       "</style>\n",
       "<table border=\"1\" class=\"dataframe\">\n",
       "  <thead>\n",
       "    <tr style=\"text-align: right;\">\n",
       "      <th></th>\n",
       "      <th>IncidntNum</th>\n",
       "      <th>X</th>\n",
       "      <th>Y</th>\n",
       "      <th>PdId</th>\n",
       "    </tr>\n",
       "  </thead>\n",
       "  <tbody>\n",
       "    <tr>\n",
       "      <th>count</th>\n",
       "      <td>4.666800e+04</td>\n",
       "      <td>46668.000000</td>\n",
       "      <td>46668.000000</td>\n",
       "      <td>4.666800e+04</td>\n",
       "    </tr>\n",
       "    <tr>\n",
       "      <th>mean</th>\n",
       "      <td>1.813598e+08</td>\n",
       "      <td>-122.423404</td>\n",
       "      <td>37.769032</td>\n",
       "      <td>1.813598e+13</td>\n",
       "    </tr>\n",
       "    <tr>\n",
       "      <th>std</th>\n",
       "      <td>2.974998e+06</td>\n",
       "      <td>0.025635</td>\n",
       "      <td>0.023854</td>\n",
       "      <td>2.974998e+11</td>\n",
       "    </tr>\n",
       "    <tr>\n",
       "      <th>min</th>\n",
       "      <td>1.802993e+07</td>\n",
       "      <td>-122.513642</td>\n",
       "      <td>37.707922</td>\n",
       "      <td>1.802993e+12</td>\n",
       "    </tr>\n",
       "    <tr>\n",
       "      <th>25%</th>\n",
       "      <td>1.801110e+08</td>\n",
       "      <td>-122.433111</td>\n",
       "      <td>37.756486</td>\n",
       "      <td>1.801110e+13</td>\n",
       "    </tr>\n",
       "    <tr>\n",
       "      <th>50%</th>\n",
       "      <td>1.802233e+08</td>\n",
       "      <td>-122.417145</td>\n",
       "      <td>37.775421</td>\n",
       "      <td>1.802233e+13</td>\n",
       "    </tr>\n",
       "    <tr>\n",
       "      <th>75%</th>\n",
       "      <td>1.803351e+08</td>\n",
       "      <td>-122.406978</td>\n",
       "      <td>37.785151</td>\n",
       "      <td>1.803351e+13</td>\n",
       "    </tr>\n",
       "    <tr>\n",
       "      <th>max</th>\n",
       "      <td>3.860343e+08</td>\n",
       "      <td>-122.365241</td>\n",
       "      <td>37.819923</td>\n",
       "      <td>3.860343e+13</td>\n",
       "    </tr>\n",
       "  </tbody>\n",
       "</table>\n",
       "</div>"
      ],
      "text/plain": [
       "         IncidntNum             X             Y          PdId\n",
       "count  4.666800e+04  46668.000000  46668.000000  4.666800e+04\n",
       "mean   1.813598e+08   -122.423404     37.769032  1.813598e+13\n",
       "std    2.974998e+06      0.025635      0.023854  2.974998e+11\n",
       "min    1.802993e+07   -122.513642     37.707922  1.802993e+12\n",
       "25%    1.801110e+08   -122.433111     37.756486  1.801110e+13\n",
       "50%    1.802233e+08   -122.417145     37.775421  1.802233e+13\n",
       "75%    1.803351e+08   -122.406978     37.785151  1.803351e+13\n",
       "max    3.860343e+08   -122.365241     37.819923  3.860343e+13"
      ]
     },
     "execution_count": 5,
     "metadata": {},
     "output_type": "execute_result"
    }
   ],
   "source": [
    "crime_df.describe()"
   ]
  },
  {
   "cell_type": "code",
   "execution_count": 6,
   "metadata": {
    "scrolled": true
   },
   "outputs": [
    {
     "data": {
      "text/plain": [
       "IncidntNum      int64\n",
       "Category       object\n",
       "Descript       object\n",
       "DayOfWeek      object\n",
       "Date           object\n",
       "Time           object\n",
       "PdDistrict     object\n",
       "Resolution     object\n",
       "Address        object\n",
       "X             float64\n",
       "Y             float64\n",
       "Location       object\n",
       "PdId            int64\n",
       "dtype: object"
      ]
     },
     "execution_count": 6,
     "metadata": {},
     "output_type": "execute_result"
    }
   ],
   "source": [
    "crime_df.dtypes"
   ]
  },
  {
   "cell_type": "markdown",
   "metadata": {},
   "source": [
    "Lets look at the object types"
   ]
  },
  {
   "cell_type": "code",
   "execution_count": 7,
   "metadata": {},
   "outputs": [
    {
     "data": {
      "text/html": [
       "<div>\n",
       "<style scoped>\n",
       "    .dataframe tbody tr th:only-of-type {\n",
       "        vertical-align: middle;\n",
       "    }\n",
       "\n",
       "    .dataframe tbody tr th {\n",
       "        vertical-align: top;\n",
       "    }\n",
       "\n",
       "    .dataframe thead th {\n",
       "        text-align: right;\n",
       "    }\n",
       "</style>\n",
       "<table border=\"1\" class=\"dataframe\">\n",
       "  <thead>\n",
       "    <tr style=\"text-align: right;\">\n",
       "      <th></th>\n",
       "      <th>Category</th>\n",
       "      <th>Descript</th>\n",
       "      <th>DayOfWeek</th>\n",
       "      <th>Date</th>\n",
       "      <th>Time</th>\n",
       "      <th>PdDistrict</th>\n",
       "      <th>Resolution</th>\n",
       "      <th>Address</th>\n",
       "      <th>Location</th>\n",
       "    </tr>\n",
       "  </thead>\n",
       "  <tbody>\n",
       "    <tr>\n",
       "      <th>count</th>\n",
       "      <td>46668</td>\n",
       "      <td>46668</td>\n",
       "      <td>46668</td>\n",
       "      <td>46668</td>\n",
       "      <td>46668</td>\n",
       "      <td>46668</td>\n",
       "      <td>46668</td>\n",
       "      <td>46668</td>\n",
       "      <td>46668</td>\n",
       "    </tr>\n",
       "    <tr>\n",
       "      <th>unique</th>\n",
       "      <td>37</td>\n",
       "      <td>590</td>\n",
       "      <td>7</td>\n",
       "      <td>135</td>\n",
       "      <td>1422</td>\n",
       "      <td>10</td>\n",
       "      <td>9</td>\n",
       "      <td>10215</td>\n",
       "      <td>11240</td>\n",
       "    </tr>\n",
       "    <tr>\n",
       "      <th>top</th>\n",
       "      <td>LARCENY/THEFT</td>\n",
       "      <td>GRAND THEFT FROM LOCKED AUTO</td>\n",
       "      <td>Friday</td>\n",
       "      <td>01/01/2018</td>\n",
       "      <td>00:01</td>\n",
       "      <td>SOUTHERN</td>\n",
       "      <td>NONE</td>\n",
       "      <td>800 Block of BRYANT ST</td>\n",
       "      <td>(37.775420706711, -122.40340479147905)</td>\n",
       "    </tr>\n",
       "    <tr>\n",
       "      <th>freq</th>\n",
       "      <td>13632</td>\n",
       "      <td>6256</td>\n",
       "      <td>7144</td>\n",
       "      <td>453</td>\n",
       "      <td>1171</td>\n",
       "      <td>8577</td>\n",
       "      <td>34509</td>\n",
       "      <td>1041</td>\n",
       "      <td>1035</td>\n",
       "    </tr>\n",
       "  </tbody>\n",
       "</table>\n",
       "</div>"
      ],
      "text/plain": [
       "             Category                      Descript DayOfWeek        Date  \\\n",
       "count           46668                         46668     46668       46668   \n",
       "unique             37                           590         7         135   \n",
       "top     LARCENY/THEFT  GRAND THEFT FROM LOCKED AUTO    Friday  01/01/2018   \n",
       "freq            13632                          6256      7144         453   \n",
       "\n",
       "         Time PdDistrict Resolution                 Address  \\\n",
       "count   46668      46668      46668                   46668   \n",
       "unique   1422         10          9                   10215   \n",
       "top     00:01   SOUTHERN       NONE  800 Block of BRYANT ST   \n",
       "freq     1171       8577      34509                    1041   \n",
       "\n",
       "                                      Location  \n",
       "count                                    46668  \n",
       "unique                                   11240  \n",
       "top     (37.775420706711, -122.40340479147905)  \n",
       "freq                                      1035  "
      ]
     },
     "execution_count": 7,
     "metadata": {},
     "output_type": "execute_result"
    }
   ],
   "source": [
    "crime_df.describe(include=[np.object])"
   ]
  },
  {
   "cell_type": "markdown",
   "metadata": {},
   "source": [
    ">To better understand our data, lets first look at the <b>Category</b> and <b>PdDistrict</b> features, as they seem relevant to crime and location information."
   ]
  },
  {
   "cell_type": "markdown",
   "metadata": {},
   "source": [
    "The data appears to be pretty clean, with no missin values!"
   ]
  },
  {
   "cell_type": "code",
   "execution_count": 8,
   "metadata": {
    "collapsed": true
   },
   "outputs": [],
   "source": [
    "category_counts = crime_df.Category.value_counts()\n",
    "district_counts = crime_df.PdDistrict.value_counts()"
   ]
  },
  {
   "cell_type": "markdown",
   "metadata": {},
   "source": [
    "#### Visualizing the crime category and the district counts"
   ]
  },
  {
   "cell_type": "code",
   "execution_count": 9,
   "metadata": {
    "collapsed": true
   },
   "outputs": [],
   "source": [
    "def make_bar_plot(x,y, palette,xlabel,ylabel):\n",
    "    fig,axs = plt.subplots(figsize = (10,10))\n",
    "\n",
    "    sns.barplot(x = x,\n",
    "                y = y,\n",
    "                palette = palette\n",
    "               )\n",
    "\n",
    "    axs.set(xlabel = xlabel, ylabel = ylabel)"
   ]
  },
  {
   "cell_type": "code",
   "execution_count": 10,
   "metadata": {},
   "outputs": [
    {
     "data": {
      "image/png": "[encoded data removed]",
      "text/plain": [
       "<matplotlib.figure.Figure at 0x1a0dda4a58>"
      ]
     },
     "metadata": {},
     "output_type": "display_data"
    }
   ],
   "source": [
    "make_bar_plot(category_counts,\n",
    "             category_counts.index,\n",
    "             sns.cubehelix_palette(len(category_counts),dark=0.25, light=0.9,reverse=True),\n",
    "             'Crime Count',\n",
    "             'Crime Category')"
   ]
  },
  {
   "cell_type": "code",
   "execution_count": 11,
   "metadata": {},
   "outputs": [
    {
     "data": {
      "image/png": "[encoded data removed]",
      "text/plain": [
       "<matplotlib.figure.Figure at 0x1a0dda46a0>"
      ]
     },
     "metadata": {},
     "output_type": "display_data"
    }
   ],
   "source": [
    "make_bar_plot(district_counts,district_counts.index,\n",
    "             'Blues_r',\n",
    "             'District reported Crime Count',\n",
    "             'Districts with reported crimes')"
   ]
  },
  {
   "cell_type": "markdown",
   "metadata": {},
   "source": [
    "The following observations can be made from the above two visualizations:<br>\n",
    "1. The most common crimes are Theft, Non criminal and Other offenses(which are slightly ambiguous), Assault, Vandalism and Burglary. <br> All of these (excluding the ambiguous ones) are a source of concern while opening a grocery shop in the area.<br><br>\n",
    "2. Most number of crimes occured in the Southern district. Luckily our location is in the Park District, which has the lowest crime rates.\n",
    "\n",
    "A better indication would be to look at the distress calls which were made from the Park district. We do this in the next few lines of code."
   ]
  },
  {
   "cell_type": "code",
   "execution_count": 12,
   "metadata": {},
   "outputs": [
    {
     "data": {
      "text/html": [
       "<div>\n",
       "<style scoped>\n",
       "    .dataframe tbody tr th:only-of-type {\n",
       "        vertical-align: middle;\n",
       "    }\n",
       "\n",
       "    .dataframe tbody tr th {\n",
       "        vertical-align: top;\n",
       "    }\n",
       "\n",
       "    .dataframe thead th {\n",
       "        text-align: right;\n",
       "    }\n",
       "</style>\n",
       "<table border=\"1\" class=\"dataframe\">\n",
       "  <thead>\n",
       "    <tr style=\"text-align: right;\">\n",
       "      <th></th>\n",
       "      <th>PdDistrict</th>\n",
       "      <th>Category</th>\n",
       "    </tr>\n",
       "  </thead>\n",
       "  <tbody>\n",
       "    <tr>\n",
       "      <th>6</th>\n",
       "      <td>PARK</td>\n",
       "      <td>LARCENY/THEFT</td>\n",
       "    </tr>\n",
       "    <tr>\n",
       "      <th>8</th>\n",
       "      <td>PARK</td>\n",
       "      <td>LARCENY/THEFT</td>\n",
       "    </tr>\n",
       "    <tr>\n",
       "      <th>22</th>\n",
       "      <td>PARK</td>\n",
       "      <td>LARCENY/THEFT</td>\n",
       "    </tr>\n",
       "    <tr>\n",
       "      <th>33</th>\n",
       "      <td>PARK</td>\n",
       "      <td>OTHER OFFENSES</td>\n",
       "    </tr>\n",
       "    <tr>\n",
       "      <th>77</th>\n",
       "      <td>PARK</td>\n",
       "      <td>VANDALISM</td>\n",
       "    </tr>\n",
       "  </tbody>\n",
       "</table>\n",
       "</div>"
      ],
      "text/plain": [
       "   PdDistrict        Category\n",
       "6        PARK   LARCENY/THEFT\n",
       "8        PARK   LARCENY/THEFT\n",
       "22       PARK   LARCENY/THEFT\n",
       "33       PARK  OTHER OFFENSES\n",
       "77       PARK       VANDALISM"
      ]
     },
     "execution_count": 12,
     "metadata": {},
     "output_type": "execute_result"
    }
   ],
   "source": [
    "park_crimes_df = crime_df.loc[crime_df['PdDistrict']=='PARK',['PdDistrict','Category']]\n",
    "park_crimes_df.head()"
   ]
  },
  {
   "cell_type": "code",
   "execution_count": 13,
   "metadata": {},
   "outputs": [
    {
     "data": {
      "image/png": "[encoded data removed]",
      "text/plain": [
       "<matplotlib.figure.Figure at 0x1a0dda4358>"
      ]
     },
     "metadata": {},
     "output_type": "display_data"
    }
   ],
   "source": [
    "make_bar_plot(park_crimes_df.Category.value_counts(),\n",
    "             park_crimes_df.Category.value_counts().index,\n",
    "             sns.cubehelix_palette(len(category_counts),dark=0.25, light=0.9,reverse=True),\n",
    "             'Reported Crime Count',\n",
    "             'Reported Crime Category')"
   ]
  },
  {
   "cell_type": "markdown",
   "metadata": {},
   "source": [
    "The most frequent complaints remain more of less similar to the overall complaints."
   ]
  },
  {
   "cell_type": "markdown",
   "metadata": {},
   "source": [
    "Out of curiosity I located our 'potential' grocery store on a map of the disctricts in SF, provided by SF Police Department, the image is shown below."
   ]
  },
  {
   "cell_type": "markdown",
   "metadata": {},
   "source": [
    "<img src='images/SF_District.png' width = '500px',height='500px' alt='SF_Ditrict'>\n",
    "<div align ='center'> Store Location</div>"
   ]
  },
  {
   "cell_type": "markdown",
   "metadata": {},
   "source": [
    "As seen from the image, our store is on the edge of PARK and NORTHERN districts.<br> A better approach would be to locate distress call locations using the geographical co-ordinates in the original data set. Lets do that next."
   ]
  },
  {
   "cell_type": "markdown",
   "metadata": {},
   "source": [
    "The latitude and longitude of our store are :<b> -122.441534, 37.776466</b>\n",
    "We'll choose locations that are within 0.001 or our store location, which is roughly a two block distance"
   ]
  },
  {
   "cell_type": "code",
   "execution_count": 14,
   "metadata": {
    "collapsed": true
   },
   "outputs": [],
   "source": [
    "store_vicinity = crime_df.loc[(crime_df.X>-122.442) & (crime_df.X<-122.440 )\n",
    "                               &(crime_df.Y<37.777) & (crime_df.Y>37.775), ['Category','PdDistrict','Address','Descript']]"
   ]
  },
  {
   "cell_type": "code",
   "execution_count": 15,
   "metadata": {
    "scrolled": false
   },
   "outputs": [
    {
     "data": {
      "text/html": [
       "<div>\n",
       "<style scoped>\n",
       "    .dataframe tbody tr th:only-of-type {\n",
       "        vertical-align: middle;\n",
       "    }\n",
       "\n",
       "    .dataframe tbody tr th {\n",
       "        vertical-align: top;\n",
       "    }\n",
       "\n",
       "    .dataframe thead th {\n",
       "        text-align: right;\n",
       "    }\n",
       "</style>\n",
       "<table border=\"1\" class=\"dataframe\">\n",
       "  <thead>\n",
       "    <tr style=\"text-align: right;\">\n",
       "      <th></th>\n",
       "      <th>Category</th>\n",
       "      <th>PdDistrict</th>\n",
       "      <th>Address</th>\n",
       "      <th>Descript</th>\n",
       "    </tr>\n",
       "  </thead>\n",
       "  <tbody>\n",
       "    <tr>\n",
       "      <th>2407</th>\n",
       "      <td>ASSAULT</td>\n",
       "      <td>PARK</td>\n",
       "      <td>1400 Block of GROVE ST</td>\n",
       "      <td>BATTERY</td>\n",
       "    </tr>\n",
       "    <tr>\n",
       "      <th>13008</th>\n",
       "      <td>WARRANTS</td>\n",
       "      <td>PARK</td>\n",
       "      <td>GROVE ST / BAKER ST</td>\n",
       "      <td>ENROUTE TO OUTSIDE JURISDICTION</td>\n",
       "    </tr>\n",
       "    <tr>\n",
       "      <th>13508</th>\n",
       "      <td>LARCENY/THEFT</td>\n",
       "      <td>PARK</td>\n",
       "      <td>400 Block of BAKER ST</td>\n",
       "      <td>PETTY THEFT OF PROPERTY</td>\n",
       "    </tr>\n",
       "    <tr>\n",
       "      <th>15323</th>\n",
       "      <td>MISSING PERSON</td>\n",
       "      <td>PARK</td>\n",
       "      <td>400 Block of BAKER ST</td>\n",
       "      <td>FOUND PERSON</td>\n",
       "    </tr>\n",
       "    <tr>\n",
       "      <th>15324</th>\n",
       "      <td>MISSING PERSON</td>\n",
       "      <td>PARK</td>\n",
       "      <td>400 Block of BAKER ST</td>\n",
       "      <td>MISSING ADULT</td>\n",
       "    </tr>\n",
       "  </tbody>\n",
       "</table>\n",
       "</div>"
      ],
      "text/plain": [
       "             Category PdDistrict                 Address  \\\n",
       "2407          ASSAULT       PARK  1400 Block of GROVE ST   \n",
       "13008        WARRANTS       PARK     GROVE ST / BAKER ST   \n",
       "13508   LARCENY/THEFT       PARK   400 Block of BAKER ST   \n",
       "15323  MISSING PERSON       PARK   400 Block of BAKER ST   \n",
       "15324  MISSING PERSON       PARK   400 Block of BAKER ST   \n",
       "\n",
       "                              Descript  \n",
       "2407                           BATTERY  \n",
       "13008  ENROUTE TO OUTSIDE JURISDICTION  \n",
       "13508          PETTY THEFT OF PROPERTY  \n",
       "15323                     FOUND PERSON  \n",
       "15324                    MISSING ADULT  "
      ]
     },
     "execution_count": 15,
     "metadata": {},
     "output_type": "execute_result"
    }
   ],
   "source": [
    "store_vicinity.head()"
   ]
  },
  {
   "cell_type": "markdown",
   "metadata": {},
   "source": [
    "Looking at the description for a missing person report reveals that, when a missing person is found, it's still categorised as a missing person report. Let's remove those from our consideration."
   ]
  },
  {
   "cell_type": "code",
   "execution_count": 16,
   "metadata": {
    "collapsed": true
   },
   "outputs": [],
   "source": [
    "store_vicinity = store_vicinity[store_vicinity.Descript!='FOUND PERSON']"
   ]
  },
  {
   "cell_type": "code",
   "execution_count": 17,
   "metadata": {
    "scrolled": true
   },
   "outputs": [
    {
     "data": {
      "text/plain": [
       "PARK    25\n",
       "Name: PdDistrict, dtype: int64"
      ]
     },
     "execution_count": 17,
     "metadata": {},
     "output_type": "execute_result"
    }
   ],
   "source": [
    "store_vicinity.PdDistrict.value_counts()"
   ]
  },
  {
   "cell_type": "markdown",
   "metadata": {},
   "source": [
    "The above code shows that all of the distress calls in the vicinity were from the PARK district."
   ]
  },
  {
   "cell_type": "code",
   "execution_count": 18,
   "metadata": {
    "scrolled": false
   },
   "outputs": [
    {
     "data": {
      "image/png": "[encoded data removed]",
      "text/plain": [
       "<matplotlib.figure.Figure at 0x1a0ed2ddd8>"
      ]
     },
     "metadata": {},
     "output_type": "display_data"
    }
   ],
   "source": [
    "make_bar_plot(store_vicinity.Category.value_counts(),\n",
    "              store_vicinity.Category.value_counts().index,\n",
    "              sns.cubehelix_palette(len(category_counts),dark=0.25, light=0.9,reverse=True),\n",
    "              'Reported Crime Count',\n",
    "              'Reported Crime Category')"
   ]
  },
  {
   "cell_type": "markdown",
   "metadata": {},
   "source": [
    ">The total distress call count was 25 in the immediate vicinity of our store location,which looks to be a good sign!<br> (Taking into account the total 46,668 total distress calls placed in 2018.)"
   ]
  },
  {
   "cell_type": "markdown",
   "metadata": {},
   "source": [
    "Comparing with a value in the Southern District where reported crimes were the highest\n",
    "37.776393, -122.408464 Langdon and Folsom street"
   ]
  },
  {
   "cell_type": "code",
   "execution_count": 19,
   "metadata": {
    "collapsed": true
   },
   "outputs": [],
   "source": [
    "south_vicinity = crime_df.loc[(crime_df.X>-122.409) & (crime_df.X<-122.407 )\n",
    "                               &(crime_df.Y<37.777) & (crime_df.Y>37.775), ['Category','PdDistrict','Address','Descript']]"
   ]
  },
  {
   "cell_type": "code",
   "execution_count": 20,
   "metadata": {
    "collapsed": true
   },
   "outputs": [],
   "source": [
    "south_vicinity = south_vicinity[south_vicinity.Descript!='FOUND PERSON']"
   ]
  },
  {
   "cell_type": "code",
   "execution_count": 21,
   "metadata": {},
   "outputs": [
    {
     "data": {
      "text/html": [
       "<div>\n",
       "<style scoped>\n",
       "    .dataframe tbody tr th:only-of-type {\n",
       "        vertical-align: middle;\n",
       "    }\n",
       "\n",
       "    .dataframe tbody tr th {\n",
       "        vertical-align: top;\n",
       "    }\n",
       "\n",
       "    .dataframe thead th {\n",
       "        text-align: right;\n",
       "    }\n",
       "</style>\n",
       "<table border=\"1\" class=\"dataframe\">\n",
       "  <thead>\n",
       "    <tr style=\"text-align: right;\">\n",
       "      <th></th>\n",
       "      <th>Category</th>\n",
       "      <th>PdDistrict</th>\n",
       "      <th>Address</th>\n",
       "      <th>Descript</th>\n",
       "    </tr>\n",
       "  </thead>\n",
       "  <tbody>\n",
       "    <tr>\n",
       "      <th>1087</th>\n",
       "      <td>LARCENY/THEFT</td>\n",
       "      <td>SOUTHERN</td>\n",
       "      <td>7TH ST / FOLSOM ST</td>\n",
       "      <td>GRAND THEFT FROM LOCKED AUTO</td>\n",
       "    </tr>\n",
       "    <tr>\n",
       "      <th>3756</th>\n",
       "      <td>VANDALISM</td>\n",
       "      <td>SOUTHERN</td>\n",
       "      <td>7TH ST / FOLSOM ST</td>\n",
       "      <td>MALICIOUS MISCHIEF, VANDALISM</td>\n",
       "    </tr>\n",
       "    <tr>\n",
       "      <th>4599</th>\n",
       "      <td>LARCENY/THEFT</td>\n",
       "      <td>SOUTHERN</td>\n",
       "      <td>300 Block of 7TH ST</td>\n",
       "      <td>PETTY THEFT OF PROPERTY</td>\n",
       "    </tr>\n",
       "    <tr>\n",
       "      <th>4929</th>\n",
       "      <td>VANDALISM</td>\n",
       "      <td>SOUTHERN</td>\n",
       "      <td>1000 Block of FOLSOM ST</td>\n",
       "      <td>MALICIOUS MISCHIEF, TIRE SLASHING</td>\n",
       "    </tr>\n",
       "    <tr>\n",
       "      <th>4973</th>\n",
       "      <td>NON-CRIMINAL</td>\n",
       "      <td>SOUTHERN</td>\n",
       "      <td>1100 Block of FOLSOM ST</td>\n",
       "      <td>AIDED CASE</td>\n",
       "    </tr>\n",
       "  </tbody>\n",
       "</table>\n",
       "</div>"
      ],
      "text/plain": [
       "           Category PdDistrict                  Address  \\\n",
       "1087  LARCENY/THEFT   SOUTHERN       7TH ST / FOLSOM ST   \n",
       "3756      VANDALISM   SOUTHERN       7TH ST / FOLSOM ST   \n",
       "4599  LARCENY/THEFT   SOUTHERN      300 Block of 7TH ST   \n",
       "4929      VANDALISM   SOUTHERN  1000 Block of FOLSOM ST   \n",
       "4973   NON-CRIMINAL   SOUTHERN  1100 Block of FOLSOM ST   \n",
       "\n",
       "                               Descript  \n",
       "1087       GRAND THEFT FROM LOCKED AUTO  \n",
       "3756      MALICIOUS MISCHIEF, VANDALISM  \n",
       "4599            PETTY THEFT OF PROPERTY  \n",
       "4929  MALICIOUS MISCHIEF, TIRE SLASHING  \n",
       "4973                         AIDED CASE  "
      ]
     },
     "execution_count": 21,
     "metadata": {},
     "output_type": "execute_result"
    }
   ],
   "source": [
    "south_vicinity.head()"
   ]
  },
  {
   "cell_type": "code",
   "execution_count": 22,
   "metadata": {},
   "outputs": [
    {
     "data": {
      "text/plain": [
       "SOUTHERN    49\n",
       "Name: PdDistrict, dtype: int64"
      ]
     },
     "execution_count": 22,
     "metadata": {},
     "output_type": "execute_result"
    }
   ],
   "source": [
    "south_vicinity.PdDistrict.value_counts()"
   ]
  },
  {
   "cell_type": "markdown",
   "metadata": {},
   "source": [
    ">We see that there are double the number of distress calls made in a Southern District location."
   ]
  },
  {
   "cell_type": "markdown",
   "metadata": {
    "collapsed": true
   },
   "source": [
    "## Population Demographics"
   ]
  },
  {
   "cell_type": "markdown",
   "metadata": {},
   "source": [
    "I am using the 2010 Census data for this part of the analysis.<br>\n",
    "The data can be found at the census.gov website. Although a better formatted subset with median household income can be found on:\n",
    ">https://datausa.io/profile/geo/san-francisco-ca/"
   ]
  },
  {
   "cell_type": "markdown",
   "metadata": {},
   "source": [
    "The dataset provides the median Household Income for various locations around the city. Let's take a look at the data"
   ]
  },
  {
   "cell_type": "markdown",
   "metadata": {},
   "source": [
    "### Median household income analysis"
   ]
  },
  {
   "cell_type": "code",
   "execution_count": 182,
   "metadata": {
    "collapsed": true
   },
   "outputs": [],
   "source": [
    "pop_df = pd.read_csv('data/GeoMapIncomeLocation.csv')"
   ]
  },
  {
   "cell_type": "code",
   "execution_count": 183,
   "metadata": {},
   "outputs": [
    {
     "data": {
      "text/html": [
       "<div>\n",
       "<style scoped>\n",
       "    .dataframe tbody tr th:only-of-type {\n",
       "        vertical-align: middle;\n",
       "    }\n",
       "\n",
       "    .dataframe tbody tr th {\n",
       "        vertical-align: top;\n",
       "    }\n",
       "\n",
       "    .dataframe thead th {\n",
       "        text-align: right;\n",
       "    }\n",
       "</style>\n",
       "<table border=\"1\" class=\"dataframe\">\n",
       "  <thead>\n",
       "    <tr style=\"text-align: right;\">\n",
       "      <th></th>\n",
       "      <th>year</th>\n",
       "      <th>geo_name</th>\n",
       "      <th>geo</th>\n",
       "      <th>income</th>\n",
       "    </tr>\n",
       "  </thead>\n",
       "  <tbody>\n",
       "    <tr>\n",
       "      <th>0</th>\n",
       "      <td>2016</td>\n",
       "      <td>Census Tract 264.01</td>\n",
       "      <td>14000US06075026401</td>\n",
       "      <td>50694.0</td>\n",
       "    </tr>\n",
       "    <tr>\n",
       "      <th>1</th>\n",
       "      <td>2013</td>\n",
       "      <td>Census Tract 264.01</td>\n",
       "      <td>14000US06075026401</td>\n",
       "      <td>46514.0</td>\n",
       "    </tr>\n",
       "    <tr>\n",
       "      <th>2</th>\n",
       "      <td>2014</td>\n",
       "      <td>Census Tract 264.01</td>\n",
       "      <td>14000US06075026401</td>\n",
       "      <td>45451.0</td>\n",
       "    </tr>\n",
       "    <tr>\n",
       "      <th>3</th>\n",
       "      <td>2015</td>\n",
       "      <td>Census Tract 264.01</td>\n",
       "      <td>14000US06075026401</td>\n",
       "      <td>46150.0</td>\n",
       "    </tr>\n",
       "    <tr>\n",
       "      <th>4</th>\n",
       "      <td>2016</td>\n",
       "      <td>Census Tract 611</td>\n",
       "      <td>14000US06075061100</td>\n",
       "      <td>17218.0</td>\n",
       "    </tr>\n",
       "  </tbody>\n",
       "</table>\n",
       "</div>"
      ],
      "text/plain": [
       "   year             geo_name                 geo   income\n",
       "0  2016  Census Tract 264.01  14000US06075026401  50694.0\n",
       "1  2013  Census Tract 264.01  14000US06075026401  46514.0\n",
       "2  2014  Census Tract 264.01  14000US06075026401  45451.0\n",
       "3  2015  Census Tract 264.01  14000US06075026401  46150.0\n",
       "4  2016     Census Tract 611  14000US06075061100  17218.0"
      ]
     },
     "execution_count": 183,
     "metadata": {},
     "output_type": "execute_result"
    }
   ],
   "source": [
    "pop_df.head()"
   ]
  },
  {
   "cell_type": "code",
   "execution_count": 105,
   "metadata": {},
   "outputs": [
    {
     "data": {
      "text/plain": [
       "(788, 4)"
      ]
     },
     "execution_count": 105,
     "metadata": {},
     "output_type": "execute_result"
    }
   ],
   "source": [
    "pop_df.shape"
   ]
  },
  {
   "cell_type": "markdown",
   "metadata": {},
   "source": [
    "As we can see the locations are identified by tract names<br>\n",
    "After digging a bit through the census.gov, I found a map indentifying the various tracts on a map.<br>\n",
    "The original Image can be found at:<br>\n",
    ">https://www2.census.gov/geo/maps/dc10map/tract/st06_ca/c06075_san_francisco/DC10CT_C06075_004.pdf"
   ]
  },
  {
   "cell_type": "markdown",
   "metadata": {},
   "source": [
    "<img src='images/tract_locations.png' width = '500px',height='500px' alt='SF_Ditrict'>\n",
    "<div align ='center'> Tract Locations</div>"
   ]
  },
  {
   "cell_type": "markdown",
   "metadata": {},
   "source": [
    "The tracts which are located near our grocery store include:<br>\n",
    "164, 165, 157, 158.02, 158.01"
   ]
  },
  {
   "cell_type": "code",
   "execution_count": 127,
   "metadata": {
    "collapsed": true
   },
   "outputs": [],
   "source": [
    "local_pop_df = pop_df[pop_df['geo_name'].str.contains('164|165|157|158.01|158.02',regex = True)]"
   ]
  },
  {
   "cell_type": "code",
   "execution_count": 128,
   "metadata": {
    "scrolled": true
   },
   "outputs": [
    {
     "data": {
      "text/html": [
       "<div>\n",
       "<style scoped>\n",
       "    .dataframe tbody tr th:only-of-type {\n",
       "        vertical-align: middle;\n",
       "    }\n",
       "\n",
       "    .dataframe tbody tr th {\n",
       "        vertical-align: top;\n",
       "    }\n",
       "\n",
       "    .dataframe thead th {\n",
       "        text-align: right;\n",
       "    }\n",
       "</style>\n",
       "<table border=\"1\" class=\"dataframe\">\n",
       "  <thead>\n",
       "    <tr style=\"text-align: right;\">\n",
       "      <th></th>\n",
       "      <th>year</th>\n",
       "      <th>geo_name</th>\n",
       "      <th>geo</th>\n",
       "      <th>income</th>\n",
       "    </tr>\n",
       "  </thead>\n",
       "  <tbody>\n",
       "    <tr>\n",
       "      <th>280</th>\n",
       "      <td>2016</td>\n",
       "      <td>Census Tract 158.01</td>\n",
       "      <td>14000US06075015801</td>\n",
       "      <td>66698.0</td>\n",
       "    </tr>\n",
       "    <tr>\n",
       "      <th>281</th>\n",
       "      <td>2013</td>\n",
       "      <td>Census Tract 158.01</td>\n",
       "      <td>14000US06075015801</td>\n",
       "      <td>61500.0</td>\n",
       "    </tr>\n",
       "    <tr>\n",
       "      <th>282</th>\n",
       "      <td>2014</td>\n",
       "      <td>Census Tract 158.01</td>\n",
       "      <td>14000US06075015801</td>\n",
       "      <td>72568.0</td>\n",
       "    </tr>\n",
       "    <tr>\n",
       "      <th>283</th>\n",
       "      <td>2015</td>\n",
       "      <td>Census Tract 158.01</td>\n",
       "      <td>14000US06075015801</td>\n",
       "      <td>71339.0</td>\n",
       "    </tr>\n",
       "    <tr>\n",
       "      <th>360</th>\n",
       "      <td>2016</td>\n",
       "      <td>Census Tract 164</td>\n",
       "      <td>14000US06075016400</td>\n",
       "      <td>107254.0</td>\n",
       "    </tr>\n",
       "  </tbody>\n",
       "</table>\n",
       "</div>"
      ],
      "text/plain": [
       "     year             geo_name                 geo    income\n",
       "280  2016  Census Tract 158.01  14000US06075015801   66698.0\n",
       "281  2013  Census Tract 158.01  14000US06075015801   61500.0\n",
       "282  2014  Census Tract 158.01  14000US06075015801   72568.0\n",
       "283  2015  Census Tract 158.01  14000US06075015801   71339.0\n",
       "360  2016     Census Tract 164  14000US06075016400  107254.0"
      ]
     },
     "execution_count": 128,
     "metadata": {},
     "output_type": "execute_result"
    }
   ],
   "source": [
    "local_pop_df.head()"
   ]
  },
  {
   "cell_type": "code",
   "execution_count": 185,
   "metadata": {},
   "outputs": [
    {
     "data": {
      "text/plain": [
       "(20, 4)"
      ]
     },
     "execution_count": 185,
     "metadata": {},
     "output_type": "execute_result"
    }
   ],
   "source": [
    "local_pop_df.shape"
   ]
  },
  {
   "cell_type": "code",
   "execution_count": 186,
   "metadata": {},
   "outputs": [
    {
     "data": {
      "text/plain": [
       "year          int64\n",
       "geo_name     object\n",
       "geo          object\n",
       "income      float64\n",
       "dtype: object"
      ]
     },
     "execution_count": 186,
     "metadata": {},
     "output_type": "execute_result"
    }
   ],
   "source": [
    "local_pop_df.dtypes"
   ]
  },
  {
   "cell_type": "markdown",
   "metadata": {},
   "source": [
    "This gives us a dataset with the year and median household income for our tracts of interest"
   ]
  },
  {
   "cell_type": "code",
   "execution_count": 187,
   "metadata": {
    "collapsed": true
   },
   "outputs": [],
   "source": [
    "local_pop_df = local_pop_df.astype({'income':'float64'})"
   ]
  },
  {
   "cell_type": "code",
   "execution_count": 188,
   "metadata": {},
   "outputs": [
    {
     "data": {
      "text/plain": [
       "year          int64\n",
       "geo_name     object\n",
       "geo          object\n",
       "income      float64\n",
       "dtype: object"
      ]
     },
     "execution_count": 188,
     "metadata": {},
     "output_type": "execute_result"
    }
   ],
   "source": [
    "local_pop_df.dtypes"
   ]
  },
  {
   "cell_type": "code",
   "execution_count": 133,
   "metadata": {},
   "outputs": [
    {
     "data": {
      "text/plain": [
       "[<matplotlib.text.Text at 0x1a0f4b27f0>,\n",
       " <matplotlib.text.Text at 0x1a0f4ab160>]"
      ]
     },
     "execution_count": 133,
     "metadata": {},
     "output_type": "execute_result"
    },
    {
     "data": {
      "image/png": "[encoded data removed]",
      "text/plain": [
       "<matplotlib.figure.Figure at 0x1a14d61fd0>"
      ]
     },
     "metadata": {},
     "output_type": "display_data"
    },
    {
     "data": {
      "image/png": "[encoded data removed]",
      "text/plain": [
       "<matplotlib.figure.Figure at 0x1a11e36080>"
      ]
     },
     "metadata": {},
     "output_type": "display_data"
    }
   ],
   "source": [
    "fig, axs = plt.subplots(figsize=(10,10))\n",
    "sns.factorplot(data = local_pop_df, x = 'year', y = 'income',hue='geo_name',ax = axs)\n",
    "axs.set(xlabel = 'Year',ylabel = 'Median Household Income')"
   ]
  },
  {
   "cell_type": "markdown",
   "metadata": {},
   "source": [
    "Apart from Tract 158.01, all the other tracts in the vicinity of our store have seen a significant increase in the mean household income. <br>\n",
    "> This is an important factor as it indicates the economic status of the majority of our customers. As most of the customers are observing an increase in their household income, it should ensure a stable customer base for our store as well."
   ]
  },
  {
   "cell_type": "markdown",
   "metadata": {
    "collapsed": true
   },
   "source": [
    "Let's combine all the values from the tracts in our vicinity and compare them with the rest of the tracts in the city."
   ]
  },
  {
   "cell_type": "code",
   "execution_count": 217,
   "metadata": {
    "collapsed": true
   },
   "outputs": [],
   "source": [
    "local_mean_income_df = local_pop_df.groupby(['year']).mean()"
   ]
  },
  {
   "cell_type": "code",
   "execution_count": 218,
   "metadata": {},
   "outputs": [],
   "source": [
    "local_mean_income_df['locality'] = 'Local to Store'"
   ]
  },
  {
   "cell_type": "code",
   "execution_count": 219,
   "metadata": {},
   "outputs": [],
   "source": [
    "mask = pop_df['geo_name'].isin(['Census Tract 164', 'Census Tract 165', 'Census Tract 157','Census Tract 158.01',\n",
    "                                'Census Tract 158.02'])\n",
    "non_local_pop_df = pop_df[~mask]"
   ]
  },
  {
   "cell_type": "code",
   "execution_count": 220,
   "metadata": {},
   "outputs": [
    {
     "data": {
      "text/plain": [
       "(768, 4)"
      ]
     },
     "execution_count": 220,
     "metadata": {},
     "output_type": "execute_result"
    }
   ],
   "source": [
    "non_local_pop_df.shape"
   ]
  },
  {
   "cell_type": "code",
   "execution_count": 221,
   "metadata": {},
   "outputs": [
    {
     "data": {
      "text/html": [
       "<div>\n",
       "<style scoped>\n",
       "    .dataframe tbody tr th:only-of-type {\n",
       "        vertical-align: middle;\n",
       "    }\n",
       "\n",
       "    .dataframe tbody tr th {\n",
       "        vertical-align: top;\n",
       "    }\n",
       "\n",
       "    .dataframe thead th {\n",
       "        text-align: right;\n",
       "    }\n",
       "</style>\n",
       "<table border=\"1\" class=\"dataframe\">\n",
       "  <thead>\n",
       "    <tr style=\"text-align: right;\">\n",
       "      <th></th>\n",
       "      <th>year</th>\n",
       "      <th>geo_name</th>\n",
       "      <th>geo</th>\n",
       "      <th>income</th>\n",
       "    </tr>\n",
       "  </thead>\n",
       "  <tbody>\n",
       "    <tr>\n",
       "      <th>0</th>\n",
       "      <td>2016</td>\n",
       "      <td>Census Tract 264.01</td>\n",
       "      <td>14000US06075026401</td>\n",
       "      <td>50694.0</td>\n",
       "    </tr>\n",
       "    <tr>\n",
       "      <th>1</th>\n",
       "      <td>2013</td>\n",
       "      <td>Census Tract 264.01</td>\n",
       "      <td>14000US06075026401</td>\n",
       "      <td>46514.0</td>\n",
       "    </tr>\n",
       "    <tr>\n",
       "      <th>2</th>\n",
       "      <td>2014</td>\n",
       "      <td>Census Tract 264.01</td>\n",
       "      <td>14000US06075026401</td>\n",
       "      <td>45451.0</td>\n",
       "    </tr>\n",
       "    <tr>\n",
       "      <th>3</th>\n",
       "      <td>2015</td>\n",
       "      <td>Census Tract 264.01</td>\n",
       "      <td>14000US06075026401</td>\n",
       "      <td>46150.0</td>\n",
       "    </tr>\n",
       "    <tr>\n",
       "      <th>4</th>\n",
       "      <td>2016</td>\n",
       "      <td>Census Tract 611</td>\n",
       "      <td>14000US06075061100</td>\n",
       "      <td>17218.0</td>\n",
       "    </tr>\n",
       "  </tbody>\n",
       "</table>\n",
       "</div>"
      ],
      "text/plain": [
       "   year             geo_name                 geo   income\n",
       "0  2016  Census Tract 264.01  14000US06075026401  50694.0\n",
       "1  2013  Census Tract 264.01  14000US06075026401  46514.0\n",
       "2  2014  Census Tract 264.01  14000US06075026401  45451.0\n",
       "3  2015  Census Tract 264.01  14000US06075026401  46150.0\n",
       "4  2016     Census Tract 611  14000US06075061100  17218.0"
      ]
     },
     "execution_count": 221,
     "metadata": {},
     "output_type": "execute_result"
    }
   ],
   "source": [
    "non_local_pop_df.head()"
   ]
  },
  {
   "cell_type": "code",
   "execution_count": 222,
   "metadata": {
    "scrolled": true
   },
   "outputs": [
    {
     "data": {
      "text/plain": [
       "year         int64\n",
       "geo_name    object\n",
       "geo         object\n",
       "income      object\n",
       "dtype: object"
      ]
     },
     "execution_count": 222,
     "metadata": {},
     "output_type": "execute_result"
    }
   ],
   "source": [
    "non_local_pop_df.dtypes"
   ]
  },
  {
   "cell_type": "code",
   "execution_count": 223,
   "metadata": {},
   "outputs": [
    {
     "data": {
      "text/html": [
       "<div>\n",
       "<style scoped>\n",
       "    .dataframe tbody tr th:only-of-type {\n",
       "        vertical-align: middle;\n",
       "    }\n",
       "\n",
       "    .dataframe tbody tr th {\n",
       "        vertical-align: top;\n",
       "    }\n",
       "\n",
       "    .dataframe thead th {\n",
       "        text-align: right;\n",
       "    }\n",
       "</style>\n",
       "<table border=\"1\" class=\"dataframe\">\n",
       "  <thead>\n",
       "    <tr style=\"text-align: right;\">\n",
       "      <th></th>\n",
       "      <th>year</th>\n",
       "    </tr>\n",
       "  </thead>\n",
       "  <tbody>\n",
       "    <tr>\n",
       "      <th>count</th>\n",
       "      <td>768.000000</td>\n",
       "    </tr>\n",
       "    <tr>\n",
       "      <th>mean</th>\n",
       "      <td>2014.500000</td>\n",
       "    </tr>\n",
       "    <tr>\n",
       "      <th>std</th>\n",
       "      <td>1.118763</td>\n",
       "    </tr>\n",
       "    <tr>\n",
       "      <th>min</th>\n",
       "      <td>2013.000000</td>\n",
       "    </tr>\n",
       "    <tr>\n",
       "      <th>25%</th>\n",
       "      <td>2013.750000</td>\n",
       "    </tr>\n",
       "    <tr>\n",
       "      <th>50%</th>\n",
       "      <td>2014.500000</td>\n",
       "    </tr>\n",
       "    <tr>\n",
       "      <th>75%</th>\n",
       "      <td>2015.250000</td>\n",
       "    </tr>\n",
       "    <tr>\n",
       "      <th>max</th>\n",
       "      <td>2016.000000</td>\n",
       "    </tr>\n",
       "  </tbody>\n",
       "</table>\n",
       "</div>"
      ],
      "text/plain": [
       "              year\n",
       "count   768.000000\n",
       "mean   2014.500000\n",
       "std       1.118763\n",
       "min    2013.000000\n",
       "25%    2013.750000\n",
       "50%    2014.500000\n",
       "75%    2015.250000\n",
       "max    2016.000000"
      ]
     },
     "execution_count": 223,
     "metadata": {},
     "output_type": "execute_result"
    }
   ],
   "source": [
    "non_local_pop_df.describe()"
   ]
  },
  {
   "cell_type": "code",
   "execution_count": 224,
   "metadata": {},
   "outputs": [],
   "source": [
    "non_local_pop_df = non_local_pop_df[non_local_pop_df.income != 'None']"
   ]
  },
  {
   "cell_type": "code",
   "execution_count": 225,
   "metadata": {
    "collapsed": true
   },
   "outputs": [],
   "source": [
    "non_local_pop_df = non_local_pop_df.astype({'income':'float64'})"
   ]
  },
  {
   "cell_type": "code",
   "execution_count": 226,
   "metadata": {
    "collapsed": true
   },
   "outputs": [],
   "source": [
    "non_local_pop_mean_df = non_local_pop_df.groupby(['year']).mean()"
   ]
  },
  {
   "cell_type": "code",
   "execution_count": 227,
   "metadata": {},
   "outputs": [],
   "source": [
    "non_local_pop_mean_df['locality'] = 'Rest of the city'"
   ]
  },
  {
   "cell_type": "code",
   "execution_count": 228,
   "metadata": {},
   "outputs": [],
   "source": [
    "city_mean_pop_df = local_mean_income_df.append(non_local_pop_mean_df)"
   ]
  },
  {
   "cell_type": "code",
   "execution_count": 229,
   "metadata": {},
   "outputs": [
    {
     "data": {
      "text/html": [
       "<div>\n",
       "<style scoped>\n",
       "    .dataframe tbody tr th:only-of-type {\n",
       "        vertical-align: middle;\n",
       "    }\n",
       "\n",
       "    .dataframe tbody tr th {\n",
       "        vertical-align: top;\n",
       "    }\n",
       "\n",
       "    .dataframe thead th {\n",
       "        text-align: right;\n",
       "    }\n",
       "</style>\n",
       "<table border=\"1\" class=\"dataframe\">\n",
       "  <thead>\n",
       "    <tr style=\"text-align: right;\">\n",
       "      <th></th>\n",
       "      <th>income</th>\n",
       "      <th>locality</th>\n",
       "    </tr>\n",
       "    <tr>\n",
       "      <th>year</th>\n",
       "      <th></th>\n",
       "      <th></th>\n",
       "    </tr>\n",
       "  </thead>\n",
       "  <tbody>\n",
       "    <tr>\n",
       "      <th>2013</th>\n",
       "      <td>77579.000000</td>\n",
       "      <td>Local to Store</td>\n",
       "    </tr>\n",
       "    <tr>\n",
       "      <th>2014</th>\n",
       "      <td>82278.000000</td>\n",
       "      <td>Local to Store</td>\n",
       "    </tr>\n",
       "    <tr>\n",
       "      <th>2015</th>\n",
       "      <td>81945.000000</td>\n",
       "      <td>Local to Store</td>\n",
       "    </tr>\n",
       "    <tr>\n",
       "      <th>2016</th>\n",
       "      <td>97468.800000</td>\n",
       "      <td>Local to Store</td>\n",
       "    </tr>\n",
       "    <tr>\n",
       "      <th>2013</th>\n",
       "      <td>79675.236842</td>\n",
       "      <td>Rest of the city</td>\n",
       "    </tr>\n",
       "    <tr>\n",
       "      <th>2014</th>\n",
       "      <td>81637.863158</td>\n",
       "      <td>Rest of the city</td>\n",
       "    </tr>\n",
       "    <tr>\n",
       "      <th>2015</th>\n",
       "      <td>85095.195767</td>\n",
       "      <td>Rest of the city</td>\n",
       "    </tr>\n",
       "    <tr>\n",
       "      <th>2016</th>\n",
       "      <td>90983.402116</td>\n",
       "      <td>Rest of the city</td>\n",
       "    </tr>\n",
       "  </tbody>\n",
       "</table>\n",
       "</div>"
      ],
      "text/plain": [
       "            income          locality\n",
       "year                                \n",
       "2013  77579.000000    Local to Store\n",
       "2014  82278.000000    Local to Store\n",
       "2015  81945.000000    Local to Store\n",
       "2016  97468.800000    Local to Store\n",
       "2013  79675.236842  Rest of the city\n",
       "2014  81637.863158  Rest of the city\n",
       "2015  85095.195767  Rest of the city\n",
       "2016  90983.402116  Rest of the city"
      ]
     },
     "execution_count": 229,
     "metadata": {},
     "output_type": "execute_result"
    }
   ],
   "source": [
    "city_mean_pop_df"
   ]
  },
  {
   "cell_type": "code",
   "execution_count": 230,
   "metadata": {
    "scrolled": false
   },
   "outputs": [
    {
     "name": "stderr",
     "output_type": "stream",
     "text": [
      "/anaconda/lib/python3.6/site-packages/pandas/core/indexes/base.py:3846: FutureWarning: elementwise comparison failed; returning scalar instead, but in the future will perform elementwise comparison\n",
      "  result = op(self.values, np.asarray(other))\n"
     ]
    },
    {
     "data": {
      "text/plain": [
       "[<matplotlib.text.Text at 0x1a15ce3a90>,\n",
       " <matplotlib.text.Text at 0x1a15ccd1d0>]"
      ]
     },
     "execution_count": 230,
     "metadata": {},
     "output_type": "execute_result"
    },
    {
     "data": {
      "image/png": "[encoded data removed]",
      "text/plain": [
       "<matplotlib.figure.Figure at 0x1a15ca5c18>"
      ]
     },
     "metadata": {},
     "output_type": "display_data"
    },
    {
     "data": {
      "image/png": "[encoded data removed]",
      "text/plain": [
       "<matplotlib.figure.Figure at 0x1a15e55eb8>"
      ]
     },
     "metadata": {},
     "output_type": "display_data"
    }
   ],
   "source": [
    "fig, axs = plt.subplots(figsize=(10,10))\n",
    "sns.factorplot(data = city_mean_pop_df, x = city_mean_pop_df.index, y = 'income',hue='locality',ax = axs)\n",
    "axs.set(xlabel = 'Year',ylabel = 'Median Household Income')"
   ]
  },
  {
   "cell_type": "code",
   "execution_count": null,
   "metadata": {
    "collapsed": true
   },
   "outputs": [],
   "source": []
  },
  {
   "cell_type": "code",
   "execution_count": null,
   "metadata": {
    "collapsed": true
   },
   "outputs": [],
   "source": []
  },
  {
   "cell_type": "markdown",
   "metadata": {},
   "source": [
    "## Types of Nearby Businesses"
   ]
  },
  {
   "cell_type": "markdown",
   "metadata": {},
   "source": [
    "The types of businesses in the vicinity can have a huge impact on our grocery store."
   ]
  },
  {
   "cell_type": "code",
   "execution_count": 32,
   "metadata": {
    "collapsed": true
   },
   "outputs": [],
   "source": [
    "business_df = pd.read_csv('data/Registered_Business_Locations_-_San_Francisco.csv')"
   ]
  },
  {
   "cell_type": "code",
   "execution_count": 33,
   "metadata": {},
   "outputs": [
    {
     "data": {
      "text/html": [
       "<div>\n",
       "<style scoped>\n",
       "    .dataframe tbody tr th:only-of-type {\n",
       "        vertical-align: middle;\n",
       "    }\n",
       "\n",
       "    .dataframe tbody tr th {\n",
       "        vertical-align: top;\n",
       "    }\n",
       "\n",
       "    .dataframe thead th {\n",
       "        text-align: right;\n",
       "    }\n",
       "</style>\n",
       "<table border=\"1\" class=\"dataframe\">\n",
       "  <thead>\n",
       "    <tr style=\"text-align: right;\">\n",
       "      <th></th>\n",
       "      <th>Location Id</th>\n",
       "      <th>Business Account Number</th>\n",
       "      <th>Ownership Name</th>\n",
       "      <th>DBA Name</th>\n",
       "      <th>Street Address</th>\n",
       "      <th>City</th>\n",
       "      <th>State</th>\n",
       "      <th>Source Zipcode</th>\n",
       "      <th>Business Start Date</th>\n",
       "      <th>Business End Date</th>\n",
       "      <th>...</th>\n",
       "      <th>NAICS Code</th>\n",
       "      <th>NAICS Code Description</th>\n",
       "      <th>Parking Tax</th>\n",
       "      <th>Transient Occupancy Tax</th>\n",
       "      <th>LIC Code</th>\n",
       "      <th>LIC Code Description</th>\n",
       "      <th>Supervisor District</th>\n",
       "      <th>Neighborhoods - Analysis Boundaries</th>\n",
       "      <th>Business Corridor</th>\n",
       "      <th>Business Location</th>\n",
       "    </tr>\n",
       "  </thead>\n",
       "  <tbody>\n",
       "    <tr>\n",
       "      <th>0</th>\n",
       "      <td>0376718-03-001</td>\n",
       "      <td>376718</td>\n",
       "      <td>Chan Renee W</td>\n",
       "      <td>Blossoming Lotus Acupuncture</td>\n",
       "      <td>2670 Leavenworth St A</td>\n",
       "      <td>San Francisco</td>\n",
       "      <td>CA</td>\n",
       "      <td>94109.0</td>\n",
       "      <td>01/28/2010</td>\n",
       "      <td>NaN</td>\n",
       "      <td>...</td>\n",
       "      <td>6100-6299</td>\n",
       "      <td>Private Education and Health Services</td>\n",
       "      <td>False</td>\n",
       "      <td>False</td>\n",
       "      <td>NaN</td>\n",
       "      <td>NaN</td>\n",
       "      <td>2.0</td>\n",
       "      <td>North Beach</td>\n",
       "      <td>NaN</td>\n",
       "      <td>2670 LEAVENWORTH ST\\nA San Francisco, CA 94109\\n</td>\n",
       "    </tr>\n",
       "    <tr>\n",
       "      <th>1</th>\n",
       "      <td>0474285-05-001</td>\n",
       "      <td>474285</td>\n",
       "      <td>Pressed Juicery Inc</td>\n",
       "      <td>Pressed Juicery</td>\n",
       "      <td>550 Gene Friend Way</td>\n",
       "      <td>San Francisco</td>\n",
       "      <td>CA</td>\n",
       "      <td>94158.0</td>\n",
       "      <td>12/01/2012</td>\n",
       "      <td>NaN</td>\n",
       "      <td>...</td>\n",
       "      <td>4400-4599</td>\n",
       "      <td>Retail Trade</td>\n",
       "      <td>False</td>\n",
       "      <td>False</td>\n",
       "      <td>NaN</td>\n",
       "      <td>NaN</td>\n",
       "      <td>6.0</td>\n",
       "      <td>Mission Bay</td>\n",
       "      <td>NaN</td>\n",
       "      <td>550 GENE FRIEND WAY\\nSAN FRANCISCO, CA 94158\\n...</td>\n",
       "    </tr>\n",
       "    <tr>\n",
       "      <th>2</th>\n",
       "      <td>0474285-06-001</td>\n",
       "      <td>474285</td>\n",
       "      <td>Pressed Juicery Inc</td>\n",
       "      <td>Pressed Juicery</td>\n",
       "      <td>865 Market St #9001</td>\n",
       "      <td>San+francisco</td>\n",
       "      <td>CA</td>\n",
       "      <td>94103.0</td>\n",
       "      <td>12/01/2012</td>\n",
       "      <td>NaN</td>\n",
       "      <td>...</td>\n",
       "      <td>4400-4599</td>\n",
       "      <td>Retail Trade</td>\n",
       "      <td>False</td>\n",
       "      <td>False</td>\n",
       "      <td>NaN</td>\n",
       "      <td>NaN</td>\n",
       "      <td>NaN</td>\n",
       "      <td>NaN</td>\n",
       "      <td>NaN</td>\n",
       "      <td>865 MARKET ST\\nSAN FRANCISCO, CA 94103\\n(37.78...</td>\n",
       "    </tr>\n",
       "    <tr>\n",
       "      <th>3</th>\n",
       "      <td>1045798-12-151</td>\n",
       "      <td>1021444</td>\n",
       "      <td>Benhammou Ahmida</td>\n",
       "      <td>Zaalouk Market &amp; Deli Grocery</td>\n",
       "      <td>1209 Sutter St</td>\n",
       "      <td>San Francisco</td>\n",
       "      <td>CA</td>\n",
       "      <td>94109.0</td>\n",
       "      <td>12/01/2015</td>\n",
       "      <td>NaN</td>\n",
       "      <td>...</td>\n",
       "      <td>4400-4599</td>\n",
       "      <td>Retail Trade</td>\n",
       "      <td>False</td>\n",
       "      <td>False</td>\n",
       "      <td>NaN</td>\n",
       "      <td>NaN</td>\n",
       "      <td>3.0</td>\n",
       "      <td>Nob Hill</td>\n",
       "      <td>NaN</td>\n",
       "      <td>1209 SUTTER ST\\nSAN FRANCISCO, CA 94109\\n(37.7...</td>\n",
       "    </tr>\n",
       "    <tr>\n",
       "      <th>4</th>\n",
       "      <td>1170655-12-171</td>\n",
       "      <td>1080758</td>\n",
       "      <td>San Francisco Security Services Llc</td>\n",
       "      <td>San Francisco Security Services Llc</td>\n",
       "      <td>588 Sutter St</td>\n",
       "      <td>San Francisco</td>\n",
       "      <td>CA</td>\n",
       "      <td>94102.0</td>\n",
       "      <td>12/01/2017</td>\n",
       "      <td>NaN</td>\n",
       "      <td>...</td>\n",
       "      <td>NaN</td>\n",
       "      <td>NaN</td>\n",
       "      <td>False</td>\n",
       "      <td>False</td>\n",
       "      <td>NaN</td>\n",
       "      <td>NaN</td>\n",
       "      <td>NaN</td>\n",
       "      <td>NaN</td>\n",
       "      <td>NaN</td>\n",
       "      <td>NaN</td>\n",
       "    </tr>\n",
       "  </tbody>\n",
       "</table>\n",
       "<p>5 rows × 26 columns</p>\n",
       "</div>"
      ],
      "text/plain": [
       "      Location Id  Business Account Number  \\\n",
       "0  0376718-03-001                   376718   \n",
       "1  0474285-05-001                   474285   \n",
       "2  0474285-06-001                   474285   \n",
       "3  1045798-12-151                  1021444   \n",
       "4  1170655-12-171                  1080758   \n",
       "\n",
       "                        Ownership Name                             DBA Name  \\\n",
       "0                         Chan Renee W         Blossoming Lotus Acupuncture   \n",
       "1                  Pressed Juicery Inc                      Pressed Juicery   \n",
       "2                  Pressed Juicery Inc                      Pressed Juicery   \n",
       "3                     Benhammou Ahmida        Zaalouk Market & Deli Grocery   \n",
       "4  San Francisco Security Services Llc  San Francisco Security Services Llc   \n",
       "\n",
       "          Street Address           City State  Source Zipcode  \\\n",
       "0  2670 Leavenworth St A  San Francisco    CA         94109.0   \n",
       "1    550 Gene Friend Way  San Francisco    CA         94158.0   \n",
       "2    865 Market St #9001  San+francisco    CA         94103.0   \n",
       "3         1209 Sutter St  San Francisco    CA         94109.0   \n",
       "4          588 Sutter St  San Francisco    CA         94102.0   \n",
       "\n",
       "  Business Start Date Business End Date  \\\n",
       "0          01/28/2010               NaN   \n",
       "1          12/01/2012               NaN   \n",
       "2          12/01/2012               NaN   \n",
       "3          12/01/2015               NaN   \n",
       "4          12/01/2017               NaN   \n",
       "\n",
       "                         ...                         NAICS Code  \\\n",
       "0                        ...                          6100-6299   \n",
       "1                        ...                          4400-4599   \n",
       "2                        ...                          4400-4599   \n",
       "3                        ...                          4400-4599   \n",
       "4                        ...                                NaN   \n",
       "\n",
       "                  NAICS Code Description Parking Tax Transient Occupancy Tax  \\\n",
       "0  Private Education and Health Services       False                   False   \n",
       "1                           Retail Trade       False                   False   \n",
       "2                           Retail Trade       False                   False   \n",
       "3                           Retail Trade       False                   False   \n",
       "4                                    NaN       False                   False   \n",
       "\n",
       "  LIC Code LIC Code Description Supervisor District  \\\n",
       "0      NaN                  NaN                 2.0   \n",
       "1      NaN                  NaN                 6.0   \n",
       "2      NaN                  NaN                 NaN   \n",
       "3      NaN                  NaN                 3.0   \n",
       "4      NaN                  NaN                 NaN   \n",
       "\n",
       "  Neighborhoods - Analysis Boundaries  Business Corridor  \\\n",
       "0                         North Beach                NaN   \n",
       "1                         Mission Bay                NaN   \n",
       "2                                 NaN                NaN   \n",
       "3                            Nob Hill                NaN   \n",
       "4                                 NaN                NaN   \n",
       "\n",
       "                                   Business Location  \n",
       "0   2670 LEAVENWORTH ST\\nA San Francisco, CA 94109\\n  \n",
       "1  550 GENE FRIEND WAY\\nSAN FRANCISCO, CA 94158\\n...  \n",
       "2  865 MARKET ST\\nSAN FRANCISCO, CA 94103\\n(37.78...  \n",
       "3  1209 SUTTER ST\\nSAN FRANCISCO, CA 94109\\n(37.7...  \n",
       "4                                                NaN  \n",
       "\n",
       "[5 rows x 26 columns]"
      ]
     },
     "execution_count": 33,
     "metadata": {},
     "output_type": "execute_result"
    }
   ],
   "source": [
    "business_df.head()"
   ]
  },
  {
   "cell_type": "markdown",
   "metadata": {},
   "source": [
    "Let's first extract the data associated with our grocery store zipcode which is 94117"
   ]
  },
  {
   "cell_type": "code",
   "execution_count": 34,
   "metadata": {
    "collapsed": true
   },
   "outputs": [],
   "source": [
    "business_df = business_df[business_df['Source Zipcode'] == 94117.0]"
   ]
  },
  {
   "cell_type": "code",
   "execution_count": 35,
   "metadata": {},
   "outputs": [
    {
     "data": {
      "text/html": [
       "<div>\n",
       "<style scoped>\n",
       "    .dataframe tbody tr th:only-of-type {\n",
       "        vertical-align: middle;\n",
       "    }\n",
       "\n",
       "    .dataframe tbody tr th {\n",
       "        vertical-align: top;\n",
       "    }\n",
       "\n",
       "    .dataframe thead th {\n",
       "        text-align: right;\n",
       "    }\n",
       "</style>\n",
       "<table border=\"1\" class=\"dataframe\">\n",
       "  <thead>\n",
       "    <tr style=\"text-align: right;\">\n",
       "      <th></th>\n",
       "      <th>Location Id</th>\n",
       "      <th>Business Account Number</th>\n",
       "      <th>Ownership Name</th>\n",
       "      <th>DBA Name</th>\n",
       "      <th>Street Address</th>\n",
       "      <th>City</th>\n",
       "      <th>State</th>\n",
       "      <th>Source Zipcode</th>\n",
       "      <th>Business Start Date</th>\n",
       "      <th>Business End Date</th>\n",
       "      <th>...</th>\n",
       "      <th>NAICS Code</th>\n",
       "      <th>NAICS Code Description</th>\n",
       "      <th>Parking Tax</th>\n",
       "      <th>Transient Occupancy Tax</th>\n",
       "      <th>LIC Code</th>\n",
       "      <th>LIC Code Description</th>\n",
       "      <th>Supervisor District</th>\n",
       "      <th>Neighborhoods - Analysis Boundaries</th>\n",
       "      <th>Business Corridor</th>\n",
       "      <th>Business Location</th>\n",
       "    </tr>\n",
       "  </thead>\n",
       "  <tbody>\n",
       "    <tr>\n",
       "      <th>9</th>\n",
       "      <td>1173616-12-171</td>\n",
       "      <td>1081188</td>\n",
       "      <td>Ariel Sultan</td>\n",
       "      <td>Ariel Sultan</td>\n",
       "      <td>180 Carl St Apt 1</td>\n",
       "      <td>San Francisco</td>\n",
       "      <td>CA</td>\n",
       "      <td>94117.0</td>\n",
       "      <td>12/27/2017</td>\n",
       "      <td>NaN</td>\n",
       "      <td>...</td>\n",
       "      <td>7210-7219</td>\n",
       "      <td>Accommodations</td>\n",
       "      <td>False</td>\n",
       "      <td>True</td>\n",
       "      <td>NaN</td>\n",
       "      <td>NaN</td>\n",
       "      <td>5.0</td>\n",
       "      <td>Haight Ashbury</td>\n",
       "      <td>NaN</td>\n",
       "      <td>NaN</td>\n",
       "    </tr>\n",
       "    <tr>\n",
       "      <th>22</th>\n",
       "      <td>1173756-12-171</td>\n",
       "      <td>1081218</td>\n",
       "      <td>Jms Wired,llc</td>\n",
       "      <td>Careers Wired</td>\n",
       "      <td>1911 Hayes St</td>\n",
       "      <td>San Francisco</td>\n",
       "      <td>CA</td>\n",
       "      <td>94117.0</td>\n",
       "      <td>12/28/2017</td>\n",
       "      <td>NaN</td>\n",
       "      <td>...</td>\n",
       "      <td>5600-5699</td>\n",
       "      <td>Administrative and Support Services</td>\n",
       "      <td>False</td>\n",
       "      <td>False</td>\n",
       "      <td>NaN</td>\n",
       "      <td>NaN</td>\n",
       "      <td>5.0</td>\n",
       "      <td>Lone Mountain/USF</td>\n",
       "      <td>NaN</td>\n",
       "      <td>NaN</td>\n",
       "    </tr>\n",
       "    <tr>\n",
       "      <th>23</th>\n",
       "      <td>1173757-12-171</td>\n",
       "      <td>1081218</td>\n",
       "      <td>Jms Wired,llc</td>\n",
       "      <td>Jms Wired</td>\n",
       "      <td>1911 Hayes St</td>\n",
       "      <td>San Francisco</td>\n",
       "      <td>CA</td>\n",
       "      <td>94117.0</td>\n",
       "      <td>12/28/2017</td>\n",
       "      <td>NaN</td>\n",
       "      <td>...</td>\n",
       "      <td>5600-5699</td>\n",
       "      <td>Administrative and Support Services</td>\n",
       "      <td>False</td>\n",
       "      <td>False</td>\n",
       "      <td>NaN</td>\n",
       "      <td>NaN</td>\n",
       "      <td>5.0</td>\n",
       "      <td>Lone Mountain/USF</td>\n",
       "      <td>NaN</td>\n",
       "      <td>NaN</td>\n",
       "    </tr>\n",
       "    <tr>\n",
       "      <th>26</th>\n",
       "      <td>1173787-12-171</td>\n",
       "      <td>1081237</td>\n",
       "      <td>Nicholas Shen</td>\n",
       "      <td>Fillmore Penthouse</td>\n",
       "      <td>430 Fillmore St Apt C</td>\n",
       "      <td>San Francisco</td>\n",
       "      <td>CA</td>\n",
       "      <td>94117.0</td>\n",
       "      <td>12/28/2017</td>\n",
       "      <td>NaN</td>\n",
       "      <td>...</td>\n",
       "      <td>7210-7219</td>\n",
       "      <td>Accommodations</td>\n",
       "      <td>False</td>\n",
       "      <td>True</td>\n",
       "      <td>NaN</td>\n",
       "      <td>NaN</td>\n",
       "      <td>5.0</td>\n",
       "      <td>Hayes Valley</td>\n",
       "      <td>NaN</td>\n",
       "      <td>NaN</td>\n",
       "    </tr>\n",
       "    <tr>\n",
       "      <th>40</th>\n",
       "      <td>1060022-03-161</td>\n",
       "      <td>1029449</td>\n",
       "      <td>Evelyn Muir</td>\n",
       "      <td>Evelyn Muir</td>\n",
       "      <td>1516 Shrader St</td>\n",
       "      <td>San Francisco</td>\n",
       "      <td>CA</td>\n",
       "      <td>94117.0</td>\n",
       "      <td>01/01/2016</td>\n",
       "      <td>NaN</td>\n",
       "      <td>...</td>\n",
       "      <td>NaN</td>\n",
       "      <td>NaN</td>\n",
       "      <td>False</td>\n",
       "      <td>False</td>\n",
       "      <td>NaN</td>\n",
       "      <td>NaN</td>\n",
       "      <td>5.0</td>\n",
       "      <td>Inner Sunset</td>\n",
       "      <td>NaN</td>\n",
       "      <td>1516 SHRADER ST\\nSAN FRANCISCO, CA 94117\\n(37....</td>\n",
       "    </tr>\n",
       "  </tbody>\n",
       "</table>\n",
       "<p>5 rows × 26 columns</p>\n",
       "</div>"
      ],
      "text/plain": [
       "       Location Id  Business Account Number Ownership Name  \\\n",
       "9   1173616-12-171                  1081188   Ariel Sultan   \n",
       "22  1173756-12-171                  1081218  Jms Wired,llc   \n",
       "23  1173757-12-171                  1081218  Jms Wired,llc   \n",
       "26  1173787-12-171                  1081237  Nicholas Shen   \n",
       "40  1060022-03-161                  1029449    Evelyn Muir   \n",
       "\n",
       "              DBA Name         Street Address           City State  \\\n",
       "9         Ariel Sultan      180 Carl St Apt 1  San Francisco    CA   \n",
       "22       Careers Wired          1911 Hayes St  San Francisco    CA   \n",
       "23           Jms Wired          1911 Hayes St  San Francisco    CA   \n",
       "26  Fillmore Penthouse  430 Fillmore St Apt C  San Francisco    CA   \n",
       "40         Evelyn Muir        1516 Shrader St  San Francisco    CA   \n",
       "\n",
       "    Source Zipcode Business Start Date Business End Date  \\\n",
       "9          94117.0          12/27/2017               NaN   \n",
       "22         94117.0          12/28/2017               NaN   \n",
       "23         94117.0          12/28/2017               NaN   \n",
       "26         94117.0          12/28/2017               NaN   \n",
       "40         94117.0          01/01/2016               NaN   \n",
       "\n",
       "                          ...                         NAICS Code  \\\n",
       "9                         ...                          7210-7219   \n",
       "22                        ...                          5600-5699   \n",
       "23                        ...                          5600-5699   \n",
       "26                        ...                          7210-7219   \n",
       "40                        ...                                NaN   \n",
       "\n",
       "                 NAICS Code Description Parking Tax Transient Occupancy Tax  \\\n",
       "9                        Accommodations       False                    True   \n",
       "22  Administrative and Support Services       False                   False   \n",
       "23  Administrative and Support Services       False                   False   \n",
       "26                       Accommodations       False                    True   \n",
       "40                                  NaN       False                   False   \n",
       "\n",
       "   LIC Code LIC Code Description Supervisor District  \\\n",
       "9       NaN                  NaN                 5.0   \n",
       "22      NaN                  NaN                 5.0   \n",
       "23      NaN                  NaN                 5.0   \n",
       "26      NaN                  NaN                 5.0   \n",
       "40      NaN                  NaN                 5.0   \n",
       "\n",
       "   Neighborhoods - Analysis Boundaries  Business Corridor  \\\n",
       "9                       Haight Ashbury                NaN   \n",
       "22                   Lone Mountain/USF                NaN   \n",
       "23                   Lone Mountain/USF                NaN   \n",
       "26                        Hayes Valley                NaN   \n",
       "40                        Inner Sunset                NaN   \n",
       "\n",
       "                                    Business Location  \n",
       "9                                                 NaN  \n",
       "22                                                NaN  \n",
       "23                                                NaN  \n",
       "26                                                NaN  \n",
       "40  1516 SHRADER ST\\nSAN FRANCISCO, CA 94117\\n(37....  \n",
       "\n",
       "[5 rows x 26 columns]"
      ]
     },
     "execution_count": 35,
     "metadata": {},
     "output_type": "execute_result"
    }
   ],
   "source": [
    "business_df.head()"
   ]
  },
  {
   "cell_type": "markdown",
   "metadata": {},
   "source": [
    "Let's filter the businesses which are currently open, by making sure the Business End Date to be NaN."
   ]
  },
  {
   "cell_type": "code",
   "execution_count": 36,
   "metadata": {
    "collapsed": true
   },
   "outputs": [],
   "source": [
    "business_df = business_df[business_df['Business End Date'].isnull()]"
   ]
  },
  {
   "cell_type": "code",
   "execution_count": 37,
   "metadata": {},
   "outputs": [
    {
     "data": {
      "text/html": [
       "<div>\n",
       "<style scoped>\n",
       "    .dataframe tbody tr th:only-of-type {\n",
       "        vertical-align: middle;\n",
       "    }\n",
       "\n",
       "    .dataframe tbody tr th {\n",
       "        vertical-align: top;\n",
       "    }\n",
       "\n",
       "    .dataframe thead th {\n",
       "        text-align: right;\n",
       "    }\n",
       "</style>\n",
       "<table border=\"1\" class=\"dataframe\">\n",
       "  <thead>\n",
       "    <tr style=\"text-align: right;\">\n",
       "      <th></th>\n",
       "      <th>Location Id</th>\n",
       "      <th>Business Account Number</th>\n",
       "      <th>Ownership Name</th>\n",
       "      <th>DBA Name</th>\n",
       "      <th>Street Address</th>\n",
       "      <th>City</th>\n",
       "      <th>State</th>\n",
       "      <th>Source Zipcode</th>\n",
       "      <th>Business Start Date</th>\n",
       "      <th>Business End Date</th>\n",
       "      <th>...</th>\n",
       "      <th>NAICS Code</th>\n",
       "      <th>NAICS Code Description</th>\n",
       "      <th>Parking Tax</th>\n",
       "      <th>Transient Occupancy Tax</th>\n",
       "      <th>LIC Code</th>\n",
       "      <th>LIC Code Description</th>\n",
       "      <th>Supervisor District</th>\n",
       "      <th>Neighborhoods - Analysis Boundaries</th>\n",
       "      <th>Business Corridor</th>\n",
       "      <th>Business Location</th>\n",
       "    </tr>\n",
       "  </thead>\n",
       "  <tbody>\n",
       "    <tr>\n",
       "      <th>9</th>\n",
       "      <td>1173616-12-171</td>\n",
       "      <td>1081188</td>\n",
       "      <td>Ariel Sultan</td>\n",
       "      <td>Ariel Sultan</td>\n",
       "      <td>180 Carl St Apt 1</td>\n",
       "      <td>San Francisco</td>\n",
       "      <td>CA</td>\n",
       "      <td>94117.0</td>\n",
       "      <td>12/27/2017</td>\n",
       "      <td>NaN</td>\n",
       "      <td>...</td>\n",
       "      <td>7210-7219</td>\n",
       "      <td>Accommodations</td>\n",
       "      <td>False</td>\n",
       "      <td>True</td>\n",
       "      <td>NaN</td>\n",
       "      <td>NaN</td>\n",
       "      <td>5.0</td>\n",
       "      <td>Haight Ashbury</td>\n",
       "      <td>NaN</td>\n",
       "      <td>NaN</td>\n",
       "    </tr>\n",
       "    <tr>\n",
       "      <th>22</th>\n",
       "      <td>1173756-12-171</td>\n",
       "      <td>1081218</td>\n",
       "      <td>Jms Wired,llc</td>\n",
       "      <td>Careers Wired</td>\n",
       "      <td>1911 Hayes St</td>\n",
       "      <td>San Francisco</td>\n",
       "      <td>CA</td>\n",
       "      <td>94117.0</td>\n",
       "      <td>12/28/2017</td>\n",
       "      <td>NaN</td>\n",
       "      <td>...</td>\n",
       "      <td>5600-5699</td>\n",
       "      <td>Administrative and Support Services</td>\n",
       "      <td>False</td>\n",
       "      <td>False</td>\n",
       "      <td>NaN</td>\n",
       "      <td>NaN</td>\n",
       "      <td>5.0</td>\n",
       "      <td>Lone Mountain/USF</td>\n",
       "      <td>NaN</td>\n",
       "      <td>NaN</td>\n",
       "    </tr>\n",
       "    <tr>\n",
       "      <th>23</th>\n",
       "      <td>1173757-12-171</td>\n",
       "      <td>1081218</td>\n",
       "      <td>Jms Wired,llc</td>\n",
       "      <td>Jms Wired</td>\n",
       "      <td>1911 Hayes St</td>\n",
       "      <td>San Francisco</td>\n",
       "      <td>CA</td>\n",
       "      <td>94117.0</td>\n",
       "      <td>12/28/2017</td>\n",
       "      <td>NaN</td>\n",
       "      <td>...</td>\n",
       "      <td>5600-5699</td>\n",
       "      <td>Administrative and Support Services</td>\n",
       "      <td>False</td>\n",
       "      <td>False</td>\n",
       "      <td>NaN</td>\n",
       "      <td>NaN</td>\n",
       "      <td>5.0</td>\n",
       "      <td>Lone Mountain/USF</td>\n",
       "      <td>NaN</td>\n",
       "      <td>NaN</td>\n",
       "    </tr>\n",
       "    <tr>\n",
       "      <th>26</th>\n",
       "      <td>1173787-12-171</td>\n",
       "      <td>1081237</td>\n",
       "      <td>Nicholas Shen</td>\n",
       "      <td>Fillmore Penthouse</td>\n",
       "      <td>430 Fillmore St Apt C</td>\n",
       "      <td>San Francisco</td>\n",
       "      <td>CA</td>\n",
       "      <td>94117.0</td>\n",
       "      <td>12/28/2017</td>\n",
       "      <td>NaN</td>\n",
       "      <td>...</td>\n",
       "      <td>7210-7219</td>\n",
       "      <td>Accommodations</td>\n",
       "      <td>False</td>\n",
       "      <td>True</td>\n",
       "      <td>NaN</td>\n",
       "      <td>NaN</td>\n",
       "      <td>5.0</td>\n",
       "      <td>Hayes Valley</td>\n",
       "      <td>NaN</td>\n",
       "      <td>NaN</td>\n",
       "    </tr>\n",
       "    <tr>\n",
       "      <th>40</th>\n",
       "      <td>1060022-03-161</td>\n",
       "      <td>1029449</td>\n",
       "      <td>Evelyn Muir</td>\n",
       "      <td>Evelyn Muir</td>\n",
       "      <td>1516 Shrader St</td>\n",
       "      <td>San Francisco</td>\n",
       "      <td>CA</td>\n",
       "      <td>94117.0</td>\n",
       "      <td>01/01/2016</td>\n",
       "      <td>NaN</td>\n",
       "      <td>...</td>\n",
       "      <td>NaN</td>\n",
       "      <td>NaN</td>\n",
       "      <td>False</td>\n",
       "      <td>False</td>\n",
       "      <td>NaN</td>\n",
       "      <td>NaN</td>\n",
       "      <td>5.0</td>\n",
       "      <td>Inner Sunset</td>\n",
       "      <td>NaN</td>\n",
       "      <td>1516 SHRADER ST\\nSAN FRANCISCO, CA 94117\\n(37....</td>\n",
       "    </tr>\n",
       "  </tbody>\n",
       "</table>\n",
       "<p>5 rows × 26 columns</p>\n",
       "</div>"
      ],
      "text/plain": [
       "       Location Id  Business Account Number Ownership Name  \\\n",
       "9   1173616-12-171                  1081188   Ariel Sultan   \n",
       "22  1173756-12-171                  1081218  Jms Wired,llc   \n",
       "23  1173757-12-171                  1081218  Jms Wired,llc   \n",
       "26  1173787-12-171                  1081237  Nicholas Shen   \n",
       "40  1060022-03-161                  1029449    Evelyn Muir   \n",
       "\n",
       "              DBA Name         Street Address           City State  \\\n",
       "9         Ariel Sultan      180 Carl St Apt 1  San Francisco    CA   \n",
       "22       Careers Wired          1911 Hayes St  San Francisco    CA   \n",
       "23           Jms Wired          1911 Hayes St  San Francisco    CA   \n",
       "26  Fillmore Penthouse  430 Fillmore St Apt C  San Francisco    CA   \n",
       "40         Evelyn Muir        1516 Shrader St  San Francisco    CA   \n",
       "\n",
       "    Source Zipcode Business Start Date Business End Date  \\\n",
       "9          94117.0          12/27/2017               NaN   \n",
       "22         94117.0          12/28/2017               NaN   \n",
       "23         94117.0          12/28/2017               NaN   \n",
       "26         94117.0          12/28/2017               NaN   \n",
       "40         94117.0          01/01/2016               NaN   \n",
       "\n",
       "                          ...                         NAICS Code  \\\n",
       "9                         ...                          7210-7219   \n",
       "22                        ...                          5600-5699   \n",
       "23                        ...                          5600-5699   \n",
       "26                        ...                          7210-7219   \n",
       "40                        ...                                NaN   \n",
       "\n",
       "                 NAICS Code Description Parking Tax Transient Occupancy Tax  \\\n",
       "9                        Accommodations       False                    True   \n",
       "22  Administrative and Support Services       False                   False   \n",
       "23  Administrative and Support Services       False                   False   \n",
       "26                       Accommodations       False                    True   \n",
       "40                                  NaN       False                   False   \n",
       "\n",
       "   LIC Code LIC Code Description Supervisor District  \\\n",
       "9       NaN                  NaN                 5.0   \n",
       "22      NaN                  NaN                 5.0   \n",
       "23      NaN                  NaN                 5.0   \n",
       "26      NaN                  NaN                 5.0   \n",
       "40      NaN                  NaN                 5.0   \n",
       "\n",
       "   Neighborhoods - Analysis Boundaries  Business Corridor  \\\n",
       "9                       Haight Ashbury                NaN   \n",
       "22                   Lone Mountain/USF                NaN   \n",
       "23                   Lone Mountain/USF                NaN   \n",
       "26                        Hayes Valley                NaN   \n",
       "40                        Inner Sunset                NaN   \n",
       "\n",
       "                                    Business Location  \n",
       "9                                                 NaN  \n",
       "22                                                NaN  \n",
       "23                                                NaN  \n",
       "26                                                NaN  \n",
       "40  1516 SHRADER ST\\nSAN FRANCISCO, CA 94117\\n(37....  \n",
       "\n",
       "[5 rows x 26 columns]"
      ]
     },
     "execution_count": 37,
     "metadata": {},
     "output_type": "execute_result"
    }
   ],
   "source": [
    "business_df.head()"
   ]
  },
  {
   "cell_type": "markdown",
   "metadata": {},
   "source": [
    "This contains businesses in a variety of streets, lets focus on Baker and Fulton Streets."
   ]
  },
  {
   "cell_type": "code",
   "execution_count": 38,
   "metadata": {
    "collapsed": true
   },
   "outputs": [],
   "source": [
    "business_df = business_df[business_df['Street Address'].str.contains('Baker|Fulton',regex = True, case = False)]"
   ]
  },
  {
   "cell_type": "code",
   "execution_count": 39,
   "metadata": {
    "scrolled": false
   },
   "outputs": [
    {
     "data": {
      "text/plain": [
       "(333, 26)"
      ]
     },
     "execution_count": 39,
     "metadata": {},
     "output_type": "execute_result"
    }
   ],
   "source": [
    "business_df.shape"
   ]
  },
  {
   "cell_type": "markdown",
   "metadata": {},
   "source": [
    "That's still a lot of rows, let's dig in deeper"
   ]
  },
  {
   "cell_type": "code",
   "execution_count": 40,
   "metadata": {},
   "outputs": [
    {
     "data": {
      "text/html": [
       "<div>\n",
       "<style scoped>\n",
       "    .dataframe tbody tr th:only-of-type {\n",
       "        vertical-align: middle;\n",
       "    }\n",
       "\n",
       "    .dataframe tbody tr th {\n",
       "        vertical-align: top;\n",
       "    }\n",
       "\n",
       "    .dataframe thead th {\n",
       "        text-align: right;\n",
       "    }\n",
       "</style>\n",
       "<table border=\"1\" class=\"dataframe\">\n",
       "  <thead>\n",
       "    <tr style=\"text-align: right;\">\n",
       "      <th></th>\n",
       "      <th>Location Id</th>\n",
       "      <th>Business Account Number</th>\n",
       "      <th>Ownership Name</th>\n",
       "      <th>DBA Name</th>\n",
       "      <th>Street Address</th>\n",
       "      <th>City</th>\n",
       "      <th>State</th>\n",
       "      <th>Source Zipcode</th>\n",
       "      <th>Business Start Date</th>\n",
       "      <th>Business End Date</th>\n",
       "      <th>...</th>\n",
       "      <th>NAICS Code</th>\n",
       "      <th>NAICS Code Description</th>\n",
       "      <th>Parking Tax</th>\n",
       "      <th>Transient Occupancy Tax</th>\n",
       "      <th>LIC Code</th>\n",
       "      <th>LIC Code Description</th>\n",
       "      <th>Supervisor District</th>\n",
       "      <th>Neighborhoods - Analysis Boundaries</th>\n",
       "      <th>Business Corridor</th>\n",
       "      <th>Business Location</th>\n",
       "    </tr>\n",
       "  </thead>\n",
       "  <tbody>\n",
       "    <tr>\n",
       "      <th>500</th>\n",
       "      <td>1174038-01-181</td>\n",
       "      <td>1081352</td>\n",
       "      <td>Jeremy Paz</td>\n",
       "      <td>Bubble Lounge Laundromat</td>\n",
       "      <td>1811 Fulton St</td>\n",
       "      <td>San Francisco</td>\n",
       "      <td>CA</td>\n",
       "      <td>94117.0</td>\n",
       "      <td>11/01/2017</td>\n",
       "      <td>NaN</td>\n",
       "      <td>...</td>\n",
       "      <td>NaN</td>\n",
       "      <td>NaN</td>\n",
       "      <td>False</td>\n",
       "      <td>False</td>\n",
       "      <td>NaN</td>\n",
       "      <td>NaN</td>\n",
       "      <td>NaN</td>\n",
       "      <td>NaN</td>\n",
       "      <td>NaN</td>\n",
       "      <td>NaN</td>\n",
       "    </tr>\n",
       "    <tr>\n",
       "      <th>1235</th>\n",
       "      <td>1190128-05-181</td>\n",
       "      <td>1088444</td>\n",
       "      <td>Gold &amp; Gumption Llc</td>\n",
       "      <td>Gold &amp; Gumption</td>\n",
       "      <td>1880 Fulton St Apt 4</td>\n",
       "      <td>San Francisco</td>\n",
       "      <td>CA</td>\n",
       "      <td>94117.0</td>\n",
       "      <td>01/01/2018</td>\n",
       "      <td>NaN</td>\n",
       "      <td>...</td>\n",
       "      <td>7100-7199</td>\n",
       "      <td>Arts, Entertainment, and Recreation</td>\n",
       "      <td>False</td>\n",
       "      <td>False</td>\n",
       "      <td>NaN</td>\n",
       "      <td>NaN</td>\n",
       "      <td>1.0</td>\n",
       "      <td>Lone Mountain/USF</td>\n",
       "      <td>NaN</td>\n",
       "      <td>NaN</td>\n",
       "    </tr>\n",
       "    <tr>\n",
       "      <th>1750</th>\n",
       "      <td>1174864-01-181</td>\n",
       "      <td>1081748</td>\n",
       "      <td>Trevor Logan</td>\n",
       "      <td>Booster Foods</td>\n",
       "      <td>601 Baker St</td>\n",
       "      <td>San Francisco</td>\n",
       "      <td>CA</td>\n",
       "      <td>94117.0</td>\n",
       "      <td>01/01/2018</td>\n",
       "      <td>NaN</td>\n",
       "      <td>...</td>\n",
       "      <td>7220-7229</td>\n",
       "      <td>Food Services</td>\n",
       "      <td>False</td>\n",
       "      <td>False</td>\n",
       "      <td>NaN</td>\n",
       "      <td>NaN</td>\n",
       "      <td>NaN</td>\n",
       "      <td>NaN</td>\n",
       "      <td>NaN</td>\n",
       "      <td>NaN</td>\n",
       "    </tr>\n",
       "    <tr>\n",
       "      <th>2405</th>\n",
       "      <td>1175641-01-181</td>\n",
       "      <td>1082107</td>\n",
       "      <td>Christopher Plante</td>\n",
       "      <td>1548 Fulton St</td>\n",
       "      <td>1548 Fulton St</td>\n",
       "      <td>San Francisco</td>\n",
       "      <td>CA</td>\n",
       "      <td>94117.0</td>\n",
       "      <td>01/15/2018</td>\n",
       "      <td>NaN</td>\n",
       "      <td>...</td>\n",
       "      <td>7210-7219</td>\n",
       "      <td>Accommodations</td>\n",
       "      <td>False</td>\n",
       "      <td>True</td>\n",
       "      <td>NaN</td>\n",
       "      <td>NaN</td>\n",
       "      <td>5.0</td>\n",
       "      <td>Lone Mountain/USF</td>\n",
       "      <td>NaN</td>\n",
       "      <td>NaN</td>\n",
       "    </tr>\n",
       "    <tr>\n",
       "      <th>3667</th>\n",
       "      <td>1177428-01-181</td>\n",
       "      <td>1082924</td>\n",
       "      <td>Julian Davis</td>\n",
       "      <td>Julian Davis</td>\n",
       "      <td>885 Fulton Street</td>\n",
       "      <td>San Francisco</td>\n",
       "      <td>CA</td>\n",
       "      <td>94117.0</td>\n",
       "      <td>01/30/2018</td>\n",
       "      <td>NaN</td>\n",
       "      <td>...</td>\n",
       "      <td>7210-7219</td>\n",
       "      <td>Accommodations</td>\n",
       "      <td>False</td>\n",
       "      <td>True</td>\n",
       "      <td>NaN</td>\n",
       "      <td>NaN</td>\n",
       "      <td>5.0</td>\n",
       "      <td>Hayes Valley</td>\n",
       "      <td>NaN</td>\n",
       "      <td>NaN</td>\n",
       "    </tr>\n",
       "  </tbody>\n",
       "</table>\n",
       "<p>5 rows × 26 columns</p>\n",
       "</div>"
      ],
      "text/plain": [
       "         Location Id  Business Account Number       Ownership Name  \\\n",
       "500   1174038-01-181                  1081352           Jeremy Paz   \n",
       "1235  1190128-05-181                  1088444  Gold & Gumption Llc   \n",
       "1750  1174864-01-181                  1081748         Trevor Logan   \n",
       "2405  1175641-01-181                  1082107   Christopher Plante   \n",
       "3667  1177428-01-181                  1082924         Julian Davis   \n",
       "\n",
       "                      DBA Name        Street Address           City State  \\\n",
       "500   Bubble Lounge Laundromat        1811 Fulton St  San Francisco    CA   \n",
       "1235           Gold & Gumption  1880 Fulton St Apt 4  San Francisco    CA   \n",
       "1750             Booster Foods          601 Baker St  San Francisco    CA   \n",
       "2405            1548 Fulton St        1548 Fulton St  San Francisco    CA   \n",
       "3667              Julian Davis     885 Fulton Street  San Francisco    CA   \n",
       "\n",
       "      Source Zipcode Business Start Date Business End Date        ...          \\\n",
       "500          94117.0          11/01/2017               NaN        ...           \n",
       "1235         94117.0          01/01/2018               NaN        ...           \n",
       "1750         94117.0          01/01/2018               NaN        ...           \n",
       "2405         94117.0          01/15/2018               NaN        ...           \n",
       "3667         94117.0          01/30/2018               NaN        ...           \n",
       "\n",
       "     NAICS Code               NAICS Code Description Parking Tax  \\\n",
       "500         NaN                                  NaN       False   \n",
       "1235  7100-7199  Arts, Entertainment, and Recreation       False   \n",
       "1750  7220-7229                        Food Services       False   \n",
       "2405  7210-7219                       Accommodations       False   \n",
       "3667  7210-7219                       Accommodations       False   \n",
       "\n",
       "     Transient Occupancy Tax LIC Code LIC Code Description  \\\n",
       "500                    False      NaN                  NaN   \n",
       "1235                   False      NaN                  NaN   \n",
       "1750                   False      NaN                  NaN   \n",
       "2405                    True      NaN                  NaN   \n",
       "3667                    True      NaN                  NaN   \n",
       "\n",
       "     Supervisor District Neighborhoods - Analysis Boundaries  \\\n",
       "500                  NaN                                 NaN   \n",
       "1235                 1.0                   Lone Mountain/USF   \n",
       "1750                 NaN                                 NaN   \n",
       "2405                 5.0                   Lone Mountain/USF   \n",
       "3667                 5.0                        Hayes Valley   \n",
       "\n",
       "      Business Corridor  Business Location  \n",
       "500                 NaN                NaN  \n",
       "1235                NaN                NaN  \n",
       "1750                NaN                NaN  \n",
       "2405                NaN                NaN  \n",
       "3667                NaN                NaN  \n",
       "\n",
       "[5 rows x 26 columns]"
      ]
     },
     "execution_count": 40,
     "metadata": {},
     "output_type": "execute_result"
    }
   ],
   "source": [
    "business_df.head()"
   ]
  },
  {
   "cell_type": "markdown",
   "metadata": {},
   "source": [
    "The grocery store cross pin spans from 1380 to 1590 Fulton Street and 400 to 705 Baker Street"
   ]
  },
  {
   "cell_type": "code",
   "execution_count": 41,
   "metadata": {
    "collapsed": true
   },
   "outputs": [],
   "source": [
    "business_df = business_df[business_df['Street Address'].str.contains('1[3-5][0-9][0-9]|[4-6][0-9][0-9]|70[0-5]'\n",
    "                                                                     ,regex = True, case = False)]"
   ]
  },
  {
   "cell_type": "code",
   "execution_count": 42,
   "metadata": {
    "scrolled": false
   },
   "outputs": [
    {
     "data": {
      "text/html": [
       "<div>\n",
       "<style scoped>\n",
       "    .dataframe tbody tr th:only-of-type {\n",
       "        vertical-align: middle;\n",
       "    }\n",
       "\n",
       "    .dataframe tbody tr th {\n",
       "        vertical-align: top;\n",
       "    }\n",
       "\n",
       "    .dataframe thead th {\n",
       "        text-align: right;\n",
       "    }\n",
       "</style>\n",
       "<table border=\"1\" class=\"dataframe\">\n",
       "  <thead>\n",
       "    <tr style=\"text-align: right;\">\n",
       "      <th></th>\n",
       "      <th>Location Id</th>\n",
       "      <th>Business Account Number</th>\n",
       "      <th>Ownership Name</th>\n",
       "      <th>DBA Name</th>\n",
       "      <th>Street Address</th>\n",
       "      <th>City</th>\n",
       "      <th>State</th>\n",
       "      <th>Source Zipcode</th>\n",
       "      <th>Business Start Date</th>\n",
       "      <th>Business End Date</th>\n",
       "      <th>...</th>\n",
       "      <th>NAICS Code</th>\n",
       "      <th>NAICS Code Description</th>\n",
       "      <th>Parking Tax</th>\n",
       "      <th>Transient Occupancy Tax</th>\n",
       "      <th>LIC Code</th>\n",
       "      <th>LIC Code Description</th>\n",
       "      <th>Supervisor District</th>\n",
       "      <th>Neighborhoods - Analysis Boundaries</th>\n",
       "      <th>Business Corridor</th>\n",
       "      <th>Business Location</th>\n",
       "    </tr>\n",
       "  </thead>\n",
       "  <tbody>\n",
       "    <tr>\n",
       "      <th>1750</th>\n",
       "      <td>1174864-01-181</td>\n",
       "      <td>1081748</td>\n",
       "      <td>Trevor Logan</td>\n",
       "      <td>Booster Foods</td>\n",
       "      <td>601 Baker St</td>\n",
       "      <td>San Francisco</td>\n",
       "      <td>CA</td>\n",
       "      <td>94117.0</td>\n",
       "      <td>01/01/2018</td>\n",
       "      <td>NaN</td>\n",
       "      <td>...</td>\n",
       "      <td>7220-7229</td>\n",
       "      <td>Food Services</td>\n",
       "      <td>False</td>\n",
       "      <td>False</td>\n",
       "      <td>NaN</td>\n",
       "      <td>NaN</td>\n",
       "      <td>NaN</td>\n",
       "      <td>NaN</td>\n",
       "      <td>NaN</td>\n",
       "      <td>NaN</td>\n",
       "    </tr>\n",
       "    <tr>\n",
       "      <th>2405</th>\n",
       "      <td>1175641-01-181</td>\n",
       "      <td>1082107</td>\n",
       "      <td>Christopher Plante</td>\n",
       "      <td>1548 Fulton St</td>\n",
       "      <td>1548 Fulton St</td>\n",
       "      <td>San Francisco</td>\n",
       "      <td>CA</td>\n",
       "      <td>94117.0</td>\n",
       "      <td>01/15/2018</td>\n",
       "      <td>NaN</td>\n",
       "      <td>...</td>\n",
       "      <td>7210-7219</td>\n",
       "      <td>Accommodations</td>\n",
       "      <td>False</td>\n",
       "      <td>True</td>\n",
       "      <td>NaN</td>\n",
       "      <td>NaN</td>\n",
       "      <td>5.0</td>\n",
       "      <td>Lone Mountain/USF</td>\n",
       "      <td>NaN</td>\n",
       "      <td>NaN</td>\n",
       "    </tr>\n",
       "    <tr>\n",
       "      <th>4591</th>\n",
       "      <td>1172040-12-171</td>\n",
       "      <td>1027206</td>\n",
       "      <td>Carlin Elizabeth</td>\n",
       "      <td>Carlin Elizabeth</td>\n",
       "      <td>634 Baker St</td>\n",
       "      <td>San Francisco</td>\n",
       "      <td>CA</td>\n",
       "      <td>94117.0</td>\n",
       "      <td>01/13/2005</td>\n",
       "      <td>NaN</td>\n",
       "      <td>...</td>\n",
       "      <td>NaN</td>\n",
       "      <td>NaN</td>\n",
       "      <td>False</td>\n",
       "      <td>False</td>\n",
       "      <td>H68</td>\n",
       "      <td>General Massage Practitioner</td>\n",
       "      <td>5.0</td>\n",
       "      <td>Western Addition</td>\n",
       "      <td>NaN</td>\n",
       "      <td>NaN</td>\n",
       "    </tr>\n",
       "    <tr>\n",
       "      <th>5399</th>\n",
       "      <td>1178144-02-181</td>\n",
       "      <td>1083232</td>\n",
       "      <td>Bradley Clarke</td>\n",
       "      <td>Leisure Co</td>\n",
       "      <td>1435 Fulton St Apt A</td>\n",
       "      <td>San Francisco</td>\n",
       "      <td>CA</td>\n",
       "      <td>94117.0</td>\n",
       "      <td>02/01/2018</td>\n",
       "      <td>NaN</td>\n",
       "      <td>...</td>\n",
       "      <td>3100-3399 4400-4599</td>\n",
       "      <td>Multiple</td>\n",
       "      <td>False</td>\n",
       "      <td>False</td>\n",
       "      <td>NaN</td>\n",
       "      <td>NaN</td>\n",
       "      <td>5.0</td>\n",
       "      <td>Hayes Valley</td>\n",
       "      <td>NaN</td>\n",
       "      <td>NaN</td>\n",
       "    </tr>\n",
       "    <tr>\n",
       "      <th>5542</th>\n",
       "      <td>1189029-05-181</td>\n",
       "      <td>1087991</td>\n",
       "      <td>Rebecca Sinclair</td>\n",
       "      <td>Rebecca Sinclair</td>\n",
       "      <td>621 Baker St St</td>\n",
       "      <td>San Francisco</td>\n",
       "      <td>CA</td>\n",
       "      <td>94117.0</td>\n",
       "      <td>05/21/2018</td>\n",
       "      <td>NaN</td>\n",
       "      <td>...</td>\n",
       "      <td>7210-7219</td>\n",
       "      <td>Accommodations</td>\n",
       "      <td>False</td>\n",
       "      <td>True</td>\n",
       "      <td>NaN</td>\n",
       "      <td>NaN</td>\n",
       "      <td>5.0</td>\n",
       "      <td>Lone Mountain/USF</td>\n",
       "      <td>NaN</td>\n",
       "      <td>NaN</td>\n",
       "    </tr>\n",
       "  </tbody>\n",
       "</table>\n",
       "<p>5 rows × 26 columns</p>\n",
       "</div>"
      ],
      "text/plain": [
       "         Location Id  Business Account Number      Ownership Name  \\\n",
       "1750  1174864-01-181                  1081748        Trevor Logan   \n",
       "2405  1175641-01-181                  1082107  Christopher Plante   \n",
       "4591  1172040-12-171                  1027206    Carlin Elizabeth   \n",
       "5399  1178144-02-181                  1083232      Bradley Clarke   \n",
       "5542  1189029-05-181                  1087991    Rebecca Sinclair   \n",
       "\n",
       "              DBA Name        Street Address           City State  \\\n",
       "1750     Booster Foods          601 Baker St  San Francisco    CA   \n",
       "2405    1548 Fulton St        1548 Fulton St  San Francisco    CA   \n",
       "4591  Carlin Elizabeth          634 Baker St  San Francisco    CA   \n",
       "5399        Leisure Co  1435 Fulton St Apt A  San Francisco    CA   \n",
       "5542  Rebecca Sinclair       621 Baker St St  San Francisco    CA   \n",
       "\n",
       "      Source Zipcode Business Start Date Business End Date        ...          \\\n",
       "1750         94117.0          01/01/2018               NaN        ...           \n",
       "2405         94117.0          01/15/2018               NaN        ...           \n",
       "4591         94117.0          01/13/2005               NaN        ...           \n",
       "5399         94117.0          02/01/2018               NaN        ...           \n",
       "5542         94117.0          05/21/2018               NaN        ...           \n",
       "\n",
       "               NAICS Code NAICS Code Description Parking Tax  \\\n",
       "1750            7220-7229          Food Services       False   \n",
       "2405            7210-7219         Accommodations       False   \n",
       "4591                  NaN                    NaN       False   \n",
       "5399  3100-3399 4400-4599               Multiple       False   \n",
       "5542            7210-7219         Accommodations       False   \n",
       "\n",
       "     Transient Occupancy Tax LIC Code          LIC Code Description  \\\n",
       "1750                   False      NaN                           NaN   \n",
       "2405                    True      NaN                           NaN   \n",
       "4591                   False      H68  General Massage Practitioner   \n",
       "5399                   False      NaN                           NaN   \n",
       "5542                    True      NaN                           NaN   \n",
       "\n",
       "     Supervisor District Neighborhoods - Analysis Boundaries  \\\n",
       "1750                 NaN                                 NaN   \n",
       "2405                 5.0                   Lone Mountain/USF   \n",
       "4591                 5.0                    Western Addition   \n",
       "5399                 5.0                        Hayes Valley   \n",
       "5542                 5.0                   Lone Mountain/USF   \n",
       "\n",
       "      Business Corridor  Business Location  \n",
       "1750                NaN                NaN  \n",
       "2405                NaN                NaN  \n",
       "4591                NaN                NaN  \n",
       "5399                NaN                NaN  \n",
       "5542                NaN                NaN  \n",
       "\n",
       "[5 rows x 26 columns]"
      ]
     },
     "execution_count": 42,
     "metadata": {},
     "output_type": "execute_result"
    }
   ],
   "source": [
    "business_df.head()"
   ]
  },
  {
   "cell_type": "code",
   "execution_count": 43,
   "metadata": {},
   "outputs": [
    {
     "data": {
      "text/plain": [
       "(129, 26)"
      ]
     },
     "execution_count": 43,
     "metadata": {},
     "output_type": "execute_result"
    }
   ],
   "source": [
    "business_df.shape"
   ]
  },
  {
   "cell_type": "markdown",
   "metadata": {},
   "source": [
    "Let's also remove the businesses without a Description"
   ]
  },
  {
   "cell_type": "code",
   "execution_count": 44,
   "metadata": {
    "collapsed": true
   },
   "outputs": [],
   "source": [
    "business_df = business_df[~business_df['NAICS Code Description'].isnull()]"
   ]
  },
  {
   "cell_type": "code",
   "execution_count": 45,
   "metadata": {
    "scrolled": false
   },
   "outputs": [
    {
     "data": {
      "text/plain": [
       "(88, 26)"
      ]
     },
     "execution_count": 45,
     "metadata": {},
     "output_type": "execute_result"
    }
   ],
   "source": [
    "business_df.shape"
   ]
  },
  {
   "cell_type": "markdown",
   "metadata": {},
   "source": [
    "Now we are left with 88 businesses in the vicinity of our grocery store. Let's take a closer look at these."
   ]
  },
  {
   "cell_type": "markdown",
   "metadata": {},
   "source": [
    "### Analyzing local businesses"
   ]
  },
  {
   "cell_type": "code",
   "execution_count": 46,
   "metadata": {},
   "outputs": [
    {
     "data": {
      "text/plain": [
       "Real Estate and Rental and Leasing Services         22\n",
       "Accommodations                                      13\n",
       "Retail Trade                                        10\n",
       "Arts, Entertainment, and Recreation                  9\n",
       "Professional, Scientific, and Technical Services     8\n",
       "Food Services                                        8\n",
       "Certain Services                                     5\n",
       "Construction                                         4\n",
       "Multiple                                             3\n",
       "Transportation and Warehousing                       2\n",
       "Private Education and Health Services                2\n",
       "Information                                          1\n",
       "Manufacturing                                        1\n",
       "Name: NAICS Code Description, dtype: int64"
      ]
     },
     "execution_count": 46,
     "metadata": {},
     "output_type": "execute_result"
    }
   ],
   "source": [
    "business_df['NAICS Code Description'].value_counts()"
   ]
  },
  {
   "cell_type": "code",
   "execution_count": 47,
   "metadata": {},
   "outputs": [
    {
     "data": {
      "image/png": "[encoded data removed]",
      "text/plain": [
       "<matplotlib.figure.Figure at 0x1a1aa70400>"
      ]
     },
     "metadata": {},
     "output_type": "display_data"
    }
   ],
   "source": [
    "make_bar_plot(business_df['NAICS Code Description'].value_counts(),\n",
    "             business_df['NAICS Code Description'].value_counts().index,\n",
    "             'Blues_r',\n",
    "             'Business Frequency',\n",
    "             'Business Category')"
   ]
  },
  {
   "cell_type": "markdown",
   "metadata": {},
   "source": [
    "A majority of the businesses around our store are Real Estate and Rental Services, which doesn't realy affect us much. <br>\n",
    "What might affect us are the other Food Services in the vicinity."
   ]
  },
  {
   "cell_type": "code",
   "execution_count": 48,
   "metadata": {},
   "outputs": [
    {
     "data": {
      "text/html": [
       "<div>\n",
       "<style scoped>\n",
       "    .dataframe tbody tr th:only-of-type {\n",
       "        vertical-align: middle;\n",
       "    }\n",
       "\n",
       "    .dataframe tbody tr th {\n",
       "        vertical-align: top;\n",
       "    }\n",
       "\n",
       "    .dataframe thead th {\n",
       "        text-align: right;\n",
       "    }\n",
       "</style>\n",
       "<table border=\"1\" class=\"dataframe\">\n",
       "  <thead>\n",
       "    <tr style=\"text-align: right;\">\n",
       "      <th></th>\n",
       "      <th>Location Id</th>\n",
       "      <th>Business Account Number</th>\n",
       "      <th>Ownership Name</th>\n",
       "      <th>DBA Name</th>\n",
       "      <th>Street Address</th>\n",
       "      <th>City</th>\n",
       "      <th>State</th>\n",
       "      <th>Source Zipcode</th>\n",
       "      <th>Business Start Date</th>\n",
       "      <th>Business End Date</th>\n",
       "      <th>...</th>\n",
       "      <th>NAICS Code</th>\n",
       "      <th>NAICS Code Description</th>\n",
       "      <th>Parking Tax</th>\n",
       "      <th>Transient Occupancy Tax</th>\n",
       "      <th>LIC Code</th>\n",
       "      <th>LIC Code Description</th>\n",
       "      <th>Supervisor District</th>\n",
       "      <th>Neighborhoods - Analysis Boundaries</th>\n",
       "      <th>Business Corridor</th>\n",
       "      <th>Business Location</th>\n",
       "    </tr>\n",
       "  </thead>\n",
       "  <tbody>\n",
       "    <tr>\n",
       "      <th>1750</th>\n",
       "      <td>1174864-01-181</td>\n",
       "      <td>1081748</td>\n",
       "      <td>Trevor Logan</td>\n",
       "      <td>Booster Foods</td>\n",
       "      <td>601 Baker St</td>\n",
       "      <td>San Francisco</td>\n",
       "      <td>CA</td>\n",
       "      <td>94117.0</td>\n",
       "      <td>01/01/2018</td>\n",
       "      <td>NaN</td>\n",
       "      <td>...</td>\n",
       "      <td>7220-7229</td>\n",
       "      <td>Food Services</td>\n",
       "      <td>False</td>\n",
       "      <td>False</td>\n",
       "      <td>NaN</td>\n",
       "      <td>NaN</td>\n",
       "      <td>NaN</td>\n",
       "      <td>NaN</td>\n",
       "      <td>NaN</td>\n",
       "      <td>NaN</td>\n",
       "    </tr>\n",
       "    <tr>\n",
       "      <th>46570</th>\n",
       "      <td>0379582-02-001</td>\n",
       "      <td>379582</td>\n",
       "      <td>Green Chile Kitchen &amp; Mrkt Llc</td>\n",
       "      <td>Chile Pies &amp; Ice Cream</td>\n",
       "      <td>601 Baker St</td>\n",
       "      <td>San Francisco</td>\n",
       "      <td>CA</td>\n",
       "      <td>94117.0</td>\n",
       "      <td>07/29/2004</td>\n",
       "      <td>NaN</td>\n",
       "      <td>...</td>\n",
       "      <td>7220-7229</td>\n",
       "      <td>Food Services</td>\n",
       "      <td>False</td>\n",
       "      <td>False</td>\n",
       "      <td>H24</td>\n",
       "      <td>Restaurant Less Than 1,000 Sqft</td>\n",
       "      <td>5.0</td>\n",
       "      <td>Lone Mountain/USF</td>\n",
       "      <td>NaN</td>\n",
       "      <td>601 BAKER ST\\nSan Francisco, CA 94117\\n(37.776...</td>\n",
       "    </tr>\n",
       "    <tr>\n",
       "      <th>63563</th>\n",
       "      <td>0412768-01-001</td>\n",
       "      <td>412768</td>\n",
       "      <td>Seoul On Wheels Inc</td>\n",
       "      <td>Seoul On Wheels Inc</td>\n",
       "      <td>1546 Fulton St</td>\n",
       "      <td>San Francisco</td>\n",
       "      <td>CA</td>\n",
       "      <td>94117.0</td>\n",
       "      <td>01/22/2007</td>\n",
       "      <td>NaN</td>\n",
       "      <td>...</td>\n",
       "      <td>7220-7229</td>\n",
       "      <td>Food Services</td>\n",
       "      <td>False</td>\n",
       "      <td>False</td>\n",
       "      <td>NaN</td>\n",
       "      <td>NaN</td>\n",
       "      <td>5.0</td>\n",
       "      <td>Lone Mountain/USF</td>\n",
       "      <td>NaN</td>\n",
       "      <td>1546 FULTON ST\\nSan Francisco, CA 94117\\n(37.7...</td>\n",
       "    </tr>\n",
       "    <tr>\n",
       "      <th>77045</th>\n",
       "      <td>0434710-02-001</td>\n",
       "      <td>434710</td>\n",
       "      <td>Fulton Lounge Inc</td>\n",
       "      <td>Tsunami Panhandle</td>\n",
       "      <td>1302-08 Fulton St</td>\n",
       "      <td>San Francisco</td>\n",
       "      <td>CA</td>\n",
       "      <td>94117.0</td>\n",
       "      <td>05/04/2010</td>\n",
       "      <td>NaN</td>\n",
       "      <td>...</td>\n",
       "      <td>7220-7229</td>\n",
       "      <td>Food Services</td>\n",
       "      <td>False</td>\n",
       "      <td>False</td>\n",
       "      <td>H25</td>\n",
       "      <td>Restaurant 1,000 - 2,000 Sqft</td>\n",
       "      <td>5.0</td>\n",
       "      <td>Western Addition</td>\n",
       "      <td>NaN</td>\n",
       "      <td>1302 08 FULTON ST\\nSan Francisco, CA 94117\\n(3...</td>\n",
       "    </tr>\n",
       "    <tr>\n",
       "      <th>77054</th>\n",
       "      <td>0434710-05-001</td>\n",
       "      <td>434710</td>\n",
       "      <td>Fulton Lounge Inc</td>\n",
       "      <td>Corkage Sake &amp; Wine Shop</td>\n",
       "      <td>1302 Fulton St</td>\n",
       "      <td>San Francisco</td>\n",
       "      <td>CA</td>\n",
       "      <td>94117.0</td>\n",
       "      <td>05/04/2010</td>\n",
       "      <td>NaN</td>\n",
       "      <td>...</td>\n",
       "      <td>7220-7229</td>\n",
       "      <td>Food Services</td>\n",
       "      <td>False</td>\n",
       "      <td>False</td>\n",
       "      <td>NaN</td>\n",
       "      <td>NaN</td>\n",
       "      <td>5.0</td>\n",
       "      <td>Western Addition</td>\n",
       "      <td>NaN</td>\n",
       "      <td>1302 FULTON ST\\nSan Francisco, CA 94117\\n(37.7...</td>\n",
       "    </tr>\n",
       "    <tr>\n",
       "      <th>133091</th>\n",
       "      <td>0957227-01-001</td>\n",
       "      <td>957227</td>\n",
       "      <td>Tsunami Panhandle Inc</td>\n",
       "      <td>Cafe Abir</td>\n",
       "      <td>1300 Fulton St</td>\n",
       "      <td>San Francisco</td>\n",
       "      <td>CA</td>\n",
       "      <td>94117.0</td>\n",
       "      <td>12/31/2008</td>\n",
       "      <td>NaN</td>\n",
       "      <td>...</td>\n",
       "      <td>7220-7229</td>\n",
       "      <td>Food Services</td>\n",
       "      <td>False</td>\n",
       "      <td>False</td>\n",
       "      <td>NaN</td>\n",
       "      <td>NaN</td>\n",
       "      <td>5.0</td>\n",
       "      <td>Western Addition</td>\n",
       "      <td>NaN</td>\n",
       "      <td>1300 FULTON ST\\nSan Francisco, CA 94117\\n(37.7...</td>\n",
       "    </tr>\n",
       "    <tr>\n",
       "      <th>188044</th>\n",
       "      <td>1141118-03-171</td>\n",
       "      <td>957227</td>\n",
       "      <td>Tsunami Panhandle Inc</td>\n",
       "      <td>Tsunami Panhandle</td>\n",
       "      <td>1300 -1306 Fulton St</td>\n",
       "      <td>San Francisco</td>\n",
       "      <td>CA</td>\n",
       "      <td>94117.0</td>\n",
       "      <td>12/31/2008</td>\n",
       "      <td>NaN</td>\n",
       "      <td>...</td>\n",
       "      <td>7220-7229</td>\n",
       "      <td>Food Services</td>\n",
       "      <td>False</td>\n",
       "      <td>False</td>\n",
       "      <td>NaN</td>\n",
       "      <td>NaN</td>\n",
       "      <td>5.0</td>\n",
       "      <td>Western Addition</td>\n",
       "      <td>NaN</td>\n",
       "      <td>NaN</td>\n",
       "    </tr>\n",
       "    <tr>\n",
       "      <th>203420</th>\n",
       "      <td>1157032-08-171</td>\n",
       "      <td>1016399</td>\n",
       "      <td>Ju-Ni Llc</td>\n",
       "      <td>Ju-Ni</td>\n",
       "      <td>1335 Fulton St Ste 101</td>\n",
       "      <td>San Francisco</td>\n",
       "      <td>CA</td>\n",
       "      <td>94117.0</td>\n",
       "      <td>07/24/2015</td>\n",
       "      <td>NaN</td>\n",
       "      <td>...</td>\n",
       "      <td>7220-7229</td>\n",
       "      <td>Food Services</td>\n",
       "      <td>False</td>\n",
       "      <td>False</td>\n",
       "      <td>H24</td>\n",
       "      <td>Restaurant Less Than 1,000 Sqft</td>\n",
       "      <td>5.0</td>\n",
       "      <td>Hayes Valley</td>\n",
       "      <td>NaN</td>\n",
       "      <td>NaN</td>\n",
       "    </tr>\n",
       "  </tbody>\n",
       "</table>\n",
       "<p>8 rows × 26 columns</p>\n",
       "</div>"
      ],
      "text/plain": [
       "           Location Id  Business Account Number  \\\n",
       "1750    1174864-01-181                  1081748   \n",
       "46570   0379582-02-001                   379582   \n",
       "63563   0412768-01-001                   412768   \n",
       "77045   0434710-02-001                   434710   \n",
       "77054   0434710-05-001                   434710   \n",
       "133091  0957227-01-001                   957227   \n",
       "188044  1141118-03-171                   957227   \n",
       "203420  1157032-08-171                  1016399   \n",
       "\n",
       "                        Ownership Name                  DBA Name  \\\n",
       "1750                      Trevor Logan             Booster Foods   \n",
       "46570   Green Chile Kitchen & Mrkt Llc    Chile Pies & Ice Cream   \n",
       "63563              Seoul On Wheels Inc       Seoul On Wheels Inc   \n",
       "77045                Fulton Lounge Inc         Tsunami Panhandle   \n",
       "77054                Fulton Lounge Inc  Corkage Sake & Wine Shop   \n",
       "133091           Tsunami Panhandle Inc                 Cafe Abir   \n",
       "188044           Tsunami Panhandle Inc         Tsunami Panhandle   \n",
       "203420                       Ju-Ni Llc                     Ju-Ni   \n",
       "\n",
       "                Street Address           City State  Source Zipcode  \\\n",
       "1750              601 Baker St  San Francisco    CA         94117.0   \n",
       "46570             601 Baker St  San Francisco    CA         94117.0   \n",
       "63563           1546 Fulton St  San Francisco    CA         94117.0   \n",
       "77045        1302-08 Fulton St  San Francisco    CA         94117.0   \n",
       "77054           1302 Fulton St  San Francisco    CA         94117.0   \n",
       "133091          1300 Fulton St  San Francisco    CA         94117.0   \n",
       "188044    1300 -1306 Fulton St  San Francisco    CA         94117.0   \n",
       "203420  1335 Fulton St Ste 101  San Francisco    CA         94117.0   \n",
       "\n",
       "       Business Start Date Business End Date  \\\n",
       "1750            01/01/2018               NaN   \n",
       "46570           07/29/2004               NaN   \n",
       "63563           01/22/2007               NaN   \n",
       "77045           05/04/2010               NaN   \n",
       "77054           05/04/2010               NaN   \n",
       "133091          12/31/2008               NaN   \n",
       "188044          12/31/2008               NaN   \n",
       "203420          07/24/2015               NaN   \n",
       "\n",
       "                              ...                         NAICS Code  \\\n",
       "1750                          ...                          7220-7229   \n",
       "46570                         ...                          7220-7229   \n",
       "63563                         ...                          7220-7229   \n",
       "77045                         ...                          7220-7229   \n",
       "77054                         ...                          7220-7229   \n",
       "133091                        ...                          7220-7229   \n",
       "188044                        ...                          7220-7229   \n",
       "203420                        ...                          7220-7229   \n",
       "\n",
       "       NAICS Code Description Parking Tax Transient Occupancy Tax LIC Code  \\\n",
       "1750            Food Services       False                   False      NaN   \n",
       "46570           Food Services       False                   False      H24   \n",
       "63563           Food Services       False                   False      NaN   \n",
       "77045           Food Services       False                   False      H25   \n",
       "77054           Food Services       False                   False      NaN   \n",
       "133091          Food Services       False                   False      NaN   \n",
       "188044          Food Services       False                   False      NaN   \n",
       "203420          Food Services       False                   False      H24   \n",
       "\n",
       "                   LIC Code Description Supervisor District  \\\n",
       "1750                                NaN                 NaN   \n",
       "46570   Restaurant Less Than 1,000 Sqft                 5.0   \n",
       "63563                               NaN                 5.0   \n",
       "77045     Restaurant 1,000 - 2,000 Sqft                 5.0   \n",
       "77054                               NaN                 5.0   \n",
       "133091                              NaN                 5.0   \n",
       "188044                              NaN                 5.0   \n",
       "203420  Restaurant Less Than 1,000 Sqft                 5.0   \n",
       "\n",
       "       Neighborhoods - Analysis Boundaries  Business Corridor  \\\n",
       "1750                                   NaN                NaN   \n",
       "46570                    Lone Mountain/USF                NaN   \n",
       "63563                    Lone Mountain/USF                NaN   \n",
       "77045                     Western Addition                NaN   \n",
       "77054                     Western Addition                NaN   \n",
       "133091                    Western Addition                NaN   \n",
       "188044                    Western Addition                NaN   \n",
       "203420                        Hayes Valley                NaN   \n",
       "\n",
       "                                        Business Location  \n",
       "1750                                                  NaN  \n",
       "46570   601 BAKER ST\\nSan Francisco, CA 94117\\n(37.776...  \n",
       "63563   1546 FULTON ST\\nSan Francisco, CA 94117\\n(37.7...  \n",
       "77045   1302 08 FULTON ST\\nSan Francisco, CA 94117\\n(3...  \n",
       "77054   1302 FULTON ST\\nSan Francisco, CA 94117\\n(37.7...  \n",
       "133091  1300 FULTON ST\\nSan Francisco, CA 94117\\n(37.7...  \n",
       "188044                                                NaN  \n",
       "203420                                                NaN  \n",
       "\n",
       "[8 rows x 26 columns]"
      ]
     },
     "execution_count": 48,
     "metadata": {},
     "output_type": "execute_result"
    }
   ],
   "source": [
    "business_df[business_df['NAICS Code Description'] == 'Food Services']"
   ]
  },
  {
   "cell_type": "code",
   "execution_count": 49,
   "metadata": {},
   "outputs": [
    {
     "data": {
      "text/html": [
       "<div>\n",
       "<style scoped>\n",
       "    .dataframe tbody tr th:only-of-type {\n",
       "        vertical-align: middle;\n",
       "    }\n",
       "\n",
       "    .dataframe tbody tr th {\n",
       "        vertical-align: top;\n",
       "    }\n",
       "\n",
       "    .dataframe thead th {\n",
       "        text-align: right;\n",
       "    }\n",
       "</style>\n",
       "<table border=\"1\" class=\"dataframe\">\n",
       "  <thead>\n",
       "    <tr style=\"text-align: right;\">\n",
       "      <th></th>\n",
       "      <th>Location Id</th>\n",
       "      <th>Business Account Number</th>\n",
       "      <th>Ownership Name</th>\n",
       "      <th>DBA Name</th>\n",
       "      <th>Street Address</th>\n",
       "      <th>City</th>\n",
       "      <th>State</th>\n",
       "      <th>Source Zipcode</th>\n",
       "      <th>Business Start Date</th>\n",
       "      <th>Business End Date</th>\n",
       "      <th>...</th>\n",
       "      <th>NAICS Code</th>\n",
       "      <th>NAICS Code Description</th>\n",
       "      <th>Parking Tax</th>\n",
       "      <th>Transient Occupancy Tax</th>\n",
       "      <th>LIC Code</th>\n",
       "      <th>LIC Code Description</th>\n",
       "      <th>Supervisor District</th>\n",
       "      <th>Neighborhoods - Analysis Boundaries</th>\n",
       "      <th>Business Corridor</th>\n",
       "      <th>Business Location</th>\n",
       "    </tr>\n",
       "  </thead>\n",
       "  <tbody>\n",
       "    <tr>\n",
       "      <th>6050</th>\n",
       "      <td>1191355-06-181</td>\n",
       "      <td>1059030</td>\n",
       "      <td>Dy Eric David</td>\n",
       "      <td>Nopa Corner Market</td>\n",
       "      <td>1601 Fulton St</td>\n",
       "      <td>San Francisco</td>\n",
       "      <td>CA</td>\n",
       "      <td>94117.0</td>\n",
       "      <td>10/05/2016</td>\n",
       "      <td>NaN</td>\n",
       "      <td>...</td>\n",
       "      <td>4400-4599</td>\n",
       "      <td>Retail Trade</td>\n",
       "      <td>False</td>\n",
       "      <td>False</td>\n",
       "      <td>NaN</td>\n",
       "      <td>NaN</td>\n",
       "      <td>NaN</td>\n",
       "      <td>NaN</td>\n",
       "      <td>NaN</td>\n",
       "      <td>NaN</td>\n",
       "    </tr>\n",
       "    <tr>\n",
       "      <th>14955</th>\n",
       "      <td>0086356-11-001</td>\n",
       "      <td>86356</td>\n",
       "      <td>Octavend Corp</td>\n",
       "      <td>Stevens Bus Products &amp; Flags</td>\n",
       "      <td>623 Baker St</td>\n",
       "      <td>San Francisco</td>\n",
       "      <td>CA</td>\n",
       "      <td>94117.0</td>\n",
       "      <td>01/01/1975</td>\n",
       "      <td>NaN</td>\n",
       "      <td>...</td>\n",
       "      <td>4400-4599</td>\n",
       "      <td>Retail Trade</td>\n",
       "      <td>False</td>\n",
       "      <td>False</td>\n",
       "      <td>NaN</td>\n",
       "      <td>NaN</td>\n",
       "      <td>5.0</td>\n",
       "      <td>Lone Mountain/USF</td>\n",
       "      <td>NaN</td>\n",
       "      <td>623 BAKER ST\\nSan Francisco, CA 94117\\n(37.776...</td>\n",
       "    </tr>\n",
       "    <tr>\n",
       "      <th>46345</th>\n",
       "      <td>0319579-07-001</td>\n",
       "      <td>319579</td>\n",
       "      <td>Terbolizard Elizabeth A</td>\n",
       "      <td>Local Craft</td>\n",
       "      <td>1421 Fulton St</td>\n",
       "      <td>San Francisco</td>\n",
       "      <td>CA</td>\n",
       "      <td>94117.0</td>\n",
       "      <td>03/06/2007</td>\n",
       "      <td>NaN</td>\n",
       "      <td>...</td>\n",
       "      <td>4400-4599</td>\n",
       "      <td>Retail Trade</td>\n",
       "      <td>False</td>\n",
       "      <td>False</td>\n",
       "      <td>NaN</td>\n",
       "      <td>NaN</td>\n",
       "      <td>5.0</td>\n",
       "      <td>Hayes Valley</td>\n",
       "      <td>NaN</td>\n",
       "      <td>1421 FULTON ST\\nSan Francisco, CA 94117\\n(37.7...</td>\n",
       "    </tr>\n",
       "    <tr>\n",
       "      <th>134015</th>\n",
       "      <td>1002906-07-141</td>\n",
       "      <td>358088</td>\n",
       "      <td>Leon Joseph</td>\n",
       "      <td>Jl Designs</td>\n",
       "      <td>430 Baker St 3</td>\n",
       "      <td>San Francisco</td>\n",
       "      <td>CA</td>\n",
       "      <td>94117.0</td>\n",
       "      <td>08/15/2002</td>\n",
       "      <td>NaN</td>\n",
       "      <td>...</td>\n",
       "      <td>4400-4599</td>\n",
       "      <td>Retail Trade</td>\n",
       "      <td>False</td>\n",
       "      <td>False</td>\n",
       "      <td>NaN</td>\n",
       "      <td>NaN</td>\n",
       "      <td>5.0</td>\n",
       "      <td>Hayes Valley</td>\n",
       "      <td>NaN</td>\n",
       "      <td>430 BAKER ST\\nSAN FRANCISCO, CA 94117\\n(37.774...</td>\n",
       "    </tr>\n",
       "    <tr>\n",
       "      <th>148866</th>\n",
       "      <td>1029167-05-151</td>\n",
       "      <td>935760</td>\n",
       "      <td>Courrier Cliff</td>\n",
       "      <td>San Francisco Balloons</td>\n",
       "      <td>533 Baker St</td>\n",
       "      <td>San Francisco</td>\n",
       "      <td>CA</td>\n",
       "      <td>94117.0</td>\n",
       "      <td>11/03/1994</td>\n",
       "      <td>NaN</td>\n",
       "      <td>...</td>\n",
       "      <td>4400-4599</td>\n",
       "      <td>Retail Trade</td>\n",
       "      <td>False</td>\n",
       "      <td>False</td>\n",
       "      <td>NaN</td>\n",
       "      <td>NaN</td>\n",
       "      <td>5.0</td>\n",
       "      <td>Lone Mountain/USF</td>\n",
       "      <td>NaN</td>\n",
       "      <td>533 BAKER ST\\nSAN FRANCISCO, CA 94117\\n(37.775...</td>\n",
       "    </tr>\n",
       "    <tr>\n",
       "      <th>179969</th>\n",
       "      <td>1122655-10-161</td>\n",
       "      <td>1059030</td>\n",
       "      <td>Dy Eric David</td>\n",
       "      <td>Nopa Liquors &amp; Deli</td>\n",
       "      <td>1601 Fulton St</td>\n",
       "      <td>San Francisco</td>\n",
       "      <td>CA</td>\n",
       "      <td>94117.0</td>\n",
       "      <td>10/05/2016</td>\n",
       "      <td>NaN</td>\n",
       "      <td>...</td>\n",
       "      <td>4400-4599</td>\n",
       "      <td>Retail Trade</td>\n",
       "      <td>False</td>\n",
       "      <td>False</td>\n",
       "      <td>H73</td>\n",
       "      <td>Deemed Approved Off-Sale Alcohol Use</td>\n",
       "      <td>NaN</td>\n",
       "      <td>NaN</td>\n",
       "      <td>NaN</td>\n",
       "      <td>NaN</td>\n",
       "    </tr>\n",
       "    <tr>\n",
       "      <th>188449</th>\n",
       "      <td>0086356-07-001</td>\n",
       "      <td>86356</td>\n",
       "      <td>Octavend Corp</td>\n",
       "      <td>Stevens</td>\n",
       "      <td>623 Baker St</td>\n",
       "      <td>San Francisco</td>\n",
       "      <td>CA</td>\n",
       "      <td>94117.0</td>\n",
       "      <td>01/01/1975</td>\n",
       "      <td>NaN</td>\n",
       "      <td>...</td>\n",
       "      <td>4400-4599</td>\n",
       "      <td>Retail Trade</td>\n",
       "      <td>False</td>\n",
       "      <td>False</td>\n",
       "      <td>NaN</td>\n",
       "      <td>NaN</td>\n",
       "      <td>5.0</td>\n",
       "      <td>Lone Mountain/USF</td>\n",
       "      <td>NaN</td>\n",
       "      <td>623 BAKER ST\\nSan Francisco, CA 94117\\n(37.776...</td>\n",
       "    </tr>\n",
       "    <tr>\n",
       "      <th>188450</th>\n",
       "      <td>0086356-08-001</td>\n",
       "      <td>86356</td>\n",
       "      <td>Octavend Corp</td>\n",
       "      <td>The Stevens Flagship</td>\n",
       "      <td>623 Baker St</td>\n",
       "      <td>San Francisco</td>\n",
       "      <td>CA</td>\n",
       "      <td>94117.0</td>\n",
       "      <td>01/01/1975</td>\n",
       "      <td>NaN</td>\n",
       "      <td>...</td>\n",
       "      <td>4400-4599</td>\n",
       "      <td>Retail Trade</td>\n",
       "      <td>False</td>\n",
       "      <td>False</td>\n",
       "      <td>NaN</td>\n",
       "      <td>NaN</td>\n",
       "      <td>5.0</td>\n",
       "      <td>Lone Mountain/USF</td>\n",
       "      <td>NaN</td>\n",
       "      <td>623 BAKER ST\\nSan Francisco, CA 94117\\n(37.776...</td>\n",
       "    </tr>\n",
       "    <tr>\n",
       "      <th>188451</th>\n",
       "      <td>0086356-09-001</td>\n",
       "      <td>86356</td>\n",
       "      <td>Octavend Corp</td>\n",
       "      <td>Stevens International</td>\n",
       "      <td>623 Baker St</td>\n",
       "      <td>San Francisco</td>\n",
       "      <td>CA</td>\n",
       "      <td>94117.0</td>\n",
       "      <td>01/01/1975</td>\n",
       "      <td>NaN</td>\n",
       "      <td>...</td>\n",
       "      <td>4400-4599</td>\n",
       "      <td>Retail Trade</td>\n",
       "      <td>False</td>\n",
       "      <td>False</td>\n",
       "      <td>NaN</td>\n",
       "      <td>NaN</td>\n",
       "      <td>5.0</td>\n",
       "      <td>Lone Mountain/USF</td>\n",
       "      <td>NaN</td>\n",
       "      <td>623 BAKER ST\\nSan Francisco, CA 94117\\n(37.776...</td>\n",
       "    </tr>\n",
       "    <tr>\n",
       "      <th>188452</th>\n",
       "      <td>0086356-10-001</td>\n",
       "      <td>86356</td>\n",
       "      <td>Octavend Corp</td>\n",
       "      <td>The San Francisco Flag Museum</td>\n",
       "      <td>623 Baker St</td>\n",
       "      <td>San Francisco</td>\n",
       "      <td>CA</td>\n",
       "      <td>94117.0</td>\n",
       "      <td>01/01/1975</td>\n",
       "      <td>NaN</td>\n",
       "      <td>...</td>\n",
       "      <td>4400-4599</td>\n",
       "      <td>Retail Trade</td>\n",
       "      <td>False</td>\n",
       "      <td>False</td>\n",
       "      <td>NaN</td>\n",
       "      <td>NaN</td>\n",
       "      <td>5.0</td>\n",
       "      <td>Lone Mountain/USF</td>\n",
       "      <td>NaN</td>\n",
       "      <td>623 BAKER ST\\nSan Francisco, CA 94117\\n(37.776...</td>\n",
       "    </tr>\n",
       "  </tbody>\n",
       "</table>\n",
       "<p>10 rows × 26 columns</p>\n",
       "</div>"
      ],
      "text/plain": [
       "           Location Id  Business Account Number           Ownership Name  \\\n",
       "6050    1191355-06-181                  1059030            Dy Eric David   \n",
       "14955   0086356-11-001                    86356            Octavend Corp   \n",
       "46345   0319579-07-001                   319579  Terbolizard Elizabeth A   \n",
       "134015  1002906-07-141                   358088              Leon Joseph   \n",
       "148866  1029167-05-151                   935760           Courrier Cliff   \n",
       "179969  1122655-10-161                  1059030            Dy Eric David   \n",
       "188449  0086356-07-001                    86356            Octavend Corp   \n",
       "188450  0086356-08-001                    86356            Octavend Corp   \n",
       "188451  0086356-09-001                    86356            Octavend Corp   \n",
       "188452  0086356-10-001                    86356            Octavend Corp   \n",
       "\n",
       "                             DBA Name  Street Address           City State  \\\n",
       "6050               Nopa Corner Market  1601 Fulton St  San Francisco    CA   \n",
       "14955    Stevens Bus Products & Flags    623 Baker St  San Francisco    CA   \n",
       "46345                     Local Craft  1421 Fulton St  San Francisco    CA   \n",
       "134015                     Jl Designs  430 Baker St 3  San Francisco    CA   \n",
       "148866         San Francisco Balloons    533 Baker St  San Francisco    CA   \n",
       "179969            Nopa Liquors & Deli  1601 Fulton St  San Francisco    CA   \n",
       "188449                        Stevens    623 Baker St  San Francisco    CA   \n",
       "188450           The Stevens Flagship    623 Baker St  San Francisco    CA   \n",
       "188451          Stevens International    623 Baker St  San Francisco    CA   \n",
       "188452  The San Francisco Flag Museum    623 Baker St  San Francisco    CA   \n",
       "\n",
       "        Source Zipcode Business Start Date Business End Date  \\\n",
       "6050           94117.0          10/05/2016               NaN   \n",
       "14955          94117.0          01/01/1975               NaN   \n",
       "46345          94117.0          03/06/2007               NaN   \n",
       "134015         94117.0          08/15/2002               NaN   \n",
       "148866         94117.0          11/03/1994               NaN   \n",
       "179969         94117.0          10/05/2016               NaN   \n",
       "188449         94117.0          01/01/1975               NaN   \n",
       "188450         94117.0          01/01/1975               NaN   \n",
       "188451         94117.0          01/01/1975               NaN   \n",
       "188452         94117.0          01/01/1975               NaN   \n",
       "\n",
       "                              ...                         NAICS Code  \\\n",
       "6050                          ...                          4400-4599   \n",
       "14955                         ...                          4400-4599   \n",
       "46345                         ...                          4400-4599   \n",
       "134015                        ...                          4400-4599   \n",
       "148866                        ...                          4400-4599   \n",
       "179969                        ...                          4400-4599   \n",
       "188449                        ...                          4400-4599   \n",
       "188450                        ...                          4400-4599   \n",
       "188451                        ...                          4400-4599   \n",
       "188452                        ...                          4400-4599   \n",
       "\n",
       "       NAICS Code Description Parking Tax Transient Occupancy Tax LIC Code  \\\n",
       "6050             Retail Trade       False                   False      NaN   \n",
       "14955            Retail Trade       False                   False      NaN   \n",
       "46345            Retail Trade       False                   False      NaN   \n",
       "134015           Retail Trade       False                   False      NaN   \n",
       "148866           Retail Trade       False                   False      NaN   \n",
       "179969           Retail Trade       False                   False      H73   \n",
       "188449           Retail Trade       False                   False      NaN   \n",
       "188450           Retail Trade       False                   False      NaN   \n",
       "188451           Retail Trade       False                   False      NaN   \n",
       "188452           Retail Trade       False                   False      NaN   \n",
       "\n",
       "                        LIC Code Description Supervisor District  \\\n",
       "6050                                     NaN                 NaN   \n",
       "14955                                    NaN                 5.0   \n",
       "46345                                    NaN                 5.0   \n",
       "134015                                   NaN                 5.0   \n",
       "148866                                   NaN                 5.0   \n",
       "179969  Deemed Approved Off-Sale Alcohol Use                 NaN   \n",
       "188449                                   NaN                 5.0   \n",
       "188450                                   NaN                 5.0   \n",
       "188451                                   NaN                 5.0   \n",
       "188452                                   NaN                 5.0   \n",
       "\n",
       "       Neighborhoods - Analysis Boundaries  Business Corridor  \\\n",
       "6050                                   NaN                NaN   \n",
       "14955                    Lone Mountain/USF                NaN   \n",
       "46345                         Hayes Valley                NaN   \n",
       "134015                        Hayes Valley                NaN   \n",
       "148866                   Lone Mountain/USF                NaN   \n",
       "179969                                 NaN                NaN   \n",
       "188449                   Lone Mountain/USF                NaN   \n",
       "188450                   Lone Mountain/USF                NaN   \n",
       "188451                   Lone Mountain/USF                NaN   \n",
       "188452                   Lone Mountain/USF                NaN   \n",
       "\n",
       "                                        Business Location  \n",
       "6050                                                  NaN  \n",
       "14955   623 BAKER ST\\nSan Francisco, CA 94117\\n(37.776...  \n",
       "46345   1421 FULTON ST\\nSan Francisco, CA 94117\\n(37.7...  \n",
       "134015  430 BAKER ST\\nSAN FRANCISCO, CA 94117\\n(37.774...  \n",
       "148866  533 BAKER ST\\nSAN FRANCISCO, CA 94117\\n(37.775...  \n",
       "179969                                                NaN  \n",
       "188449  623 BAKER ST\\nSan Francisco, CA 94117\\n(37.776...  \n",
       "188450  623 BAKER ST\\nSan Francisco, CA 94117\\n(37.776...  \n",
       "188451  623 BAKER ST\\nSan Francisco, CA 94117\\n(37.776...  \n",
       "188452  623 BAKER ST\\nSan Francisco, CA 94117\\n(37.776...  \n",
       "\n",
       "[10 rows x 26 columns]"
      ]
     },
     "execution_count": 49,
     "metadata": {},
     "output_type": "execute_result"
    }
   ],
   "source": [
    "business_df[business_df['NAICS Code Description'] == 'Retail Trade']"
   ]
  },
  {
   "cell_type": "markdown",
   "metadata": {},
   "source": [
    "Upon Inspecting the above two dataframes we can make the following observations:\n",
    ">* All the Food Services are restaurants and would increase the foot traffic around ASIV, and increase it's  popularity\n",
    ">* In the Retail trade businesses, we can identify a corner store and a Deli, which aren't direct competitors. In fact if these traders receive a significant amount of customers, in certain cases our grocery store can catch the overflow from these traders in turn <b>boosting our brand awareness</b>"
   ]
  },
  {
   "cell_type": "code",
   "execution_count": null,
   "metadata": {
    "collapsed": true
   },
   "outputs": [],
   "source": []
  }
 ],
 "metadata": {
  "kernelspec": {
   "display_name": "Python 3",
   "language": "python",
   "name": "python3"
  },
  "language_info": {
   "codemirror_mode": {
    "name": "ipython",
    "version": 3
   },
   "file_extension": ".py",
   "mimetype": "text/x-python",
   "name": "python",
   "nbconvert_exporter": "python",
   "pygments_lexer": "ipython3",
   "version": "3.6.4"
  }
 },
 "nbformat": 4,
 "nbformat_minor": 2
}
