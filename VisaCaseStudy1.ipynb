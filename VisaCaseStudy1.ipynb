{
 "cells": [
  {
   "cell_type": "markdown",
   "metadata": {},
   "source": [
    "# VISA CASE STUDY"
   ]
  },
  {
   "cell_type": "markdown",
   "metadata": {},
   "source": [
    "### Problem Statement:\n",
    "><b>How would you determine if a specific block in your neighborhood is suitable for a new grocery store?"
   ]
  },
  {
   "cell_type": "markdown",
   "metadata": {},
   "source": [
    "The following Notebook is an attempt to acheive the following:<br>\n",
    "***\n",
    "1. Frame the above problem coherently\n",
    "2. Use Analyses techniques on the data\n",
    "3. Leverage the results and findings to suggest possible solutions/insights\n",
    "4. Discuss potential limitations of the approach"
   ]
  },
  {
   "cell_type": "markdown",
   "metadata": {
    "collapsed": true
   },
   "source": [
    "### Framing the Problem"
   ]
  },
  {
   "cell_type": "markdown",
   "metadata": {},
   "source": [
    "We are trying to assess the pros and cons of choosing a specific neighbourhood block as the site for our grocery stores.<br>\n",
    "Let us lay some base assumptions and groundwork for the analyses that will be carried out.<br>\n",
    "***\n",
    "1. The location is chosen as the corner of <b>Baker and Fulton Street</b>, located in the North of Panhandle region in San Francisco. (This location was chosen because I recently noticed a popular Chilis pie shop permanently close at that location)\n",
    "2. Factors affecting our decision:\n",
    "<b><br>\n",
    " a. Security<br>\n",
    " b. Population density around the block<br>\n",
    " c. Traffic <br>\n",
    " d. Distance from import location<br>\n",
    " e. _More factors can be added later_<br></b>\n",
    " \n",
    "Our final decision will be based on the insights we gain from analyzing the above "
   ]
  },
  {
   "cell_type": "markdown",
   "metadata": {},
   "source": [
    "## Exploratory Analysis"
   ]
  },
  {
   "cell_type": "markdown",
   "metadata": {},
   "source": [
    "### Security"
   ]
  },
  {
   "cell_type": "markdown",
   "metadata": {},
   "source": [
    "Lets start with our first area of concern which is the security in the area.<br><br>\n",
    ">Assuming most people aren't very likely to shop for groceries in parts of town more notorious for criminal offenses. A prime factor that affects our decision for the grocery shops is the security in the area. "
   ]
  },
  {
   "cell_type": "markdown",
   "metadata": {},
   "source": [
    "#### Acquiring the data"
   ]
  },
  {
   "cell_type": "markdown",
   "metadata": {},
   "source": [
    "Fortunately, San Francisco has a public repository of city data related to Transportaion, City Infrastructure and yes <b> Public Safety</b> avaliable at:<br>\n",
    ">https://datasf.org<br>\n",
    ">https://data.sfgov.org/Public-Safety/Police-Department-Incidents-Current-Year-2018-/956q-2t7k"
   ]
  },
  {
   "cell_type": "markdown",
   "metadata": {},
   "source": [
    "I've chosen police department incidents for the year of 2018 so far."
   ]
  },
  {
   "cell_type": "markdown",
   "metadata": {},
   "source": [
    "Handling Imports"
   ]
  },
  {
   "cell_type": "code",
   "execution_count": 2,
   "metadata": {
    "collapsed": true
   },
   "outputs": [],
   "source": [
    "import pandas as pd\n",
    "import matplotlib.pyplot as plt"
   ]
  },
  {
   "cell_type": "code",
   "execution_count": 3,
   "metadata": {
    "collapsed": true
   },
   "outputs": [],
   "source": [
    "crime_df = pd.read_csv('Police_Department_Incidents_-_Current_Year__2018_.csv')"
   ]
  },
  {
   "cell_type": "code",
   "execution_count": 6,
   "metadata": {},
   "outputs": [
    {
     "data": {
      "text/html": [
       "<div>\n",
       "<style scoped>\n",
       "    .dataframe tbody tr th:only-of-type {\n",
       "        vertical-align: middle;\n",
       "    }\n",
       "\n",
       "    .dataframe tbody tr th {\n",
       "        vertical-align: top;\n",
       "    }\n",
       "\n",
       "    .dataframe thead th {\n",
       "        text-align: right;\n",
       "    }\n",
       "</style>\n",
       "<table border=\"1\" class=\"dataframe\">\n",
       "  <thead>\n",
       "    <tr style=\"text-align: right;\">\n",
       "      <th></th>\n",
       "      <th>IncidntNum</th>\n",
       "      <th>Category</th>\n",
       "      <th>Descript</th>\n",
       "      <th>DayOfWeek</th>\n",
       "      <th>Date</th>\n",
       "      <th>Time</th>\n",
       "      <th>PdDistrict</th>\n",
       "      <th>Resolution</th>\n",
       "      <th>Address</th>\n",
       "      <th>X</th>\n",
       "      <th>Y</th>\n",
       "      <th>Location</th>\n",
       "      <th>PdId</th>\n",
       "    </tr>\n",
       "  </thead>\n",
       "  <tbody>\n",
       "    <tr>\n",
       "      <th>0</th>\n",
       "      <td>189014013</td>\n",
       "      <td>NON-CRIMINAL</td>\n",
       "      <td>STAY AWAY OR COURT ORDER, NON-DV RELATED</td>\n",
       "      <td>Monday</td>\n",
       "      <td>01/01/2018</td>\n",
       "      <td>22:37</td>\n",
       "      <td>TARAVAL</td>\n",
       "      <td>ARREST, BOOKED</td>\n",
       "      <td>3500 Block of 19TH AV</td>\n",
       "      <td>-122.474829</td>\n",
       "      <td>37.723976</td>\n",
       "      <td>(37.723975823482135, -122.47482947577244)</td>\n",
       "      <td>18901401371024</td>\n",
       "    </tr>\n",
       "    <tr>\n",
       "      <th>1</th>\n",
       "      <td>186095971</td>\n",
       "      <td>OTHER OFFENSES</td>\n",
       "      <td>OBSCENE PHONE CALLS(S)</td>\n",
       "      <td>Monday</td>\n",
       "      <td>01/01/2018</td>\n",
       "      <td>08:00</td>\n",
       "      <td>TENDERLOIN</td>\n",
       "      <td>NONE</td>\n",
       "      <td>500 Block of EDDY ST</td>\n",
       "      <td>-122.416711</td>\n",
       "      <td>37.783357</td>\n",
       "      <td>(37.78335703909351, -122.41671073384802)</td>\n",
       "      <td>18609597119050</td>\n",
       "    </tr>\n",
       "    <tr>\n",
       "      <th>2</th>\n",
       "      <td>186084021</td>\n",
       "      <td>FRAUD</td>\n",
       "      <td>CREDIT CARD, THEFT BY USE OF</td>\n",
       "      <td>Monday</td>\n",
       "      <td>01/01/2018</td>\n",
       "      <td>00:01</td>\n",
       "      <td>NORTHERN</td>\n",
       "      <td>NONE</td>\n",
       "      <td>1200 Block of EDDY ST</td>\n",
       "      <td>-122.428223</td>\n",
       "      <td>37.781896</td>\n",
       "      <td>(37.78189594886033, -122.42822330317604)</td>\n",
       "      <td>18608402109320</td>\n",
       "    </tr>\n",
       "    <tr>\n",
       "      <th>3</th>\n",
       "      <td>186072593</td>\n",
       "      <td>NON-CRIMINAL</td>\n",
       "      <td>LOST PROPERTY</td>\n",
       "      <td>Monday</td>\n",
       "      <td>01/01/2018</td>\n",
       "      <td>17:00</td>\n",
       "      <td>MISSION</td>\n",
       "      <td>NONE</td>\n",
       "      <td>2100 Block of MARKET ST</td>\n",
       "      <td>-122.429789</td>\n",
       "      <td>37.766652</td>\n",
       "      <td>(37.766652147476215, -122.4297889869883)</td>\n",
       "      <td>18607259371000</td>\n",
       "    </tr>\n",
       "    <tr>\n",
       "      <th>4</th>\n",
       "      <td>186063279</td>\n",
       "      <td>LARCENY/THEFT</td>\n",
       "      <td>GRAND THEFT FROM LOCKED AUTO</td>\n",
       "      <td>Monday</td>\n",
       "      <td>01/01/2018</td>\n",
       "      <td>22:00</td>\n",
       "      <td>SOUTHERN</td>\n",
       "      <td>NONE</td>\n",
       "      <td>800 Block of BRYANT ST</td>\n",
       "      <td>-122.403405</td>\n",
       "      <td>37.775421</td>\n",
       "      <td>(37.775420706711, -122.40340479147905)</td>\n",
       "      <td>18606327906244</td>\n",
       "    </tr>\n",
       "  </tbody>\n",
       "</table>\n",
       "</div>"
      ],
      "text/plain": [
       "   IncidntNum        Category                                  Descript  \\\n",
       "0   189014013    NON-CRIMINAL  STAY AWAY OR COURT ORDER, NON-DV RELATED   \n",
       "1   186095971  OTHER OFFENSES                    OBSCENE PHONE CALLS(S)   \n",
       "2   186084021           FRAUD              CREDIT CARD, THEFT BY USE OF   \n",
       "3   186072593    NON-CRIMINAL                             LOST PROPERTY   \n",
       "4   186063279   LARCENY/THEFT              GRAND THEFT FROM LOCKED AUTO   \n",
       "\n",
       "  DayOfWeek        Date   Time  PdDistrict      Resolution  \\\n",
       "0    Monday  01/01/2018  22:37     TARAVAL  ARREST, BOOKED   \n",
       "1    Monday  01/01/2018  08:00  TENDERLOIN            NONE   \n",
       "2    Monday  01/01/2018  00:01    NORTHERN            NONE   \n",
       "3    Monday  01/01/2018  17:00     MISSION            NONE   \n",
       "4    Monday  01/01/2018  22:00    SOUTHERN            NONE   \n",
       "\n",
       "                   Address           X          Y  \\\n",
       "0    3500 Block of 19TH AV -122.474829  37.723976   \n",
       "1     500 Block of EDDY ST -122.416711  37.783357   \n",
       "2    1200 Block of EDDY ST -122.428223  37.781896   \n",
       "3  2100 Block of MARKET ST -122.429789  37.766652   \n",
       "4   800 Block of BRYANT ST -122.403405  37.775421   \n",
       "\n",
       "                                    Location            PdId  \n",
       "0  (37.723975823482135, -122.47482947577244)  18901401371024  \n",
       "1   (37.78335703909351, -122.41671073384802)  18609597119050  \n",
       "2   (37.78189594886033, -122.42822330317604)  18608402109320  \n",
       "3   (37.766652147476215, -122.4297889869883)  18607259371000  \n",
       "4     (37.775420706711, -122.40340479147905)  18606327906244  "
      ]
     },
     "execution_count": 6,
     "metadata": {},
     "output_type": "execute_result"
    }
   ],
   "source": [
    "crime_df.head()"
   ]
  },
  {
   "cell_type": "markdown",
   "metadata": {},
   "source": [
    "To better understand our data, lets first look at the Category and PdDistrict features, as they seem relevant to crime and location information."
   ]
  },
  {
   "cell_type": "code",
   "execution_count": 7,
   "metadata": {},
   "outputs": [
    {
     "data": {
      "text/plain": [
       "count             46668\n",
       "unique               37\n",
       "top       LARCENY/THEFT\n",
       "freq              13632\n",
       "Name: Category, dtype: object"
      ]
     },
     "execution_count": 7,
     "metadata": {},
     "output_type": "execute_result"
    }
   ],
   "source": [
    "crime_df.Category.describe()"
   ]
  },
  {
   "cell_type": "markdown",
   "metadata": {},
   "source": [
    "As we can see there are 37 unique values for the Category of the crime, the most common one being Larceny/Theft"
   ]
  },
  {
   "cell_type": "code",
   "execution_count": 8,
   "metadata": {},
   "outputs": [
    {
     "data": {
      "text/plain": [
       "count        46668\n",
       "unique          10\n",
       "top       SOUTHERN\n",
       "freq          8577\n",
       "Name: PdDistrict, dtype: object"
      ]
     },
     "execution_count": 8,
     "metadata": {},
     "output_type": "execute_result"
    }
   ],
   "source": [
    "crime_df.PdDistrict.describe()"
   ]
  },
  {
   "cell_type": "markdown",
   "metadata": {},
   "source": [
    "There are 10 unique values for the district locations.<br><br>\n",
    "Let's look at these values further."
   ]
  },
  {
   "cell_type": "code",
   "execution_count": null,
   "metadata": {
    "collapsed": true
   },
   "outputs": [],
   "source": []
  }
 ],
 "metadata": {
  "kernelspec": {
   "display_name": "Python 3",
   "language": "python",
   "name": "python3"
  },
  "language_info": {
   "codemirror_mode": {
    "name": "ipython",
    "version": 3
   },
   "file_extension": ".py",
   "mimetype": "text/x-python",
   "name": "python",
   "nbconvert_exporter": "python",
   "pygments_lexer": "ipython3",
   "version": "3.6.4"
  }
 },
 "nbformat": 4,
 "nbformat_minor": 2
}
