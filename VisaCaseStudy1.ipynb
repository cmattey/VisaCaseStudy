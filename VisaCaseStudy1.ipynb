{
 "cells": [
  {
   "cell_type": "markdown",
   "metadata": {},
   "source": [
    "# VISA CASE STUDY"
   ]
  },
  {
   "cell_type": "markdown",
   "metadata": {},
   "source": [
    "### Problem Statement:\n",
    "><b>How would you determine if a specific block in your neighborhood is suitable for a new grocery store?"
   ]
  },
  {
   "cell_type": "markdown",
   "metadata": {},
   "source": [
    "***"
   ]
  },
  {
   "cell_type": "markdown",
   "metadata": {},
   "source": [
    "The following Notebook is an attempt to acheive the following:<br>\n",
    "1. Frame the above problem coherently\n",
    "2. Use Analyses techniques on the data\n",
    "3. Leverage the results and findings to suggest possible solutions/insights\n",
    "4. Discuss potential limitations of the approach"
   ]
  },
  {
   "cell_type": "markdown",
   "metadata": {},
   "source": [
    "A proposal is provided in the README covering the below points:\n",
    "<br>"
   ]
  },
  {
   "cell_type": "markdown",
   "metadata": {},
   "source": [
    "1. Assumptions - To frame the problem\n",
    "2. Analysis Methodology - To explain your analysis approach and chosen analytics techniques\n",
    "3. Expected Results and Findings\n",
    "4. Recommendations – Based on expected results and findings\n",
    "5. Potential Limitations inherent in the approach\n",
    "***"
   ]
  },
  {
   "cell_type": "markdown",
   "metadata": {
    "collapsed": true
   },
   "source": [
    "### Framing the Problem"
   ]
  },
  {
   "cell_type": "markdown",
   "metadata": {},
   "source": [
    "We are analyzing the pros and cons of choosing a specific neighbourhood block as the site for our grocery stores.<br>\n",
    "I have very originally chosen to name our potential store ASIV.<br>\n",
    "Let us lay some base assumptions and groundwork for the analyses that will be carried out.<br>\n",
    "***\n",
    "1. The location is chosen as the block around <b>Baker and Fulton Street</b>, located in the North of Panhandle region of San Francisco. (This location was chosen because I recently noticed a popular Chilis pie shop permanently close at that location :( )\n",
    "2. Factors that we will be considering in this case study:\n",
    "<b><br>\n",
    " a. Security<br>\n",
    " b. Population demographics around the block<br>\n",
    " c. Accessibility <br>\n",
    " d. Types of nearby businesses<br>\n",
    "</b><br>\n",
    "There are of couse other factors, such as type and goods of our store, import costs etc which can be considered in successive studies."
   ]
  },
  {
   "cell_type": "markdown",
   "metadata": {},
   "source": [
    "## Exploratory Analysis"
   ]
  },
  {
   "cell_type": "markdown",
   "metadata": {},
   "source": [
    "### Security"
   ]
  },
  {
   "cell_type": "markdown",
   "metadata": {},
   "source": [
    "Lets start with our first area of concern which is the security in the area.<br><br>\n",
    ">Assuming most people aren't very likely to shop for groceries in parts of town more notorious for criminal offenses. A prime factor that affects our decision for the grocery shops is the security in the area. "
   ]
  },
  {
   "cell_type": "markdown",
   "metadata": {},
   "source": [
    "#### Acquiring the data"
   ]
  },
  {
   "cell_type": "markdown",
   "metadata": {},
   "source": [
    "Fortunately, San Francisco has a public repository of city data related to Transportaion, City Infrastructure and yes <b> Public Safety</b> avaliable at:<br>\n",
    ">https://datasf.org<br>\n",
    ">https://data.sfgov.org/Public-Safety/Police-Department-Incidents-Current-Year-2018-/956q-2t7k"
   ]
  },
  {
   "cell_type": "markdown",
   "metadata": {},
   "source": [
    "I've chosen police department incidents for the year of 2018 so far."
   ]
  },
  {
   "cell_type": "markdown",
   "metadata": {},
   "source": [
    "Handling Imports"
   ]
  },
  {
   "cell_type": "code",
   "execution_count": 1,
   "metadata": {
    "collapsed": true
   },
   "outputs": [],
   "source": [
    "import pandas as pd\n",
    "import numpy as np\n",
    "\n",
    "import matplotlib.pyplot as plt\n",
    "import seaborn as sns\n",
    "sns.set()\n",
    "%matplotlib inline"
   ]
  },
  {
   "cell_type": "code",
   "execution_count": 2,
   "metadata": {
    "collapsed": true
   },
   "outputs": [],
   "source": [
    "crime_df = pd.read_csv('data/Police_Department_Incidents_-_Current_Year__2018_.csv')"
   ]
  },
  {
   "cell_type": "code",
   "execution_count": 3,
   "metadata": {
    "scrolled": false
   },
   "outputs": [
    {
     "data": {
      "text/html": [
       "<div>\n",
       "<style scoped>\n",
       "    .dataframe tbody tr th:only-of-type {\n",
       "        vertical-align: middle;\n",
       "    }\n",
       "\n",
       "    .dataframe tbody tr th {\n",
       "        vertical-align: top;\n",
       "    }\n",
       "\n",
       "    .dataframe thead th {\n",
       "        text-align: right;\n",
       "    }\n",
       "</style>\n",
       "<table border=\"1\" class=\"dataframe\">\n",
       "  <thead>\n",
       "    <tr style=\"text-align: right;\">\n",
       "      <th></th>\n",
       "      <th>IncidntNum</th>\n",
       "      <th>Category</th>\n",
       "      <th>Descript</th>\n",
       "      <th>DayOfWeek</th>\n",
       "      <th>Date</th>\n",
       "      <th>Time</th>\n",
       "      <th>PdDistrict</th>\n",
       "      <th>Resolution</th>\n",
       "      <th>Address</th>\n",
       "      <th>X</th>\n",
       "      <th>Y</th>\n",
       "      <th>Location</th>\n",
       "      <th>PdId</th>\n",
       "    </tr>\n",
       "  </thead>\n",
       "  <tbody>\n",
       "    <tr>\n",
       "      <th>0</th>\n",
       "      <td>189014013</td>\n",
       "      <td>NON-CRIMINAL</td>\n",
       "      <td>STAY AWAY OR COURT ORDER, NON-DV RELATED</td>\n",
       "      <td>Monday</td>\n",
       "      <td>01/01/2018</td>\n",
       "      <td>22:37</td>\n",
       "      <td>TARAVAL</td>\n",
       "      <td>ARREST, BOOKED</td>\n",
       "      <td>3500 Block of 19TH AV</td>\n",
       "      <td>-122.474829</td>\n",
       "      <td>37.723976</td>\n",
       "      <td>(37.723975823482135, -122.47482947577244)</td>\n",
       "      <td>18901401371024</td>\n",
       "    </tr>\n",
       "    <tr>\n",
       "      <th>1</th>\n",
       "      <td>186095971</td>\n",
       "      <td>OTHER OFFENSES</td>\n",
       "      <td>OBSCENE PHONE CALLS(S)</td>\n",
       "      <td>Monday</td>\n",
       "      <td>01/01/2018</td>\n",
       "      <td>08:00</td>\n",
       "      <td>TENDERLOIN</td>\n",
       "      <td>NONE</td>\n",
       "      <td>500 Block of EDDY ST</td>\n",
       "      <td>-122.416711</td>\n",
       "      <td>37.783357</td>\n",
       "      <td>(37.78335703909351, -122.41671073384802)</td>\n",
       "      <td>18609597119050</td>\n",
       "    </tr>\n",
       "    <tr>\n",
       "      <th>2</th>\n",
       "      <td>186084021</td>\n",
       "      <td>FRAUD</td>\n",
       "      <td>CREDIT CARD, THEFT BY USE OF</td>\n",
       "      <td>Monday</td>\n",
       "      <td>01/01/2018</td>\n",
       "      <td>00:01</td>\n",
       "      <td>NORTHERN</td>\n",
       "      <td>NONE</td>\n",
       "      <td>1200 Block of EDDY ST</td>\n",
       "      <td>-122.428223</td>\n",
       "      <td>37.781896</td>\n",
       "      <td>(37.78189594886033, -122.42822330317604)</td>\n",
       "      <td>18608402109320</td>\n",
       "    </tr>\n",
       "    <tr>\n",
       "      <th>3</th>\n",
       "      <td>186072593</td>\n",
       "      <td>NON-CRIMINAL</td>\n",
       "      <td>LOST PROPERTY</td>\n",
       "      <td>Monday</td>\n",
       "      <td>01/01/2018</td>\n",
       "      <td>17:00</td>\n",
       "      <td>MISSION</td>\n",
       "      <td>NONE</td>\n",
       "      <td>2100 Block of MARKET ST</td>\n",
       "      <td>-122.429789</td>\n",
       "      <td>37.766652</td>\n",
       "      <td>(37.766652147476215, -122.4297889869883)</td>\n",
       "      <td>18607259371000</td>\n",
       "    </tr>\n",
       "    <tr>\n",
       "      <th>4</th>\n",
       "      <td>186063279</td>\n",
       "      <td>LARCENY/THEFT</td>\n",
       "      <td>GRAND THEFT FROM LOCKED AUTO</td>\n",
       "      <td>Monday</td>\n",
       "      <td>01/01/2018</td>\n",
       "      <td>22:00</td>\n",
       "      <td>SOUTHERN</td>\n",
       "      <td>NONE</td>\n",
       "      <td>800 Block of BRYANT ST</td>\n",
       "      <td>-122.403405</td>\n",
       "      <td>37.775421</td>\n",
       "      <td>(37.775420706711, -122.40340479147905)</td>\n",
       "      <td>18606327906244</td>\n",
       "    </tr>\n",
       "  </tbody>\n",
       "</table>\n",
       "</div>"
      ],
      "text/plain": [
       "   IncidntNum        Category                                  Descript  \\\n",
       "0   189014013    NON-CRIMINAL  STAY AWAY OR COURT ORDER, NON-DV RELATED   \n",
       "1   186095971  OTHER OFFENSES                    OBSCENE PHONE CALLS(S)   \n",
       "2   186084021           FRAUD              CREDIT CARD, THEFT BY USE OF   \n",
       "3   186072593    NON-CRIMINAL                             LOST PROPERTY   \n",
       "4   186063279   LARCENY/THEFT              GRAND THEFT FROM LOCKED AUTO   \n",
       "\n",
       "  DayOfWeek        Date   Time  PdDistrict      Resolution  \\\n",
       "0    Monday  01/01/2018  22:37     TARAVAL  ARREST, BOOKED   \n",
       "1    Monday  01/01/2018  08:00  TENDERLOIN            NONE   \n",
       "2    Monday  01/01/2018  00:01    NORTHERN            NONE   \n",
       "3    Monday  01/01/2018  17:00     MISSION            NONE   \n",
       "4    Monday  01/01/2018  22:00    SOUTHERN            NONE   \n",
       "\n",
       "                   Address           X          Y  \\\n",
       "0    3500 Block of 19TH AV -122.474829  37.723976   \n",
       "1     500 Block of EDDY ST -122.416711  37.783357   \n",
       "2    1200 Block of EDDY ST -122.428223  37.781896   \n",
       "3  2100 Block of MARKET ST -122.429789  37.766652   \n",
       "4   800 Block of BRYANT ST -122.403405  37.775421   \n",
       "\n",
       "                                    Location            PdId  \n",
       "0  (37.723975823482135, -122.47482947577244)  18901401371024  \n",
       "1   (37.78335703909351, -122.41671073384802)  18609597119050  \n",
       "2   (37.78189594886033, -122.42822330317604)  18608402109320  \n",
       "3   (37.766652147476215, -122.4297889869883)  18607259371000  \n",
       "4     (37.775420706711, -122.40340479147905)  18606327906244  "
      ]
     },
     "execution_count": 3,
     "metadata": {},
     "output_type": "execute_result"
    }
   ],
   "source": [
    "crime_df.head()"
   ]
  },
  {
   "cell_type": "code",
   "execution_count": 4,
   "metadata": {},
   "outputs": [
    {
     "data": {
      "text/plain": [
       "(46668, 13)"
      ]
     },
     "execution_count": 4,
     "metadata": {},
     "output_type": "execute_result"
    }
   ],
   "source": [
    "crime_df.shape"
   ]
  },
  {
   "cell_type": "code",
   "execution_count": 5,
   "metadata": {},
   "outputs": [
    {
     "data": {
      "text/html": [
       "<div>\n",
       "<style scoped>\n",
       "    .dataframe tbody tr th:only-of-type {\n",
       "        vertical-align: middle;\n",
       "    }\n",
       "\n",
       "    .dataframe tbody tr th {\n",
       "        vertical-align: top;\n",
       "    }\n",
       "\n",
       "    .dataframe thead th {\n",
       "        text-align: right;\n",
       "    }\n",
       "</style>\n",
       "<table border=\"1\" class=\"dataframe\">\n",
       "  <thead>\n",
       "    <tr style=\"text-align: right;\">\n",
       "      <th></th>\n",
       "      <th>IncidntNum</th>\n",
       "      <th>X</th>\n",
       "      <th>Y</th>\n",
       "      <th>PdId</th>\n",
       "    </tr>\n",
       "  </thead>\n",
       "  <tbody>\n",
       "    <tr>\n",
       "      <th>count</th>\n",
       "      <td>4.666800e+04</td>\n",
       "      <td>46668.000000</td>\n",
       "      <td>46668.000000</td>\n",
       "      <td>4.666800e+04</td>\n",
       "    </tr>\n",
       "    <tr>\n",
       "      <th>mean</th>\n",
       "      <td>1.813598e+08</td>\n",
       "      <td>-122.423404</td>\n",
       "      <td>37.769032</td>\n",
       "      <td>1.813598e+13</td>\n",
       "    </tr>\n",
       "    <tr>\n",
       "      <th>std</th>\n",
       "      <td>2.974998e+06</td>\n",
       "      <td>0.025635</td>\n",
       "      <td>0.023854</td>\n",
       "      <td>2.974998e+11</td>\n",
       "    </tr>\n",
       "    <tr>\n",
       "      <th>min</th>\n",
       "      <td>1.802993e+07</td>\n",
       "      <td>-122.513642</td>\n",
       "      <td>37.707922</td>\n",
       "      <td>1.802993e+12</td>\n",
       "    </tr>\n",
       "    <tr>\n",
       "      <th>25%</th>\n",
       "      <td>1.801110e+08</td>\n",
       "      <td>-122.433111</td>\n",
       "      <td>37.756486</td>\n",
       "      <td>1.801110e+13</td>\n",
       "    </tr>\n",
       "    <tr>\n",
       "      <th>50%</th>\n",
       "      <td>1.802233e+08</td>\n",
       "      <td>-122.417145</td>\n",
       "      <td>37.775421</td>\n",
       "      <td>1.802233e+13</td>\n",
       "    </tr>\n",
       "    <tr>\n",
       "      <th>75%</th>\n",
       "      <td>1.803351e+08</td>\n",
       "      <td>-122.406978</td>\n",
       "      <td>37.785151</td>\n",
       "      <td>1.803351e+13</td>\n",
       "    </tr>\n",
       "    <tr>\n",
       "      <th>max</th>\n",
       "      <td>3.860343e+08</td>\n",
       "      <td>-122.365241</td>\n",
       "      <td>37.819923</td>\n",
       "      <td>3.860343e+13</td>\n",
       "    </tr>\n",
       "  </tbody>\n",
       "</table>\n",
       "</div>"
      ],
      "text/plain": [
       "         IncidntNum             X             Y          PdId\n",
       "count  4.666800e+04  46668.000000  46668.000000  4.666800e+04\n",
       "mean   1.813598e+08   -122.423404     37.769032  1.813598e+13\n",
       "std    2.974998e+06      0.025635      0.023854  2.974998e+11\n",
       "min    1.802993e+07   -122.513642     37.707922  1.802993e+12\n",
       "25%    1.801110e+08   -122.433111     37.756486  1.801110e+13\n",
       "50%    1.802233e+08   -122.417145     37.775421  1.802233e+13\n",
       "75%    1.803351e+08   -122.406978     37.785151  1.803351e+13\n",
       "max    3.860343e+08   -122.365241     37.819923  3.860343e+13"
      ]
     },
     "execution_count": 5,
     "metadata": {},
     "output_type": "execute_result"
    }
   ],
   "source": [
    "crime_df.describe()"
   ]
  },
  {
   "cell_type": "code",
   "execution_count": 6,
   "metadata": {
    "scrolled": true
   },
   "outputs": [
    {
     "data": {
      "text/plain": [
       "IncidntNum      int64\n",
       "Category       object\n",
       "Descript       object\n",
       "DayOfWeek      object\n",
       "Date           object\n",
       "Time           object\n",
       "PdDistrict     object\n",
       "Resolution     object\n",
       "Address        object\n",
       "X             float64\n",
       "Y             float64\n",
       "Location       object\n",
       "PdId            int64\n",
       "dtype: object"
      ]
     },
     "execution_count": 6,
     "metadata": {},
     "output_type": "execute_result"
    }
   ],
   "source": [
    "crime_df.dtypes"
   ]
  },
  {
   "cell_type": "markdown",
   "metadata": {},
   "source": [
    "Lets look at the object types"
   ]
  },
  {
   "cell_type": "code",
   "execution_count": 7,
   "metadata": {},
   "outputs": [
    {
     "data": {
      "text/html": [
       "<div>\n",
       "<style scoped>\n",
       "    .dataframe tbody tr th:only-of-type {\n",
       "        vertical-align: middle;\n",
       "    }\n",
       "\n",
       "    .dataframe tbody tr th {\n",
       "        vertical-align: top;\n",
       "    }\n",
       "\n",
       "    .dataframe thead th {\n",
       "        text-align: right;\n",
       "    }\n",
       "</style>\n",
       "<table border=\"1\" class=\"dataframe\">\n",
       "  <thead>\n",
       "    <tr style=\"text-align: right;\">\n",
       "      <th></th>\n",
       "      <th>Category</th>\n",
       "      <th>Descript</th>\n",
       "      <th>DayOfWeek</th>\n",
       "      <th>Date</th>\n",
       "      <th>Time</th>\n",
       "      <th>PdDistrict</th>\n",
       "      <th>Resolution</th>\n",
       "      <th>Address</th>\n",
       "      <th>Location</th>\n",
       "    </tr>\n",
       "  </thead>\n",
       "  <tbody>\n",
       "    <tr>\n",
       "      <th>count</th>\n",
       "      <td>46668</td>\n",
       "      <td>46668</td>\n",
       "      <td>46668</td>\n",
       "      <td>46668</td>\n",
       "      <td>46668</td>\n",
       "      <td>46668</td>\n",
       "      <td>46668</td>\n",
       "      <td>46668</td>\n",
       "      <td>46668</td>\n",
       "    </tr>\n",
       "    <tr>\n",
       "      <th>unique</th>\n",
       "      <td>37</td>\n",
       "      <td>590</td>\n",
       "      <td>7</td>\n",
       "      <td>135</td>\n",
       "      <td>1422</td>\n",
       "      <td>10</td>\n",
       "      <td>9</td>\n",
       "      <td>10215</td>\n",
       "      <td>11240</td>\n",
       "    </tr>\n",
       "    <tr>\n",
       "      <th>top</th>\n",
       "      <td>LARCENY/THEFT</td>\n",
       "      <td>GRAND THEFT FROM LOCKED AUTO</td>\n",
       "      <td>Friday</td>\n",
       "      <td>01/01/2018</td>\n",
       "      <td>00:01</td>\n",
       "      <td>SOUTHERN</td>\n",
       "      <td>NONE</td>\n",
       "      <td>800 Block of BRYANT ST</td>\n",
       "      <td>(37.775420706711, -122.40340479147905)</td>\n",
       "    </tr>\n",
       "    <tr>\n",
       "      <th>freq</th>\n",
       "      <td>13632</td>\n",
       "      <td>6256</td>\n",
       "      <td>7144</td>\n",
       "      <td>453</td>\n",
       "      <td>1171</td>\n",
       "      <td>8577</td>\n",
       "      <td>34509</td>\n",
       "      <td>1041</td>\n",
       "      <td>1035</td>\n",
       "    </tr>\n",
       "  </tbody>\n",
       "</table>\n",
       "</div>"
      ],
      "text/plain": [
       "             Category                      Descript DayOfWeek        Date  \\\n",
       "count           46668                         46668     46668       46668   \n",
       "unique             37                           590         7         135   \n",
       "top     LARCENY/THEFT  GRAND THEFT FROM LOCKED AUTO    Friday  01/01/2018   \n",
       "freq            13632                          6256      7144         453   \n",
       "\n",
       "         Time PdDistrict Resolution                 Address  \\\n",
       "count   46668      46668      46668                   46668   \n",
       "unique   1422         10          9                   10215   \n",
       "top     00:01   SOUTHERN       NONE  800 Block of BRYANT ST   \n",
       "freq     1171       8577      34509                    1041   \n",
       "\n",
       "                                      Location  \n",
       "count                                    46668  \n",
       "unique                                   11240  \n",
       "top     (37.775420706711, -122.40340479147905)  \n",
       "freq                                      1035  "
      ]
     },
     "execution_count": 7,
     "metadata": {},
     "output_type": "execute_result"
    }
   ],
   "source": [
    "crime_df.describe(include=[np.object])"
   ]
  },
  {
   "cell_type": "markdown",
   "metadata": {},
   "source": [
    ">To better understand our data, lets first look at the <b>Category</b> and <b>PdDistrict</b> features, as they seem relevant to crime and location information."
   ]
  },
  {
   "cell_type": "markdown",
   "metadata": {},
   "source": [
    "The data appears to be pretty clean, with no missin values!"
   ]
  },
  {
   "cell_type": "code",
   "execution_count": 8,
   "metadata": {
    "collapsed": true
   },
   "outputs": [],
   "source": [
    "category_counts = crime_df.Category.value_counts()\n",
    "district_counts = crime_df.PdDistrict.value_counts()"
   ]
  },
  {
   "cell_type": "markdown",
   "metadata": {},
   "source": [
    "#### Visualizing the crime category and the district counts"
   ]
  },
  {
   "cell_type": "code",
   "execution_count": 9,
   "metadata": {
    "collapsed": true
   },
   "outputs": [],
   "source": [
    "def make_bar_plot(x,y, palette,xlabel,ylabel):\n",
    "    fig,axs = plt.subplots(figsize = (10,10))\n",
    "\n",
    "    sns.barplot(x = x,\n",
    "                y = y,\n",
    "                palette = palette\n",
    "               )\n",
    "\n",
    "    axs.set(xlabel = xlabel, ylabel = ylabel)"
   ]
  },
  {
   "cell_type": "code",
   "execution_count": 10,
   "metadata": {},
   "outputs": [
    {
     "data": {
      "image/png": "[encoded data removed]",
      "text/plain": [
       "<matplotlib.figure.Figure at 0x1a137d5cf8>"
      ]
     },
     "metadata": {},
     "output_type": "display_data"
    }
   ],
   "source": [
    "make_bar_plot(category_counts,\n",
    "             category_counts.index,\n",
    "             sns.cubehelix_palette(len(category_counts),dark=0.25, light=0.9,reverse=True),\n",
    "             'Crime Count',\n",
    "             'Crime Category')"
   ]
  },
  {
   "cell_type": "code",
   "execution_count": 11,
   "metadata": {},
   "outputs": [
    {
     "data": {
      "image/png": "[encoded data removed]",
      "text/plain": [
       "<matplotlib.figure.Figure at 0x1a137d59b0>"
      ]
     },
     "metadata": {},
     "output_type": "display_data"
    }
   ],
   "source": [
    "make_bar_plot(district_counts,district_counts.index,\n",
    "             'Blues_r',\n",
    "             'District reported Crime Count',\n",
    "             'Districts with reported crimes')"
   ]
  },
  {
   "cell_type": "markdown",
   "metadata": {},
   "source": [
    "The following observations can be made from the above two visualizations:<br>\n",
    "1. The most common crimes are Theft, Non criminal and Other offenses(which are slightly ambiguous), Assault, Vandalism and Burglary. <br> All of these (excluding the ambiguous ones) are a source of concern while opening a grocery shop in the area.<br><br>\n",
    "2. Most number of crimes occured in the Southern district. Luckily our location is in the Park District, which has the lowest crime rates.\n",
    "\n",
    "A better indication would be to look at the distress calls which were made from the Park district. We do this in the next few lines of code."
   ]
  },
  {
   "cell_type": "code",
   "execution_count": 12,
   "metadata": {},
   "outputs": [
    {
     "data": {
      "text/html": [
       "<div>\n",
       "<style scoped>\n",
       "    .dataframe tbody tr th:only-of-type {\n",
       "        vertical-align: middle;\n",
       "    }\n",
       "\n",
       "    .dataframe tbody tr th {\n",
       "        vertical-align: top;\n",
       "    }\n",
       "\n",
       "    .dataframe thead th {\n",
       "        text-align: right;\n",
       "    }\n",
       "</style>\n",
       "<table border=\"1\" class=\"dataframe\">\n",
       "  <thead>\n",
       "    <tr style=\"text-align: right;\">\n",
       "      <th></th>\n",
       "      <th>PdDistrict</th>\n",
       "      <th>Category</th>\n",
       "    </tr>\n",
       "  </thead>\n",
       "  <tbody>\n",
       "    <tr>\n",
       "      <th>6</th>\n",
       "      <td>PARK</td>\n",
       "      <td>LARCENY/THEFT</td>\n",
       "    </tr>\n",
       "    <tr>\n",
       "      <th>8</th>\n",
       "      <td>PARK</td>\n",
       "      <td>LARCENY/THEFT</td>\n",
       "    </tr>\n",
       "    <tr>\n",
       "      <th>22</th>\n",
       "      <td>PARK</td>\n",
       "      <td>LARCENY/THEFT</td>\n",
       "    </tr>\n",
       "    <tr>\n",
       "      <th>33</th>\n",
       "      <td>PARK</td>\n",
       "      <td>OTHER OFFENSES</td>\n",
       "    </tr>\n",
       "    <tr>\n",
       "      <th>77</th>\n",
       "      <td>PARK</td>\n",
       "      <td>VANDALISM</td>\n",
       "    </tr>\n",
       "  </tbody>\n",
       "</table>\n",
       "</div>"
      ],
      "text/plain": [
       "   PdDistrict        Category\n",
       "6        PARK   LARCENY/THEFT\n",
       "8        PARK   LARCENY/THEFT\n",
       "22       PARK   LARCENY/THEFT\n",
       "33       PARK  OTHER OFFENSES\n",
       "77       PARK       VANDALISM"
      ]
     },
     "execution_count": 12,
     "metadata": {},
     "output_type": "execute_result"
    }
   ],
   "source": [
    "park_crimes_df = crime_df.loc[crime_df['PdDistrict']=='PARK',['PdDistrict','Category']]\n",
    "park_crimes_df.head()"
   ]
  },
  {
   "cell_type": "code",
   "execution_count": 13,
   "metadata": {},
   "outputs": [
    {
     "data": {
      "image/png": "[encoded data removed]",
      "text/plain": [
       "<matplotlib.figure.Figure at 0x1a137d57b8>"
      ]
     },
     "metadata": {},
     "output_type": "display_data"
    }
   ],
   "source": [
    "make_bar_plot(park_crimes_df.Category.value_counts(),\n",
    "             park_crimes_df.Category.value_counts().index,\n",
    "             sns.cubehelix_palette(len(category_counts),dark=0.25, light=0.9,reverse=True),\n",
    "             'Reported Crime Count',\n",
    "             'Reported Crime Category')"
   ]
  },
  {
   "cell_type": "markdown",
   "metadata": {},
   "source": [
    "The most frequent complaints remain more of less similar to the overall complaints."
   ]
  },
  {
   "cell_type": "markdown",
   "metadata": {},
   "source": [
    "Out of curiosity I located our 'potential' grocery store on a map of the disctricts in SF, provided by SF Police Department, the image is shown below."
   ]
  },
  {
   "cell_type": "markdown",
   "metadata": {},
   "source": [
    "<img src='images/SF_District.png' width = '500px',height='500px' alt='SF_Ditrict'>\n",
    "<div align ='center'> Store Location</div>"
   ]
  },
  {
   "cell_type": "markdown",
   "metadata": {},
   "source": [
    "As seen from the image, our store is on the edge of PARK and NORTHERN districts.<br> A better approach would be to locate distress call locations using the geographical co-ordinates in the original data set. Lets do that next."
   ]
  },
  {
   "cell_type": "markdown",
   "metadata": {},
   "source": [
    "The latitude and longitude of our store are :<b> -122.441534, 37.776466</b>\n",
    "We'll choose locations that are within 0.001 or our store location, which is roughly a two block distance"
   ]
  },
  {
   "cell_type": "code",
   "execution_count": 14,
   "metadata": {
    "collapsed": true
   },
   "outputs": [],
   "source": [
    "store_vicinity = crime_df.loc[(crime_df.X>-122.442) & (crime_df.X<-122.440 )\n",
    "                               &(crime_df.Y<37.777) & (crime_df.Y>37.775), ['Category','PdDistrict','Address','Descript']]"
   ]
  },
  {
   "cell_type": "code",
   "execution_count": 15,
   "metadata": {
    "scrolled": false
   },
   "outputs": [
    {
     "data": {
      "text/html": [
       "<div>\n",
       "<style scoped>\n",
       "    .dataframe tbody tr th:only-of-type {\n",
       "        vertical-align: middle;\n",
       "    }\n",
       "\n",
       "    .dataframe tbody tr th {\n",
       "        vertical-align: top;\n",
       "    }\n",
       "\n",
       "    .dataframe thead th {\n",
       "        text-align: right;\n",
       "    }\n",
       "</style>\n",
       "<table border=\"1\" class=\"dataframe\">\n",
       "  <thead>\n",
       "    <tr style=\"text-align: right;\">\n",
       "      <th></th>\n",
       "      <th>Category</th>\n",
       "      <th>PdDistrict</th>\n",
       "      <th>Address</th>\n",
       "      <th>Descript</th>\n",
       "    </tr>\n",
       "  </thead>\n",
       "  <tbody>\n",
       "    <tr>\n",
       "      <th>2407</th>\n",
       "      <td>ASSAULT</td>\n",
       "      <td>PARK</td>\n",
       "      <td>1400 Block of GROVE ST</td>\n",
       "      <td>BATTERY</td>\n",
       "    </tr>\n",
       "    <tr>\n",
       "      <th>13008</th>\n",
       "      <td>WARRANTS</td>\n",
       "      <td>PARK</td>\n",
       "      <td>GROVE ST / BAKER ST</td>\n",
       "      <td>ENROUTE TO OUTSIDE JURISDICTION</td>\n",
       "    </tr>\n",
       "    <tr>\n",
       "      <th>13508</th>\n",
       "      <td>LARCENY/THEFT</td>\n",
       "      <td>PARK</td>\n",
       "      <td>400 Block of BAKER ST</td>\n",
       "      <td>PETTY THEFT OF PROPERTY</td>\n",
       "    </tr>\n",
       "    <tr>\n",
       "      <th>15323</th>\n",
       "      <td>MISSING PERSON</td>\n",
       "      <td>PARK</td>\n",
       "      <td>400 Block of BAKER ST</td>\n",
       "      <td>FOUND PERSON</td>\n",
       "    </tr>\n",
       "    <tr>\n",
       "      <th>15324</th>\n",
       "      <td>MISSING PERSON</td>\n",
       "      <td>PARK</td>\n",
       "      <td>400 Block of BAKER ST</td>\n",
       "      <td>MISSING ADULT</td>\n",
       "    </tr>\n",
       "  </tbody>\n",
       "</table>\n",
       "</div>"
      ],
      "text/plain": [
       "             Category PdDistrict                 Address  \\\n",
       "2407          ASSAULT       PARK  1400 Block of GROVE ST   \n",
       "13008        WARRANTS       PARK     GROVE ST / BAKER ST   \n",
       "13508   LARCENY/THEFT       PARK   400 Block of BAKER ST   \n",
       "15323  MISSING PERSON       PARK   400 Block of BAKER ST   \n",
       "15324  MISSING PERSON       PARK   400 Block of BAKER ST   \n",
       "\n",
       "                              Descript  \n",
       "2407                           BATTERY  \n",
       "13008  ENROUTE TO OUTSIDE JURISDICTION  \n",
       "13508          PETTY THEFT OF PROPERTY  \n",
       "15323                     FOUND PERSON  \n",
       "15324                    MISSING ADULT  "
      ]
     },
     "execution_count": 15,
     "metadata": {},
     "output_type": "execute_result"
    }
   ],
   "source": [
    "store_vicinity.head()"
   ]
  },
  {
   "cell_type": "markdown",
   "metadata": {},
   "source": [
    "Looking at the description for a missing person report reveals that, when a missing person is found, it's still categorised as a missing person report. Let's remove those from our consideration."
   ]
  },
  {
   "cell_type": "code",
   "execution_count": 16,
   "metadata": {
    "collapsed": true
   },
   "outputs": [],
   "source": [
    "store_vicinity = store_vicinity[store_vicinity.Descript!='FOUND PERSON']"
   ]
  },
  {
   "cell_type": "code",
   "execution_count": 17,
   "metadata": {
    "scrolled": true
   },
   "outputs": [
    {
     "data": {
      "text/plain": [
       "PARK    25\n",
       "Name: PdDistrict, dtype: int64"
      ]
     },
     "execution_count": 17,
     "metadata": {},
     "output_type": "execute_result"
    }
   ],
   "source": [
    "store_vicinity.PdDistrict.value_counts()"
   ]
  },
  {
   "cell_type": "markdown",
   "metadata": {},
   "source": [
    "The above code shows that all of the distress calls in the vicinity were from the PARK district."
   ]
  },
  {
   "cell_type": "code",
   "execution_count": 18,
   "metadata": {
    "scrolled": false
   },
   "outputs": [
    {
     "data": {
      "image/png": "[encoded data removed]",
      "text/plain": [
       "<matplotlib.figure.Figure at 0x10dc2c518>"
      ]
     },
     "metadata": {},
     "output_type": "display_data"
    }
   ],
   "source": [
    "make_bar_plot(store_vicinity.Category.value_counts(),\n",
    "              store_vicinity.Category.value_counts().index,\n",
    "              sns.cubehelix_palette(len(category_counts),dark=0.25, light=0.9,reverse=True),\n",
    "              'Reported Crime Count',\n",
    "              'Reported Crime Category')"
   ]
  },
  {
   "cell_type": "markdown",
   "metadata": {},
   "source": [
    ">The total distress call count was 25 in the immediate vicinity of our store location,which looks to be a good sign!<br> (Taking into account the total 46,668 total distress calls placed in 2018.)"
   ]
  },
  {
   "cell_type": "markdown",
   "metadata": {},
   "source": [
    "Comparing with a value in the Southern District where reported crimes were the highest\n",
    "37.776393, -122.408464 Langdon and Folsom street"
   ]
  },
  {
   "cell_type": "code",
   "execution_count": 19,
   "metadata": {
    "collapsed": true
   },
   "outputs": [],
   "source": [
    "south_vicinity = crime_df.loc[(crime_df.X>-122.409) & (crime_df.X<-122.407 )\n",
    "                               &(crime_df.Y<37.777) & (crime_df.Y>37.775), ['Category','PdDistrict','Address','Descript']]"
   ]
  },
  {
   "cell_type": "code",
   "execution_count": 20,
   "metadata": {
    "collapsed": true
   },
   "outputs": [],
   "source": [
    "south_vicinity = south_vicinity[south_vicinity.Descript!='FOUND PERSON']"
   ]
  },
  {
   "cell_type": "code",
   "execution_count": 21,
   "metadata": {},
   "outputs": [
    {
     "data": {
      "text/html": [
       "<div>\n",
       "<style scoped>\n",
       "    .dataframe tbody tr th:only-of-type {\n",
       "        vertical-align: middle;\n",
       "    }\n",
       "\n",
       "    .dataframe tbody tr th {\n",
       "        vertical-align: top;\n",
       "    }\n",
       "\n",
       "    .dataframe thead th {\n",
       "        text-align: right;\n",
       "    }\n",
       "</style>\n",
       "<table border=\"1\" class=\"dataframe\">\n",
       "  <thead>\n",
       "    <tr style=\"text-align: right;\">\n",
       "      <th></th>\n",
       "      <th>Category</th>\n",
       "      <th>PdDistrict</th>\n",
       "      <th>Address</th>\n",
       "      <th>Descript</th>\n",
       "    </tr>\n",
       "  </thead>\n",
       "  <tbody>\n",
       "    <tr>\n",
       "      <th>1087</th>\n",
       "      <td>LARCENY/THEFT</td>\n",
       "      <td>SOUTHERN</td>\n",
       "      <td>7TH ST / FOLSOM ST</td>\n",
       "      <td>GRAND THEFT FROM LOCKED AUTO</td>\n",
       "    </tr>\n",
       "    <tr>\n",
       "      <th>3756</th>\n",
       "      <td>VANDALISM</td>\n",
       "      <td>SOUTHERN</td>\n",
       "      <td>7TH ST / FOLSOM ST</td>\n",
       "      <td>MALICIOUS MISCHIEF, VANDALISM</td>\n",
       "    </tr>\n",
       "    <tr>\n",
       "      <th>4599</th>\n",
       "      <td>LARCENY/THEFT</td>\n",
       "      <td>SOUTHERN</td>\n",
       "      <td>300 Block of 7TH ST</td>\n",
       "      <td>PETTY THEFT OF PROPERTY</td>\n",
       "    </tr>\n",
       "    <tr>\n",
       "      <th>4929</th>\n",
       "      <td>VANDALISM</td>\n",
       "      <td>SOUTHERN</td>\n",
       "      <td>1000 Block of FOLSOM ST</td>\n",
       "      <td>MALICIOUS MISCHIEF, TIRE SLASHING</td>\n",
       "    </tr>\n",
       "    <tr>\n",
       "      <th>4973</th>\n",
       "      <td>NON-CRIMINAL</td>\n",
       "      <td>SOUTHERN</td>\n",
       "      <td>1100 Block of FOLSOM ST</td>\n",
       "      <td>AIDED CASE</td>\n",
       "    </tr>\n",
       "  </tbody>\n",
       "</table>\n",
       "</div>"
      ],
      "text/plain": [
       "           Category PdDistrict                  Address  \\\n",
       "1087  LARCENY/THEFT   SOUTHERN       7TH ST / FOLSOM ST   \n",
       "3756      VANDALISM   SOUTHERN       7TH ST / FOLSOM ST   \n",
       "4599  LARCENY/THEFT   SOUTHERN      300 Block of 7TH ST   \n",
       "4929      VANDALISM   SOUTHERN  1000 Block of FOLSOM ST   \n",
       "4973   NON-CRIMINAL   SOUTHERN  1100 Block of FOLSOM ST   \n",
       "\n",
       "                               Descript  \n",
       "1087       GRAND THEFT FROM LOCKED AUTO  \n",
       "3756      MALICIOUS MISCHIEF, VANDALISM  \n",
       "4599            PETTY THEFT OF PROPERTY  \n",
       "4929  MALICIOUS MISCHIEF, TIRE SLASHING  \n",
       "4973                         AIDED CASE  "
      ]
     },
     "execution_count": 21,
     "metadata": {},
     "output_type": "execute_result"
    }
   ],
   "source": [
    "south_vicinity.head()"
   ]
  },
  {
   "cell_type": "code",
   "execution_count": 22,
   "metadata": {},
   "outputs": [
    {
     "data": {
      "text/plain": [
       "SOUTHERN    49\n",
       "Name: PdDistrict, dtype: int64"
      ]
     },
     "execution_count": 22,
     "metadata": {},
     "output_type": "execute_result"
    }
   ],
   "source": [
    "south_vicinity.PdDistrict.value_counts()"
   ]
  },
  {
   "cell_type": "markdown",
   "metadata": {},
   "source": [
    ">We see that there are double the number of distress calls made in a Southern District location."
   ]
  },
  {
   "cell_type": "markdown",
   "metadata": {
    "collapsed": true
   },
   "source": [
    "## Population Demographics"
   ]
  },
  {
   "cell_type": "markdown",
   "metadata": {},
   "source": [
    "I am using the 2010 Census data for this part of the analysis.<br>\n",
    "The data can be found at the census.gov website. Although a better formatted subset with median household income can be found on:\n",
    ">https://datausa.io/profile/geo/san-francisco-ca/"
   ]
  },
  {
   "cell_type": "markdown",
   "metadata": {},
   "source": [
    "The dataset provides the median Household Income for various locations around the city. Let's take a look at the data"
   ]
  },
  {
   "cell_type": "markdown",
   "metadata": {},
   "source": [
    "### Median household income analysis"
   ]
  },
  {
   "cell_type": "code",
   "execution_count": 23,
   "metadata": {
    "collapsed": true
   },
   "outputs": [],
   "source": [
    "pop_df = pd.read_csv('data/GeoMapIncomeLocation.csv')"
   ]
  },
  {
   "cell_type": "code",
   "execution_count": 24,
   "metadata": {},
   "outputs": [
    {
     "data": {
      "text/html": [
       "<div>\n",
       "<style scoped>\n",
       "    .dataframe tbody tr th:only-of-type {\n",
       "        vertical-align: middle;\n",
       "    }\n",
       "\n",
       "    .dataframe tbody tr th {\n",
       "        vertical-align: top;\n",
       "    }\n",
       "\n",
       "    .dataframe thead th {\n",
       "        text-align: right;\n",
       "    }\n",
       "</style>\n",
       "<table border=\"1\" class=\"dataframe\">\n",
       "  <thead>\n",
       "    <tr style=\"text-align: right;\">\n",
       "      <th></th>\n",
       "      <th>year</th>\n",
       "      <th>geo_name</th>\n",
       "      <th>geo</th>\n",
       "      <th>income</th>\n",
       "    </tr>\n",
       "  </thead>\n",
       "  <tbody>\n",
       "    <tr>\n",
       "      <th>0</th>\n",
       "      <td>2016</td>\n",
       "      <td>Census Tract 264.01</td>\n",
       "      <td>14000US06075026401</td>\n",
       "      <td>50694.0</td>\n",
       "    </tr>\n",
       "    <tr>\n",
       "      <th>1</th>\n",
       "      <td>2013</td>\n",
       "      <td>Census Tract 264.01</td>\n",
       "      <td>14000US06075026401</td>\n",
       "      <td>46514.0</td>\n",
       "    </tr>\n",
       "    <tr>\n",
       "      <th>2</th>\n",
       "      <td>2014</td>\n",
       "      <td>Census Tract 264.01</td>\n",
       "      <td>14000US06075026401</td>\n",
       "      <td>45451.0</td>\n",
       "    </tr>\n",
       "    <tr>\n",
       "      <th>3</th>\n",
       "      <td>2015</td>\n",
       "      <td>Census Tract 264.01</td>\n",
       "      <td>14000US06075026401</td>\n",
       "      <td>46150.0</td>\n",
       "    </tr>\n",
       "    <tr>\n",
       "      <th>4</th>\n",
       "      <td>2016</td>\n",
       "      <td>Census Tract 611</td>\n",
       "      <td>14000US06075061100</td>\n",
       "      <td>17218.0</td>\n",
       "    </tr>\n",
       "  </tbody>\n",
       "</table>\n",
       "</div>"
      ],
      "text/plain": [
       "   year             geo_name                 geo   income\n",
       "0  2016  Census Tract 264.01  14000US06075026401  50694.0\n",
       "1  2013  Census Tract 264.01  14000US06075026401  46514.0\n",
       "2  2014  Census Tract 264.01  14000US06075026401  45451.0\n",
       "3  2015  Census Tract 264.01  14000US06075026401  46150.0\n",
       "4  2016     Census Tract 611  14000US06075061100  17218.0"
      ]
     },
     "execution_count": 24,
     "metadata": {},
     "output_type": "execute_result"
    }
   ],
   "source": [
    "pop_df.head()"
   ]
  },
  {
   "cell_type": "code",
   "execution_count": 25,
   "metadata": {},
   "outputs": [
    {
     "data": {
      "text/plain": [
       "(788, 4)"
      ]
     },
     "execution_count": 25,
     "metadata": {},
     "output_type": "execute_result"
    }
   ],
   "source": [
    "pop_df.shape"
   ]
  },
  {
   "cell_type": "markdown",
   "metadata": {},
   "source": [
    "As we can see the locations are identified by tract names<br>\n",
    "After digging a bit through the census.gov, I found a map indentifying the various tracts on a map.<br>\n",
    "The original Image can be found at:<br>\n",
    ">https://www2.census.gov/geo/maps/dc10map/tract/st06_ca/c06075_san_francisco/DC10CT_C06075_004.pdf"
   ]
  },
  {
   "cell_type": "markdown",
   "metadata": {},
   "source": [
    "<img src='images/tract_locations.png' width = '500px',height='500px' alt='SF_Ditrict'>\n",
    "<div align ='center'> Tract Locations</div>"
   ]
  },
  {
   "cell_type": "markdown",
   "metadata": {},
   "source": [
    "The tracts which are located near our grocery store include:<br>\n",
    "164, 165, 157, 158.02, 158.01"
   ]
  },
  {
   "cell_type": "code",
   "execution_count": 26,
   "metadata": {
    "collapsed": true
   },
   "outputs": [],
   "source": [
    "local_pop_df = pop_df[pop_df['geo_name'].str.contains('164|165|157|158.01|158.02',regex = True)]"
   ]
  },
  {
   "cell_type": "code",
   "execution_count": 27,
   "metadata": {
    "scrolled": true
   },
   "outputs": [
    {
     "data": {
      "text/html": [
       "<div>\n",
       "<style scoped>\n",
       "    .dataframe tbody tr th:only-of-type {\n",
       "        vertical-align: middle;\n",
       "    }\n",
       "\n",
       "    .dataframe tbody tr th {\n",
       "        vertical-align: top;\n",
       "    }\n",
       "\n",
       "    .dataframe thead th {\n",
       "        text-align: right;\n",
       "    }\n",
       "</style>\n",
       "<table border=\"1\" class=\"dataframe\">\n",
       "  <thead>\n",
       "    <tr style=\"text-align: right;\">\n",
       "      <th></th>\n",
       "      <th>year</th>\n",
       "      <th>geo_name</th>\n",
       "      <th>geo</th>\n",
       "      <th>income</th>\n",
       "    </tr>\n",
       "  </thead>\n",
       "  <tbody>\n",
       "    <tr>\n",
       "      <th>280</th>\n",
       "      <td>2016</td>\n",
       "      <td>Census Tract 158.01</td>\n",
       "      <td>14000US06075015801</td>\n",
       "      <td>66698.0</td>\n",
       "    </tr>\n",
       "    <tr>\n",
       "      <th>281</th>\n",
       "      <td>2013</td>\n",
       "      <td>Census Tract 158.01</td>\n",
       "      <td>14000US06075015801</td>\n",
       "      <td>61500.0</td>\n",
       "    </tr>\n",
       "    <tr>\n",
       "      <th>282</th>\n",
       "      <td>2014</td>\n",
       "      <td>Census Tract 158.01</td>\n",
       "      <td>14000US06075015801</td>\n",
       "      <td>72568.0</td>\n",
       "    </tr>\n",
       "    <tr>\n",
       "      <th>283</th>\n",
       "      <td>2015</td>\n",
       "      <td>Census Tract 158.01</td>\n",
       "      <td>14000US06075015801</td>\n",
       "      <td>71339.0</td>\n",
       "    </tr>\n",
       "    <tr>\n",
       "      <th>360</th>\n",
       "      <td>2016</td>\n",
       "      <td>Census Tract 164</td>\n",
       "      <td>14000US06075016400</td>\n",
       "      <td>107254.0</td>\n",
       "    </tr>\n",
       "  </tbody>\n",
       "</table>\n",
       "</div>"
      ],
      "text/plain": [
       "     year             geo_name                 geo    income\n",
       "280  2016  Census Tract 158.01  14000US06075015801   66698.0\n",
       "281  2013  Census Tract 158.01  14000US06075015801   61500.0\n",
       "282  2014  Census Tract 158.01  14000US06075015801   72568.0\n",
       "283  2015  Census Tract 158.01  14000US06075015801   71339.0\n",
       "360  2016     Census Tract 164  14000US06075016400  107254.0"
      ]
     },
     "execution_count": 27,
     "metadata": {},
     "output_type": "execute_result"
    }
   ],
   "source": [
    "local_pop_df.head()"
   ]
  },
  {
   "cell_type": "code",
   "execution_count": 28,
   "metadata": {},
   "outputs": [
    {
     "data": {
      "text/plain": [
       "(20, 4)"
      ]
     },
     "execution_count": 28,
     "metadata": {},
     "output_type": "execute_result"
    }
   ],
   "source": [
    "local_pop_df.shape"
   ]
  },
  {
   "cell_type": "code",
   "execution_count": 29,
   "metadata": {},
   "outputs": [
    {
     "data": {
      "text/plain": [
       "year         int64\n",
       "geo_name    object\n",
       "geo         object\n",
       "income      object\n",
       "dtype: object"
      ]
     },
     "execution_count": 29,
     "metadata": {},
     "output_type": "execute_result"
    }
   ],
   "source": [
    "local_pop_df.dtypes"
   ]
  },
  {
   "cell_type": "markdown",
   "metadata": {},
   "source": [
    "This gives us a dataset with the year and median household income for our tracts of interest"
   ]
  },
  {
   "cell_type": "code",
   "execution_count": 30,
   "metadata": {
    "collapsed": true
   },
   "outputs": [],
   "source": [
    "local_pop_df = local_pop_df.astype({'income':'float64'})"
   ]
  },
  {
   "cell_type": "code",
   "execution_count": 31,
   "metadata": {},
   "outputs": [
    {
     "data": {
      "text/plain": [
       "year          int64\n",
       "geo_name     object\n",
       "geo          object\n",
       "income      float64\n",
       "dtype: object"
      ]
     },
     "execution_count": 31,
     "metadata": {},
     "output_type": "execute_result"
    }
   ],
   "source": [
    "local_pop_df.dtypes"
   ]
  },
  {
   "cell_type": "code",
   "execution_count": 32,
   "metadata": {},
   "outputs": [
    {
     "data": {
      "text/plain": [
       "[<matplotlib.text.Text at 0x1a1474c278>,\n",
       " <matplotlib.text.Text at 0x1a147660b8>]"
      ]
     },
     "execution_count": 32,
     "metadata": {},
     "output_type": "execute_result"
    },
    {
     "data": {
      "image/png": "[encoded data removed]",
      "text/plain": [
       "<matplotlib.figure.Figure at 0x1a1475ed30>"
      ]
     },
     "metadata": {},
     "output_type": "display_data"
    }
   ],
   "source": [
    "fig, axs = plt.subplots(figsize=(10,10))\n",
    "sns.pointplot(data = local_pop_df, x = 'year', y = 'income',hue='geo_name',ax = axs)\n",
    "axs.set(xlabel = 'Year',ylabel = 'Median Household Income')"
   ]
  },
  {
   "cell_type": "markdown",
   "metadata": {},
   "source": [
    "Apart from Tract 158.01, all the other tracts in the vicinity of our store have seen a significant increase in the mean household income. <br>\n",
    "> This is an important factor as it indicates the economic status of the majority of our customers. As most of the customers are observing an increase in their household income, it should ensure a stable customer base for our store as well."
   ]
  },
  {
   "cell_type": "markdown",
   "metadata": {
    "collapsed": true
   },
   "source": [
    "Let's combine all the values from the tracts in our vicinity and compare them with the rest of the tracts in the city."
   ]
  },
  {
   "cell_type": "code",
   "execution_count": 33,
   "metadata": {
    "collapsed": true
   },
   "outputs": [],
   "source": [
    "local_mean_income_df = local_pop_df.groupby(['year']).mean()"
   ]
  },
  {
   "cell_type": "code",
   "execution_count": 34,
   "metadata": {
    "collapsed": true
   },
   "outputs": [],
   "source": [
    "local_mean_income_df['locality'] = 'Local to Store'"
   ]
  },
  {
   "cell_type": "code",
   "execution_count": 35,
   "metadata": {
    "collapsed": true
   },
   "outputs": [],
   "source": [
    "mask = pop_df['geo_name'].isin(['Census Tract 164', 'Census Tract 165', 'Census Tract 157','Census Tract 158.01',\n",
    "                                'Census Tract 158.02'])\n",
    "non_local_pop_df = pop_df[~mask]"
   ]
  },
  {
   "cell_type": "code",
   "execution_count": 36,
   "metadata": {},
   "outputs": [
    {
     "data": {
      "text/plain": [
       "(768, 4)"
      ]
     },
     "execution_count": 36,
     "metadata": {},
     "output_type": "execute_result"
    }
   ],
   "source": [
    "non_local_pop_df.shape"
   ]
  },
  {
   "cell_type": "code",
   "execution_count": 37,
   "metadata": {},
   "outputs": [
    {
     "data": {
      "text/html": [
       "<div>\n",
       "<style scoped>\n",
       "    .dataframe tbody tr th:only-of-type {\n",
       "        vertical-align: middle;\n",
       "    }\n",
       "\n",
       "    .dataframe tbody tr th {\n",
       "        vertical-align: top;\n",
       "    }\n",
       "\n",
       "    .dataframe thead th {\n",
       "        text-align: right;\n",
       "    }\n",
       "</style>\n",
       "<table border=\"1\" class=\"dataframe\">\n",
       "  <thead>\n",
       "    <tr style=\"text-align: right;\">\n",
       "      <th></th>\n",
       "      <th>year</th>\n",
       "      <th>geo_name</th>\n",
       "      <th>geo</th>\n",
       "      <th>income</th>\n",
       "    </tr>\n",
       "  </thead>\n",
       "  <tbody>\n",
       "    <tr>\n",
       "      <th>0</th>\n",
       "      <td>2016</td>\n",
       "      <td>Census Tract 264.01</td>\n",
       "      <td>14000US06075026401</td>\n",
       "      <td>50694.0</td>\n",
       "    </tr>\n",
       "    <tr>\n",
       "      <th>1</th>\n",
       "      <td>2013</td>\n",
       "      <td>Census Tract 264.01</td>\n",
       "      <td>14000US06075026401</td>\n",
       "      <td>46514.0</td>\n",
       "    </tr>\n",
       "    <tr>\n",
       "      <th>2</th>\n",
       "      <td>2014</td>\n",
       "      <td>Census Tract 264.01</td>\n",
       "      <td>14000US06075026401</td>\n",
       "      <td>45451.0</td>\n",
       "    </tr>\n",
       "    <tr>\n",
       "      <th>3</th>\n",
       "      <td>2015</td>\n",
       "      <td>Census Tract 264.01</td>\n",
       "      <td>14000US06075026401</td>\n",
       "      <td>46150.0</td>\n",
       "    </tr>\n",
       "    <tr>\n",
       "      <th>4</th>\n",
       "      <td>2016</td>\n",
       "      <td>Census Tract 611</td>\n",
       "      <td>14000US06075061100</td>\n",
       "      <td>17218.0</td>\n",
       "    </tr>\n",
       "  </tbody>\n",
       "</table>\n",
       "</div>"
      ],
      "text/plain": [
       "   year             geo_name                 geo   income\n",
       "0  2016  Census Tract 264.01  14000US06075026401  50694.0\n",
       "1  2013  Census Tract 264.01  14000US06075026401  46514.0\n",
       "2  2014  Census Tract 264.01  14000US06075026401  45451.0\n",
       "3  2015  Census Tract 264.01  14000US06075026401  46150.0\n",
       "4  2016     Census Tract 611  14000US06075061100  17218.0"
      ]
     },
     "execution_count": 37,
     "metadata": {},
     "output_type": "execute_result"
    }
   ],
   "source": [
    "non_local_pop_df.head()"
   ]
  },
  {
   "cell_type": "code",
   "execution_count": 38,
   "metadata": {
    "scrolled": true
   },
   "outputs": [
    {
     "data": {
      "text/plain": [
       "year         int64\n",
       "geo_name    object\n",
       "geo         object\n",
       "income      object\n",
       "dtype: object"
      ]
     },
     "execution_count": 38,
     "metadata": {},
     "output_type": "execute_result"
    }
   ],
   "source": [
    "non_local_pop_df.dtypes"
   ]
  },
  {
   "cell_type": "code",
   "execution_count": 39,
   "metadata": {},
   "outputs": [
    {
     "data": {
      "text/html": [
       "<div>\n",
       "<style scoped>\n",
       "    .dataframe tbody tr th:only-of-type {\n",
       "        vertical-align: middle;\n",
       "    }\n",
       "\n",
       "    .dataframe tbody tr th {\n",
       "        vertical-align: top;\n",
       "    }\n",
       "\n",
       "    .dataframe thead th {\n",
       "        text-align: right;\n",
       "    }\n",
       "</style>\n",
       "<table border=\"1\" class=\"dataframe\">\n",
       "  <thead>\n",
       "    <tr style=\"text-align: right;\">\n",
       "      <th></th>\n",
       "      <th>year</th>\n",
       "    </tr>\n",
       "  </thead>\n",
       "  <tbody>\n",
       "    <tr>\n",
       "      <th>count</th>\n",
       "      <td>768.000000</td>\n",
       "    </tr>\n",
       "    <tr>\n",
       "      <th>mean</th>\n",
       "      <td>2014.500000</td>\n",
       "    </tr>\n",
       "    <tr>\n",
       "      <th>std</th>\n",
       "      <td>1.118763</td>\n",
       "    </tr>\n",
       "    <tr>\n",
       "      <th>min</th>\n",
       "      <td>2013.000000</td>\n",
       "    </tr>\n",
       "    <tr>\n",
       "      <th>25%</th>\n",
       "      <td>2013.750000</td>\n",
       "    </tr>\n",
       "    <tr>\n",
       "      <th>50%</th>\n",
       "      <td>2014.500000</td>\n",
       "    </tr>\n",
       "    <tr>\n",
       "      <th>75%</th>\n",
       "      <td>2015.250000</td>\n",
       "    </tr>\n",
       "    <tr>\n",
       "      <th>max</th>\n",
       "      <td>2016.000000</td>\n",
       "    </tr>\n",
       "  </tbody>\n",
       "</table>\n",
       "</div>"
      ],
      "text/plain": [
       "              year\n",
       "count   768.000000\n",
       "mean   2014.500000\n",
       "std       1.118763\n",
       "min    2013.000000\n",
       "25%    2013.750000\n",
       "50%    2014.500000\n",
       "75%    2015.250000\n",
       "max    2016.000000"
      ]
     },
     "execution_count": 39,
     "metadata": {},
     "output_type": "execute_result"
    }
   ],
   "source": [
    "non_local_pop_df.describe()"
   ]
  },
  {
   "cell_type": "code",
   "execution_count": 40,
   "metadata": {
    "collapsed": true
   },
   "outputs": [],
   "source": [
    "non_local_pop_df = non_local_pop_df[non_local_pop_df.income != 'None']"
   ]
  },
  {
   "cell_type": "code",
   "execution_count": 41,
   "metadata": {
    "collapsed": true
   },
   "outputs": [],
   "source": [
    "non_local_pop_df = non_local_pop_df.astype({'income':'float64'})"
   ]
  },
  {
   "cell_type": "code",
   "execution_count": 42,
   "metadata": {
    "collapsed": true
   },
   "outputs": [],
   "source": [
    "non_local_pop_mean_df = non_local_pop_df.groupby(['year']).mean()"
   ]
  },
  {
   "cell_type": "code",
   "execution_count": 43,
   "metadata": {
    "collapsed": true
   },
   "outputs": [],
   "source": [
    "non_local_pop_mean_df['locality'] = 'Rest of the city'"
   ]
  },
  {
   "cell_type": "code",
   "execution_count": 44,
   "metadata": {
    "collapsed": true
   },
   "outputs": [],
   "source": [
    "city_mean_pop_df = local_mean_income_df.append(non_local_pop_mean_df)"
   ]
  },
  {
   "cell_type": "code",
   "execution_count": 45,
   "metadata": {},
   "outputs": [
    {
     "data": {
      "text/html": [
       "<div>\n",
       "<style scoped>\n",
       "    .dataframe tbody tr th:only-of-type {\n",
       "        vertical-align: middle;\n",
       "    }\n",
       "\n",
       "    .dataframe tbody tr th {\n",
       "        vertical-align: top;\n",
       "    }\n",
       "\n",
       "    .dataframe thead th {\n",
       "        text-align: right;\n",
       "    }\n",
       "</style>\n",
       "<table border=\"1\" class=\"dataframe\">\n",
       "  <thead>\n",
       "    <tr style=\"text-align: right;\">\n",
       "      <th></th>\n",
       "      <th>income</th>\n",
       "      <th>locality</th>\n",
       "    </tr>\n",
       "    <tr>\n",
       "      <th>year</th>\n",
       "      <th></th>\n",
       "      <th></th>\n",
       "    </tr>\n",
       "  </thead>\n",
       "  <tbody>\n",
       "    <tr>\n",
       "      <th>2013</th>\n",
       "      <td>77579.000000</td>\n",
       "      <td>Local to Store</td>\n",
       "    </tr>\n",
       "    <tr>\n",
       "      <th>2014</th>\n",
       "      <td>82278.000000</td>\n",
       "      <td>Local to Store</td>\n",
       "    </tr>\n",
       "    <tr>\n",
       "      <th>2015</th>\n",
       "      <td>81945.000000</td>\n",
       "      <td>Local to Store</td>\n",
       "    </tr>\n",
       "    <tr>\n",
       "      <th>2016</th>\n",
       "      <td>97468.800000</td>\n",
       "      <td>Local to Store</td>\n",
       "    </tr>\n",
       "    <tr>\n",
       "      <th>2013</th>\n",
       "      <td>79675.236842</td>\n",
       "      <td>Rest of the city</td>\n",
       "    </tr>\n",
       "    <tr>\n",
       "      <th>2014</th>\n",
       "      <td>81637.863158</td>\n",
       "      <td>Rest of the city</td>\n",
       "    </tr>\n",
       "    <tr>\n",
       "      <th>2015</th>\n",
       "      <td>85095.195767</td>\n",
       "      <td>Rest of the city</td>\n",
       "    </tr>\n",
       "    <tr>\n",
       "      <th>2016</th>\n",
       "      <td>90983.402116</td>\n",
       "      <td>Rest of the city</td>\n",
       "    </tr>\n",
       "  </tbody>\n",
       "</table>\n",
       "</div>"
      ],
      "text/plain": [
       "            income          locality\n",
       "year                                \n",
       "2013  77579.000000    Local to Store\n",
       "2014  82278.000000    Local to Store\n",
       "2015  81945.000000    Local to Store\n",
       "2016  97468.800000    Local to Store\n",
       "2013  79675.236842  Rest of the city\n",
       "2014  81637.863158  Rest of the city\n",
       "2015  85095.195767  Rest of the city\n",
       "2016  90983.402116  Rest of the city"
      ]
     },
     "execution_count": 45,
     "metadata": {},
     "output_type": "execute_result"
    }
   ],
   "source": [
    "city_mean_pop_df"
   ]
  },
  {
   "cell_type": "code",
   "execution_count": 46,
   "metadata": {
    "scrolled": false
   },
   "outputs": [
    {
     "data": {
      "text/plain": [
       "[<matplotlib.text.Text at 0x1a1449c9e8>,\n",
       " <matplotlib.text.Text at 0x1a14475978>]"
      ]
     },
     "execution_count": 46,
     "metadata": {},
     "output_type": "execute_result"
    },
    {
     "data": {
      "image/png": "[encoded data removed]",
      "text/plain": [
       "<matplotlib.figure.Figure at 0x1a143cd208>"
      ]
     },
     "metadata": {},
     "output_type": "display_data"
    }
   ],
   "source": [
    "fig, axs = plt.subplots(figsize= (10,10))\n",
    "sns.pointplot(data = city_mean_pop_df, x = city_mean_pop_df.index, y = 'income',hue='locality',ax = axs)\n",
    "axs.set(xlabel = 'Year',ylabel = 'Median Household Income')"
   ]
  },
  {
   "cell_type": "markdown",
   "metadata": {},
   "source": [
    "## Types of Nearby Businesses"
   ]
  },
  {
   "cell_type": "markdown",
   "metadata": {},
   "source": [
    "The types of businesses in the vicinity can have a huge impact on our grocery store."
   ]
  },
  {
   "cell_type": "code",
   "execution_count": 47,
   "metadata": {
    "collapsed": true
   },
   "outputs": [],
   "source": [
    "business_df = pd.read_csv('data/Registered_Business_Locations_-_San_Francisco.csv')"
   ]
  },
  {
   "cell_type": "code",
   "execution_count": 48,
   "metadata": {},
   "outputs": [
    {
     "data": {
      "text/html": [
       "<div>\n",
       "<style scoped>\n",
       "    .dataframe tbody tr th:only-of-type {\n",
       "        vertical-align: middle;\n",
       "    }\n",
       "\n",
       "    .dataframe tbody tr th {\n",
       "        vertical-align: top;\n",
       "    }\n",
       "\n",
       "    .dataframe thead th {\n",
       "        text-align: right;\n",
       "    }\n",
       "</style>\n",
       "<table border=\"1\" class=\"dataframe\">\n",
       "  <thead>\n",
       "    <tr style=\"text-align: right;\">\n",
       "      <th></th>\n",
       "      <th>Location Id</th>\n",
       "      <th>Business Account Number</th>\n",
       "      <th>Ownership Name</th>\n",
       "      <th>DBA Name</th>\n",
       "      <th>Street Address</th>\n",
       "      <th>City</th>\n",
       "      <th>State</th>\n",
       "      <th>Source Zipcode</th>\n",
       "      <th>Business Start Date</th>\n",
       "      <th>Business End Date</th>\n",
       "      <th>...</th>\n",
       "      <th>NAICS Code</th>\n",
       "      <th>NAICS Code Description</th>\n",
       "      <th>Parking Tax</th>\n",
       "      <th>Transient Occupancy Tax</th>\n",
       "      <th>LIC Code</th>\n",
       "      <th>LIC Code Description</th>\n",
       "      <th>Supervisor District</th>\n",
       "      <th>Neighborhoods - Analysis Boundaries</th>\n",
       "      <th>Business Corridor</th>\n",
       "      <th>Business Location</th>\n",
       "    </tr>\n",
       "  </thead>\n",
       "  <tbody>\n",
       "    <tr>\n",
       "      <th>0</th>\n",
       "      <td>0376718-03-001</td>\n",
       "      <td>376718</td>\n",
       "      <td>Chan Renee W</td>\n",
       "      <td>Blossoming Lotus Acupuncture</td>\n",
       "      <td>2670 Leavenworth St A</td>\n",
       "      <td>San Francisco</td>\n",
       "      <td>CA</td>\n",
       "      <td>94109.0</td>\n",
       "      <td>01/28/2010</td>\n",
       "      <td>NaN</td>\n",
       "      <td>...</td>\n",
       "      <td>6100-6299</td>\n",
       "      <td>Private Education and Health Services</td>\n",
       "      <td>False</td>\n",
       "      <td>False</td>\n",
       "      <td>NaN</td>\n",
       "      <td>NaN</td>\n",
       "      <td>2.0</td>\n",
       "      <td>North Beach</td>\n",
       "      <td>NaN</td>\n",
       "      <td>2670 LEAVENWORTH ST\\nA San Francisco, CA 94109\\n</td>\n",
       "    </tr>\n",
       "    <tr>\n",
       "      <th>1</th>\n",
       "      <td>0474285-05-001</td>\n",
       "      <td>474285</td>\n",
       "      <td>Pressed Juicery Inc</td>\n",
       "      <td>Pressed Juicery</td>\n",
       "      <td>550 Gene Friend Way</td>\n",
       "      <td>San Francisco</td>\n",
       "      <td>CA</td>\n",
       "      <td>94158.0</td>\n",
       "      <td>12/01/2012</td>\n",
       "      <td>NaN</td>\n",
       "      <td>...</td>\n",
       "      <td>4400-4599</td>\n",
       "      <td>Retail Trade</td>\n",
       "      <td>False</td>\n",
       "      <td>False</td>\n",
       "      <td>NaN</td>\n",
       "      <td>NaN</td>\n",
       "      <td>6.0</td>\n",
       "      <td>Mission Bay</td>\n",
       "      <td>NaN</td>\n",
       "      <td>550 GENE FRIEND WAY\\nSAN FRANCISCO, CA 94158\\n...</td>\n",
       "    </tr>\n",
       "    <tr>\n",
       "      <th>2</th>\n",
       "      <td>0474285-06-001</td>\n",
       "      <td>474285</td>\n",
       "      <td>Pressed Juicery Inc</td>\n",
       "      <td>Pressed Juicery</td>\n",
       "      <td>865 Market St #9001</td>\n",
       "      <td>San+francisco</td>\n",
       "      <td>CA</td>\n",
       "      <td>94103.0</td>\n",
       "      <td>12/01/2012</td>\n",
       "      <td>NaN</td>\n",
       "      <td>...</td>\n",
       "      <td>4400-4599</td>\n",
       "      <td>Retail Trade</td>\n",
       "      <td>False</td>\n",
       "      <td>False</td>\n",
       "      <td>NaN</td>\n",
       "      <td>NaN</td>\n",
       "      <td>NaN</td>\n",
       "      <td>NaN</td>\n",
       "      <td>NaN</td>\n",
       "      <td>865 MARKET ST\\nSAN FRANCISCO, CA 94103\\n(37.78...</td>\n",
       "    </tr>\n",
       "    <tr>\n",
       "      <th>3</th>\n",
       "      <td>1045798-12-151</td>\n",
       "      <td>1021444</td>\n",
       "      <td>Benhammou Ahmida</td>\n",
       "      <td>Zaalouk Market &amp; Deli Grocery</td>\n",
       "      <td>1209 Sutter St</td>\n",
       "      <td>San Francisco</td>\n",
       "      <td>CA</td>\n",
       "      <td>94109.0</td>\n",
       "      <td>12/01/2015</td>\n",
       "      <td>NaN</td>\n",
       "      <td>...</td>\n",
       "      <td>4400-4599</td>\n",
       "      <td>Retail Trade</td>\n",
       "      <td>False</td>\n",
       "      <td>False</td>\n",
       "      <td>NaN</td>\n",
       "      <td>NaN</td>\n",
       "      <td>3.0</td>\n",
       "      <td>Nob Hill</td>\n",
       "      <td>NaN</td>\n",
       "      <td>1209 SUTTER ST\\nSAN FRANCISCO, CA 94109\\n(37.7...</td>\n",
       "    </tr>\n",
       "    <tr>\n",
       "      <th>4</th>\n",
       "      <td>1170655-12-171</td>\n",
       "      <td>1080758</td>\n",
       "      <td>San Francisco Security Services Llc</td>\n",
       "      <td>San Francisco Security Services Llc</td>\n",
       "      <td>588 Sutter St</td>\n",
       "      <td>San Francisco</td>\n",
       "      <td>CA</td>\n",
       "      <td>94102.0</td>\n",
       "      <td>12/01/2017</td>\n",
       "      <td>NaN</td>\n",
       "      <td>...</td>\n",
       "      <td>NaN</td>\n",
       "      <td>NaN</td>\n",
       "      <td>False</td>\n",
       "      <td>False</td>\n",
       "      <td>NaN</td>\n",
       "      <td>NaN</td>\n",
       "      <td>NaN</td>\n",
       "      <td>NaN</td>\n",
       "      <td>NaN</td>\n",
       "      <td>NaN</td>\n",
       "    </tr>\n",
       "  </tbody>\n",
       "</table>\n",
       "<p>5 rows × 26 columns</p>\n",
       "</div>"
      ],
      "text/plain": [
       "      Location Id  Business Account Number  \\\n",
       "0  0376718-03-001                   376718   \n",
       "1  0474285-05-001                   474285   \n",
       "2  0474285-06-001                   474285   \n",
       "3  1045798-12-151                  1021444   \n",
       "4  1170655-12-171                  1080758   \n",
       "\n",
       "                        Ownership Name                             DBA Name  \\\n",
       "0                         Chan Renee W         Blossoming Lotus Acupuncture   \n",
       "1                  Pressed Juicery Inc                      Pressed Juicery   \n",
       "2                  Pressed Juicery Inc                      Pressed Juicery   \n",
       "3                     Benhammou Ahmida        Zaalouk Market & Deli Grocery   \n",
       "4  San Francisco Security Services Llc  San Francisco Security Services Llc   \n",
       "\n",
       "          Street Address           City State  Source Zipcode  \\\n",
       "0  2670 Leavenworth St A  San Francisco    CA         94109.0   \n",
       "1    550 Gene Friend Way  San Francisco    CA         94158.0   \n",
       "2    865 Market St #9001  San+francisco    CA         94103.0   \n",
       "3         1209 Sutter St  San Francisco    CA         94109.0   \n",
       "4          588 Sutter St  San Francisco    CA         94102.0   \n",
       "\n",
       "  Business Start Date Business End Date  \\\n",
       "0          01/28/2010               NaN   \n",
       "1          12/01/2012               NaN   \n",
       "2          12/01/2012               NaN   \n",
       "3          12/01/2015               NaN   \n",
       "4          12/01/2017               NaN   \n",
       "\n",
       "                         ...                         NAICS Code  \\\n",
       "0                        ...                          6100-6299   \n",
       "1                        ...                          4400-4599   \n",
       "2                        ...                          4400-4599   \n",
       "3                        ...                          4400-4599   \n",
       "4                        ...                                NaN   \n",
       "\n",
       "                  NAICS Code Description Parking Tax Transient Occupancy Tax  \\\n",
       "0  Private Education and Health Services       False                   False   \n",
       "1                           Retail Trade       False                   False   \n",
       "2                           Retail Trade       False                   False   \n",
       "3                           Retail Trade       False                   False   \n",
       "4                                    NaN       False                   False   \n",
       "\n",
       "  LIC Code LIC Code Description Supervisor District  \\\n",
       "0      NaN                  NaN                 2.0   \n",
       "1      NaN                  NaN                 6.0   \n",
       "2      NaN                  NaN                 NaN   \n",
       "3      NaN                  NaN                 3.0   \n",
       "4      NaN                  NaN                 NaN   \n",
       "\n",
       "  Neighborhoods - Analysis Boundaries  Business Corridor  \\\n",
       "0                         North Beach                NaN   \n",
       "1                         Mission Bay                NaN   \n",
       "2                                 NaN                NaN   \n",
       "3                            Nob Hill                NaN   \n",
       "4                                 NaN                NaN   \n",
       "\n",
       "                                   Business Location  \n",
       "0   2670 LEAVENWORTH ST\\nA San Francisco, CA 94109\\n  \n",
       "1  550 GENE FRIEND WAY\\nSAN FRANCISCO, CA 94158\\n...  \n",
       "2  865 MARKET ST\\nSAN FRANCISCO, CA 94103\\n(37.78...  \n",
       "3  1209 SUTTER ST\\nSAN FRANCISCO, CA 94109\\n(37.7...  \n",
       "4                                                NaN  \n",
       "\n",
       "[5 rows x 26 columns]"
      ]
     },
     "execution_count": 48,
     "metadata": {},
     "output_type": "execute_result"
    }
   ],
   "source": [
    "business_df.head()"
   ]
  },
  {
   "cell_type": "markdown",
   "metadata": {},
   "source": [
    "Let's first extract the data associated with our grocery store zipcode which is 94117"
   ]
  },
  {
   "cell_type": "code",
   "execution_count": 49,
   "metadata": {
    "collapsed": true
   },
   "outputs": [],
   "source": [
    "business_df = business_df[business_df['Source Zipcode'] == 94117.0]"
   ]
  },
  {
   "cell_type": "code",
   "execution_count": 50,
   "metadata": {},
   "outputs": [
    {
     "data": {
      "text/html": [
       "<div>\n",
       "<style scoped>\n",
       "    .dataframe tbody tr th:only-of-type {\n",
       "        vertical-align: middle;\n",
       "    }\n",
       "\n",
       "    .dataframe tbody tr th {\n",
       "        vertical-align: top;\n",
       "    }\n",
       "\n",
       "    .dataframe thead th {\n",
       "        text-align: right;\n",
       "    }\n",
       "</style>\n",
       "<table border=\"1\" class=\"dataframe\">\n",
       "  <thead>\n",
       "    <tr style=\"text-align: right;\">\n",
       "      <th></th>\n",
       "      <th>Location Id</th>\n",
       "      <th>Business Account Number</th>\n",
       "      <th>Ownership Name</th>\n",
       "      <th>DBA Name</th>\n",
       "      <th>Street Address</th>\n",
       "      <th>City</th>\n",
       "      <th>State</th>\n",
       "      <th>Source Zipcode</th>\n",
       "      <th>Business Start Date</th>\n",
       "      <th>Business End Date</th>\n",
       "      <th>...</th>\n",
       "      <th>NAICS Code</th>\n",
       "      <th>NAICS Code Description</th>\n",
       "      <th>Parking Tax</th>\n",
       "      <th>Transient Occupancy Tax</th>\n",
       "      <th>LIC Code</th>\n",
       "      <th>LIC Code Description</th>\n",
       "      <th>Supervisor District</th>\n",
       "      <th>Neighborhoods - Analysis Boundaries</th>\n",
       "      <th>Business Corridor</th>\n",
       "      <th>Business Location</th>\n",
       "    </tr>\n",
       "  </thead>\n",
       "  <tbody>\n",
       "    <tr>\n",
       "      <th>9</th>\n",
       "      <td>1173616-12-171</td>\n",
       "      <td>1081188</td>\n",
       "      <td>Ariel Sultan</td>\n",
       "      <td>Ariel Sultan</td>\n",
       "      <td>180 Carl St Apt 1</td>\n",
       "      <td>San Francisco</td>\n",
       "      <td>CA</td>\n",
       "      <td>94117.0</td>\n",
       "      <td>12/27/2017</td>\n",
       "      <td>NaN</td>\n",
       "      <td>...</td>\n",
       "      <td>7210-7219</td>\n",
       "      <td>Accommodations</td>\n",
       "      <td>False</td>\n",
       "      <td>True</td>\n",
       "      <td>NaN</td>\n",
       "      <td>NaN</td>\n",
       "      <td>5.0</td>\n",
       "      <td>Haight Ashbury</td>\n",
       "      <td>NaN</td>\n",
       "      <td>NaN</td>\n",
       "    </tr>\n",
       "    <tr>\n",
       "      <th>22</th>\n",
       "      <td>1173756-12-171</td>\n",
       "      <td>1081218</td>\n",
       "      <td>Jms Wired,llc</td>\n",
       "      <td>Careers Wired</td>\n",
       "      <td>1911 Hayes St</td>\n",
       "      <td>San Francisco</td>\n",
       "      <td>CA</td>\n",
       "      <td>94117.0</td>\n",
       "      <td>12/28/2017</td>\n",
       "      <td>NaN</td>\n",
       "      <td>...</td>\n",
       "      <td>5600-5699</td>\n",
       "      <td>Administrative and Support Services</td>\n",
       "      <td>False</td>\n",
       "      <td>False</td>\n",
       "      <td>NaN</td>\n",
       "      <td>NaN</td>\n",
       "      <td>5.0</td>\n",
       "      <td>Lone Mountain/USF</td>\n",
       "      <td>NaN</td>\n",
       "      <td>NaN</td>\n",
       "    </tr>\n",
       "    <tr>\n",
       "      <th>23</th>\n",
       "      <td>1173757-12-171</td>\n",
       "      <td>1081218</td>\n",
       "      <td>Jms Wired,llc</td>\n",
       "      <td>Jms Wired</td>\n",
       "      <td>1911 Hayes St</td>\n",
       "      <td>San Francisco</td>\n",
       "      <td>CA</td>\n",
       "      <td>94117.0</td>\n",
       "      <td>12/28/2017</td>\n",
       "      <td>NaN</td>\n",
       "      <td>...</td>\n",
       "      <td>5600-5699</td>\n",
       "      <td>Administrative and Support Services</td>\n",
       "      <td>False</td>\n",
       "      <td>False</td>\n",
       "      <td>NaN</td>\n",
       "      <td>NaN</td>\n",
       "      <td>5.0</td>\n",
       "      <td>Lone Mountain/USF</td>\n",
       "      <td>NaN</td>\n",
       "      <td>NaN</td>\n",
       "    </tr>\n",
       "    <tr>\n",
       "      <th>26</th>\n",
       "      <td>1173787-12-171</td>\n",
       "      <td>1081237</td>\n",
       "      <td>Nicholas Shen</td>\n",
       "      <td>Fillmore Penthouse</td>\n",
       "      <td>430 Fillmore St Apt C</td>\n",
       "      <td>San Francisco</td>\n",
       "      <td>CA</td>\n",
       "      <td>94117.0</td>\n",
       "      <td>12/28/2017</td>\n",
       "      <td>NaN</td>\n",
       "      <td>...</td>\n",
       "      <td>7210-7219</td>\n",
       "      <td>Accommodations</td>\n",
       "      <td>False</td>\n",
       "      <td>True</td>\n",
       "      <td>NaN</td>\n",
       "      <td>NaN</td>\n",
       "      <td>5.0</td>\n",
       "      <td>Hayes Valley</td>\n",
       "      <td>NaN</td>\n",
       "      <td>NaN</td>\n",
       "    </tr>\n",
       "    <tr>\n",
       "      <th>40</th>\n",
       "      <td>1060022-03-161</td>\n",
       "      <td>1029449</td>\n",
       "      <td>Evelyn Muir</td>\n",
       "      <td>Evelyn Muir</td>\n",
       "      <td>1516 Shrader St</td>\n",
       "      <td>San Francisco</td>\n",
       "      <td>CA</td>\n",
       "      <td>94117.0</td>\n",
       "      <td>01/01/2016</td>\n",
       "      <td>NaN</td>\n",
       "      <td>...</td>\n",
       "      <td>NaN</td>\n",
       "      <td>NaN</td>\n",
       "      <td>False</td>\n",
       "      <td>False</td>\n",
       "      <td>NaN</td>\n",
       "      <td>NaN</td>\n",
       "      <td>5.0</td>\n",
       "      <td>Inner Sunset</td>\n",
       "      <td>NaN</td>\n",
       "      <td>1516 SHRADER ST\\nSAN FRANCISCO, CA 94117\\n(37....</td>\n",
       "    </tr>\n",
       "  </tbody>\n",
       "</table>\n",
       "<p>5 rows × 26 columns</p>\n",
       "</div>"
      ],
      "text/plain": [
       "       Location Id  Business Account Number Ownership Name  \\\n",
       "9   1173616-12-171                  1081188   Ariel Sultan   \n",
       "22  1173756-12-171                  1081218  Jms Wired,llc   \n",
       "23  1173757-12-171                  1081218  Jms Wired,llc   \n",
       "26  1173787-12-171                  1081237  Nicholas Shen   \n",
       "40  1060022-03-161                  1029449    Evelyn Muir   \n",
       "\n",
       "              DBA Name         Street Address           City State  \\\n",
       "9         Ariel Sultan      180 Carl St Apt 1  San Francisco    CA   \n",
       "22       Careers Wired          1911 Hayes St  San Francisco    CA   \n",
       "23           Jms Wired          1911 Hayes St  San Francisco    CA   \n",
       "26  Fillmore Penthouse  430 Fillmore St Apt C  San Francisco    CA   \n",
       "40         Evelyn Muir        1516 Shrader St  San Francisco    CA   \n",
       "\n",
       "    Source Zipcode Business Start Date Business End Date  \\\n",
       "9          94117.0          12/27/2017               NaN   \n",
       "22         94117.0          12/28/2017               NaN   \n",
       "23         94117.0          12/28/2017               NaN   \n",
       "26         94117.0          12/28/2017               NaN   \n",
       "40         94117.0          01/01/2016               NaN   \n",
       "\n",
       "                          ...                         NAICS Code  \\\n",
       "9                         ...                          7210-7219   \n",
       "22                        ...                          5600-5699   \n",
       "23                        ...                          5600-5699   \n",
       "26                        ...                          7210-7219   \n",
       "40                        ...                                NaN   \n",
       "\n",
       "                 NAICS Code Description Parking Tax Transient Occupancy Tax  \\\n",
       "9                        Accommodations       False                    True   \n",
       "22  Administrative and Support Services       False                   False   \n",
       "23  Administrative and Support Services       False                   False   \n",
       "26                       Accommodations       False                    True   \n",
       "40                                  NaN       False                   False   \n",
       "\n",
       "   LIC Code LIC Code Description Supervisor District  \\\n",
       "9       NaN                  NaN                 5.0   \n",
       "22      NaN                  NaN                 5.0   \n",
       "23      NaN                  NaN                 5.0   \n",
       "26      NaN                  NaN                 5.0   \n",
       "40      NaN                  NaN                 5.0   \n",
       "\n",
       "   Neighborhoods - Analysis Boundaries  Business Corridor  \\\n",
       "9                       Haight Ashbury                NaN   \n",
       "22                   Lone Mountain/USF                NaN   \n",
       "23                   Lone Mountain/USF                NaN   \n",
       "26                        Hayes Valley                NaN   \n",
       "40                        Inner Sunset                NaN   \n",
       "\n",
       "                                    Business Location  \n",
       "9                                                 NaN  \n",
       "22                                                NaN  \n",
       "23                                                NaN  \n",
       "26                                                NaN  \n",
       "40  1516 SHRADER ST\\nSAN FRANCISCO, CA 94117\\n(37....  \n",
       "\n",
       "[5 rows x 26 columns]"
      ]
     },
     "execution_count": 50,
     "metadata": {},
     "output_type": "execute_result"
    }
   ],
   "source": [
    "business_df.head()"
   ]
  },
  {
   "cell_type": "markdown",
   "metadata": {},
   "source": [
    "Let's filter the businesses which are currently open, by making sure the Business End Date to be NaN."
   ]
  },
  {
   "cell_type": "code",
   "execution_count": 51,
   "metadata": {
    "collapsed": true
   },
   "outputs": [],
   "source": [
    "business_df = business_df[business_df['Business End Date'].isnull()]"
   ]
  },
  {
   "cell_type": "code",
   "execution_count": 52,
   "metadata": {},
   "outputs": [
    {
     "data": {
      "text/html": [
       "<div>\n",
       "<style scoped>\n",
       "    .dataframe tbody tr th:only-of-type {\n",
       "        vertical-align: middle;\n",
       "    }\n",
       "\n",
       "    .dataframe tbody tr th {\n",
       "        vertical-align: top;\n",
       "    }\n",
       "\n",
       "    .dataframe thead th {\n",
       "        text-align: right;\n",
       "    }\n",
       "</style>\n",
       "<table border=\"1\" class=\"dataframe\">\n",
       "  <thead>\n",
       "    <tr style=\"text-align: right;\">\n",
       "      <th></th>\n",
       "      <th>Location Id</th>\n",
       "      <th>Business Account Number</th>\n",
       "      <th>Ownership Name</th>\n",
       "      <th>DBA Name</th>\n",
       "      <th>Street Address</th>\n",
       "      <th>City</th>\n",
       "      <th>State</th>\n",
       "      <th>Source Zipcode</th>\n",
       "      <th>Business Start Date</th>\n",
       "      <th>Business End Date</th>\n",
       "      <th>...</th>\n",
       "      <th>NAICS Code</th>\n",
       "      <th>NAICS Code Description</th>\n",
       "      <th>Parking Tax</th>\n",
       "      <th>Transient Occupancy Tax</th>\n",
       "      <th>LIC Code</th>\n",
       "      <th>LIC Code Description</th>\n",
       "      <th>Supervisor District</th>\n",
       "      <th>Neighborhoods - Analysis Boundaries</th>\n",
       "      <th>Business Corridor</th>\n",
       "      <th>Business Location</th>\n",
       "    </tr>\n",
       "  </thead>\n",
       "  <tbody>\n",
       "    <tr>\n",
       "      <th>9</th>\n",
       "      <td>1173616-12-171</td>\n",
       "      <td>1081188</td>\n",
       "      <td>Ariel Sultan</td>\n",
       "      <td>Ariel Sultan</td>\n",
       "      <td>180 Carl St Apt 1</td>\n",
       "      <td>San Francisco</td>\n",
       "      <td>CA</td>\n",
       "      <td>94117.0</td>\n",
       "      <td>12/27/2017</td>\n",
       "      <td>NaN</td>\n",
       "      <td>...</td>\n",
       "      <td>7210-7219</td>\n",
       "      <td>Accommodations</td>\n",
       "      <td>False</td>\n",
       "      <td>True</td>\n",
       "      <td>NaN</td>\n",
       "      <td>NaN</td>\n",
       "      <td>5.0</td>\n",
       "      <td>Haight Ashbury</td>\n",
       "      <td>NaN</td>\n",
       "      <td>NaN</td>\n",
       "    </tr>\n",
       "    <tr>\n",
       "      <th>22</th>\n",
       "      <td>1173756-12-171</td>\n",
       "      <td>1081218</td>\n",
       "      <td>Jms Wired,llc</td>\n",
       "      <td>Careers Wired</td>\n",
       "      <td>1911 Hayes St</td>\n",
       "      <td>San Francisco</td>\n",
       "      <td>CA</td>\n",
       "      <td>94117.0</td>\n",
       "      <td>12/28/2017</td>\n",
       "      <td>NaN</td>\n",
       "      <td>...</td>\n",
       "      <td>5600-5699</td>\n",
       "      <td>Administrative and Support Services</td>\n",
       "      <td>False</td>\n",
       "      <td>False</td>\n",
       "      <td>NaN</td>\n",
       "      <td>NaN</td>\n",
       "      <td>5.0</td>\n",
       "      <td>Lone Mountain/USF</td>\n",
       "      <td>NaN</td>\n",
       "      <td>NaN</td>\n",
       "    </tr>\n",
       "    <tr>\n",
       "      <th>23</th>\n",
       "      <td>1173757-12-171</td>\n",
       "      <td>1081218</td>\n",
       "      <td>Jms Wired,llc</td>\n",
       "      <td>Jms Wired</td>\n",
       "      <td>1911 Hayes St</td>\n",
       "      <td>San Francisco</td>\n",
       "      <td>CA</td>\n",
       "      <td>94117.0</td>\n",
       "      <td>12/28/2017</td>\n",
       "      <td>NaN</td>\n",
       "      <td>...</td>\n",
       "      <td>5600-5699</td>\n",
       "      <td>Administrative and Support Services</td>\n",
       "      <td>False</td>\n",
       "      <td>False</td>\n",
       "      <td>NaN</td>\n",
       "      <td>NaN</td>\n",
       "      <td>5.0</td>\n",
       "      <td>Lone Mountain/USF</td>\n",
       "      <td>NaN</td>\n",
       "      <td>NaN</td>\n",
       "    </tr>\n",
       "    <tr>\n",
       "      <th>26</th>\n",
       "      <td>1173787-12-171</td>\n",
       "      <td>1081237</td>\n",
       "      <td>Nicholas Shen</td>\n",
       "      <td>Fillmore Penthouse</td>\n",
       "      <td>430 Fillmore St Apt C</td>\n",
       "      <td>San Francisco</td>\n",
       "      <td>CA</td>\n",
       "      <td>94117.0</td>\n",
       "      <td>12/28/2017</td>\n",
       "      <td>NaN</td>\n",
       "      <td>...</td>\n",
       "      <td>7210-7219</td>\n",
       "      <td>Accommodations</td>\n",
       "      <td>False</td>\n",
       "      <td>True</td>\n",
       "      <td>NaN</td>\n",
       "      <td>NaN</td>\n",
       "      <td>5.0</td>\n",
       "      <td>Hayes Valley</td>\n",
       "      <td>NaN</td>\n",
       "      <td>NaN</td>\n",
       "    </tr>\n",
       "    <tr>\n",
       "      <th>40</th>\n",
       "      <td>1060022-03-161</td>\n",
       "      <td>1029449</td>\n",
       "      <td>Evelyn Muir</td>\n",
       "      <td>Evelyn Muir</td>\n",
       "      <td>1516 Shrader St</td>\n",
       "      <td>San Francisco</td>\n",
       "      <td>CA</td>\n",
       "      <td>94117.0</td>\n",
       "      <td>01/01/2016</td>\n",
       "      <td>NaN</td>\n",
       "      <td>...</td>\n",
       "      <td>NaN</td>\n",
       "      <td>NaN</td>\n",
       "      <td>False</td>\n",
       "      <td>False</td>\n",
       "      <td>NaN</td>\n",
       "      <td>NaN</td>\n",
       "      <td>5.0</td>\n",
       "      <td>Inner Sunset</td>\n",
       "      <td>NaN</td>\n",
       "      <td>1516 SHRADER ST\\nSAN FRANCISCO, CA 94117\\n(37....</td>\n",
       "    </tr>\n",
       "  </tbody>\n",
       "</table>\n",
       "<p>5 rows × 26 columns</p>\n",
       "</div>"
      ],
      "text/plain": [
       "       Location Id  Business Account Number Ownership Name  \\\n",
       "9   1173616-12-171                  1081188   Ariel Sultan   \n",
       "22  1173756-12-171                  1081218  Jms Wired,llc   \n",
       "23  1173757-12-171                  1081218  Jms Wired,llc   \n",
       "26  1173787-12-171                  1081237  Nicholas Shen   \n",
       "40  1060022-03-161                  1029449    Evelyn Muir   \n",
       "\n",
       "              DBA Name         Street Address           City State  \\\n",
       "9         Ariel Sultan      180 Carl St Apt 1  San Francisco    CA   \n",
       "22       Careers Wired          1911 Hayes St  San Francisco    CA   \n",
       "23           Jms Wired          1911 Hayes St  San Francisco    CA   \n",
       "26  Fillmore Penthouse  430 Fillmore St Apt C  San Francisco    CA   \n",
       "40         Evelyn Muir        1516 Shrader St  San Francisco    CA   \n",
       "\n",
       "    Source Zipcode Business Start Date Business End Date  \\\n",
       "9          94117.0          12/27/2017               NaN   \n",
       "22         94117.0          12/28/2017               NaN   \n",
       "23         94117.0          12/28/2017               NaN   \n",
       "26         94117.0          12/28/2017               NaN   \n",
       "40         94117.0          01/01/2016               NaN   \n",
       "\n",
       "                          ...                         NAICS Code  \\\n",
       "9                         ...                          7210-7219   \n",
       "22                        ...                          5600-5699   \n",
       "23                        ...                          5600-5699   \n",
       "26                        ...                          7210-7219   \n",
       "40                        ...                                NaN   \n",
       "\n",
       "                 NAICS Code Description Parking Tax Transient Occupancy Tax  \\\n",
       "9                        Accommodations       False                    True   \n",
       "22  Administrative and Support Services       False                   False   \n",
       "23  Administrative and Support Services       False                   False   \n",
       "26                       Accommodations       False                    True   \n",
       "40                                  NaN       False                   False   \n",
       "\n",
       "   LIC Code LIC Code Description Supervisor District  \\\n",
       "9       NaN                  NaN                 5.0   \n",
       "22      NaN                  NaN                 5.0   \n",
       "23      NaN                  NaN                 5.0   \n",
       "26      NaN                  NaN                 5.0   \n",
       "40      NaN                  NaN                 5.0   \n",
       "\n",
       "   Neighborhoods - Analysis Boundaries  Business Corridor  \\\n",
       "9                       Haight Ashbury                NaN   \n",
       "22                   Lone Mountain/USF                NaN   \n",
       "23                   Lone Mountain/USF                NaN   \n",
       "26                        Hayes Valley                NaN   \n",
       "40                        Inner Sunset                NaN   \n",
       "\n",
       "                                    Business Location  \n",
       "9                                                 NaN  \n",
       "22                                                NaN  \n",
       "23                                                NaN  \n",
       "26                                                NaN  \n",
       "40  1516 SHRADER ST\\nSAN FRANCISCO, CA 94117\\n(37....  \n",
       "\n",
       "[5 rows x 26 columns]"
      ]
     },
     "execution_count": 52,
     "metadata": {},
     "output_type": "execute_result"
    }
   ],
   "source": [
    "business_df.head()"
   ]
  },
  {
   "cell_type": "markdown",
   "metadata": {},
   "source": [
    "This contains businesses in a variety of streets, lets focus on Baker and Fulton Streets."
   ]
  },
  {
   "cell_type": "code",
   "execution_count": 53,
   "metadata": {
    "collapsed": true
   },
   "outputs": [],
   "source": [
    "business_df = business_df[business_df['Street Address'].str.contains('Baker|Fulton',regex = True, case = False)]"
   ]
  },
  {
   "cell_type": "code",
   "execution_count": 54,
   "metadata": {
    "scrolled": false
   },
   "outputs": [
    {
     "data": {
      "text/plain": [
       "(333, 26)"
      ]
     },
     "execution_count": 54,
     "metadata": {},
     "output_type": "execute_result"
    }
   ],
   "source": [
    "business_df.shape"
   ]
  },
  {
   "cell_type": "markdown",
   "metadata": {},
   "source": [
    "That's still a lot of rows, let's dig in deeper"
   ]
  },
  {
   "cell_type": "code",
   "execution_count": 55,
   "metadata": {},
   "outputs": [
    {
     "data": {
      "text/html": [
       "<div>\n",
       "<style scoped>\n",
       "    .dataframe tbody tr th:only-of-type {\n",
       "        vertical-align: middle;\n",
       "    }\n",
       "\n",
       "    .dataframe tbody tr th {\n",
       "        vertical-align: top;\n",
       "    }\n",
       "\n",
       "    .dataframe thead th {\n",
       "        text-align: right;\n",
       "    }\n",
       "</style>\n",
       "<table border=\"1\" class=\"dataframe\">\n",
       "  <thead>\n",
       "    <tr style=\"text-align: right;\">\n",
       "      <th></th>\n",
       "      <th>Location Id</th>\n",
       "      <th>Business Account Number</th>\n",
       "      <th>Ownership Name</th>\n",
       "      <th>DBA Name</th>\n",
       "      <th>Street Address</th>\n",
       "      <th>City</th>\n",
       "      <th>State</th>\n",
       "      <th>Source Zipcode</th>\n",
       "      <th>Business Start Date</th>\n",
       "      <th>Business End Date</th>\n",
       "      <th>...</th>\n",
       "      <th>NAICS Code</th>\n",
       "      <th>NAICS Code Description</th>\n",
       "      <th>Parking Tax</th>\n",
       "      <th>Transient Occupancy Tax</th>\n",
       "      <th>LIC Code</th>\n",
       "      <th>LIC Code Description</th>\n",
       "      <th>Supervisor District</th>\n",
       "      <th>Neighborhoods - Analysis Boundaries</th>\n",
       "      <th>Business Corridor</th>\n",
       "      <th>Business Location</th>\n",
       "    </tr>\n",
       "  </thead>\n",
       "  <tbody>\n",
       "    <tr>\n",
       "      <th>500</th>\n",
       "      <td>1174038-01-181</td>\n",
       "      <td>1081352</td>\n",
       "      <td>Jeremy Paz</td>\n",
       "      <td>Bubble Lounge Laundromat</td>\n",
       "      <td>1811 Fulton St</td>\n",
       "      <td>San Francisco</td>\n",
       "      <td>CA</td>\n",
       "      <td>94117.0</td>\n",
       "      <td>11/01/2017</td>\n",
       "      <td>NaN</td>\n",
       "      <td>...</td>\n",
       "      <td>NaN</td>\n",
       "      <td>NaN</td>\n",
       "      <td>False</td>\n",
       "      <td>False</td>\n",
       "      <td>NaN</td>\n",
       "      <td>NaN</td>\n",
       "      <td>NaN</td>\n",
       "      <td>NaN</td>\n",
       "      <td>NaN</td>\n",
       "      <td>NaN</td>\n",
       "    </tr>\n",
       "    <tr>\n",
       "      <th>1235</th>\n",
       "      <td>1190128-05-181</td>\n",
       "      <td>1088444</td>\n",
       "      <td>Gold &amp; Gumption Llc</td>\n",
       "      <td>Gold &amp; Gumption</td>\n",
       "      <td>1880 Fulton St Apt 4</td>\n",
       "      <td>San Francisco</td>\n",
       "      <td>CA</td>\n",
       "      <td>94117.0</td>\n",
       "      <td>01/01/2018</td>\n",
       "      <td>NaN</td>\n",
       "      <td>...</td>\n",
       "      <td>7100-7199</td>\n",
       "      <td>Arts, Entertainment, and Recreation</td>\n",
       "      <td>False</td>\n",
       "      <td>False</td>\n",
       "      <td>NaN</td>\n",
       "      <td>NaN</td>\n",
       "      <td>1.0</td>\n",
       "      <td>Lone Mountain/USF</td>\n",
       "      <td>NaN</td>\n",
       "      <td>NaN</td>\n",
       "    </tr>\n",
       "    <tr>\n",
       "      <th>1750</th>\n",
       "      <td>1174864-01-181</td>\n",
       "      <td>1081748</td>\n",
       "      <td>Trevor Logan</td>\n",
       "      <td>Booster Foods</td>\n",
       "      <td>601 Baker St</td>\n",
       "      <td>San Francisco</td>\n",
       "      <td>CA</td>\n",
       "      <td>94117.0</td>\n",
       "      <td>01/01/2018</td>\n",
       "      <td>NaN</td>\n",
       "      <td>...</td>\n",
       "      <td>7220-7229</td>\n",
       "      <td>Food Services</td>\n",
       "      <td>False</td>\n",
       "      <td>False</td>\n",
       "      <td>NaN</td>\n",
       "      <td>NaN</td>\n",
       "      <td>NaN</td>\n",
       "      <td>NaN</td>\n",
       "      <td>NaN</td>\n",
       "      <td>NaN</td>\n",
       "    </tr>\n",
       "    <tr>\n",
       "      <th>2405</th>\n",
       "      <td>1175641-01-181</td>\n",
       "      <td>1082107</td>\n",
       "      <td>Christopher Plante</td>\n",
       "      <td>1548 Fulton St</td>\n",
       "      <td>1548 Fulton St</td>\n",
       "      <td>San Francisco</td>\n",
       "      <td>CA</td>\n",
       "      <td>94117.0</td>\n",
       "      <td>01/15/2018</td>\n",
       "      <td>NaN</td>\n",
       "      <td>...</td>\n",
       "      <td>7210-7219</td>\n",
       "      <td>Accommodations</td>\n",
       "      <td>False</td>\n",
       "      <td>True</td>\n",
       "      <td>NaN</td>\n",
       "      <td>NaN</td>\n",
       "      <td>5.0</td>\n",
       "      <td>Lone Mountain/USF</td>\n",
       "      <td>NaN</td>\n",
       "      <td>NaN</td>\n",
       "    </tr>\n",
       "    <tr>\n",
       "      <th>3667</th>\n",
       "      <td>1177428-01-181</td>\n",
       "      <td>1082924</td>\n",
       "      <td>Julian Davis</td>\n",
       "      <td>Julian Davis</td>\n",
       "      <td>885 Fulton Street</td>\n",
       "      <td>San Francisco</td>\n",
       "      <td>CA</td>\n",
       "      <td>94117.0</td>\n",
       "      <td>01/30/2018</td>\n",
       "      <td>NaN</td>\n",
       "      <td>...</td>\n",
       "      <td>7210-7219</td>\n",
       "      <td>Accommodations</td>\n",
       "      <td>False</td>\n",
       "      <td>True</td>\n",
       "      <td>NaN</td>\n",
       "      <td>NaN</td>\n",
       "      <td>5.0</td>\n",
       "      <td>Hayes Valley</td>\n",
       "      <td>NaN</td>\n",
       "      <td>NaN</td>\n",
       "    </tr>\n",
       "  </tbody>\n",
       "</table>\n",
       "<p>5 rows × 26 columns</p>\n",
       "</div>"
      ],
      "text/plain": [
       "         Location Id  Business Account Number       Ownership Name  \\\n",
       "500   1174038-01-181                  1081352           Jeremy Paz   \n",
       "1235  1190128-05-181                  1088444  Gold & Gumption Llc   \n",
       "1750  1174864-01-181                  1081748         Trevor Logan   \n",
       "2405  1175641-01-181                  1082107   Christopher Plante   \n",
       "3667  1177428-01-181                  1082924         Julian Davis   \n",
       "\n",
       "                      DBA Name        Street Address           City State  \\\n",
       "500   Bubble Lounge Laundromat        1811 Fulton St  San Francisco    CA   \n",
       "1235           Gold & Gumption  1880 Fulton St Apt 4  San Francisco    CA   \n",
       "1750             Booster Foods          601 Baker St  San Francisco    CA   \n",
       "2405            1548 Fulton St        1548 Fulton St  San Francisco    CA   \n",
       "3667              Julian Davis     885 Fulton Street  San Francisco    CA   \n",
       "\n",
       "      Source Zipcode Business Start Date Business End Date        ...          \\\n",
       "500          94117.0          11/01/2017               NaN        ...           \n",
       "1235         94117.0          01/01/2018               NaN        ...           \n",
       "1750         94117.0          01/01/2018               NaN        ...           \n",
       "2405         94117.0          01/15/2018               NaN        ...           \n",
       "3667         94117.0          01/30/2018               NaN        ...           \n",
       "\n",
       "     NAICS Code               NAICS Code Description Parking Tax  \\\n",
       "500         NaN                                  NaN       False   \n",
       "1235  7100-7199  Arts, Entertainment, and Recreation       False   \n",
       "1750  7220-7229                        Food Services       False   \n",
       "2405  7210-7219                       Accommodations       False   \n",
       "3667  7210-7219                       Accommodations       False   \n",
       "\n",
       "     Transient Occupancy Tax LIC Code LIC Code Description  \\\n",
       "500                    False      NaN                  NaN   \n",
       "1235                   False      NaN                  NaN   \n",
       "1750                   False      NaN                  NaN   \n",
       "2405                    True      NaN                  NaN   \n",
       "3667                    True      NaN                  NaN   \n",
       "\n",
       "     Supervisor District Neighborhoods - Analysis Boundaries  \\\n",
       "500                  NaN                                 NaN   \n",
       "1235                 1.0                   Lone Mountain/USF   \n",
       "1750                 NaN                                 NaN   \n",
       "2405                 5.0                   Lone Mountain/USF   \n",
       "3667                 5.0                        Hayes Valley   \n",
       "\n",
       "      Business Corridor  Business Location  \n",
       "500                 NaN                NaN  \n",
       "1235                NaN                NaN  \n",
       "1750                NaN                NaN  \n",
       "2405                NaN                NaN  \n",
       "3667                NaN                NaN  \n",
       "\n",
       "[5 rows x 26 columns]"
      ]
     },
     "execution_count": 55,
     "metadata": {},
     "output_type": "execute_result"
    }
   ],
   "source": [
    "business_df.head()"
   ]
  },
  {
   "cell_type": "markdown",
   "metadata": {},
   "source": [
    "The grocery store cross pin spans from 1380 to 1590 Fulton Street and 400 to 705 Baker Street"
   ]
  },
  {
   "cell_type": "code",
   "execution_count": 56,
   "metadata": {
    "collapsed": true
   },
   "outputs": [],
   "source": [
    "business_df = business_df[business_df['Street Address'].str.contains('1[3-5][0-9][0-9]|[4-6][0-9][0-9]|70[0-5]'\n",
    "                                                                     ,regex = True, case = False)]"
   ]
  },
  {
   "cell_type": "code",
   "execution_count": 57,
   "metadata": {
    "scrolled": false
   },
   "outputs": [
    {
     "data": {
      "text/html": [
       "<div>\n",
       "<style scoped>\n",
       "    .dataframe tbody tr th:only-of-type {\n",
       "        vertical-align: middle;\n",
       "    }\n",
       "\n",
       "    .dataframe tbody tr th {\n",
       "        vertical-align: top;\n",
       "    }\n",
       "\n",
       "    .dataframe thead th {\n",
       "        text-align: right;\n",
       "    }\n",
       "</style>\n",
       "<table border=\"1\" class=\"dataframe\">\n",
       "  <thead>\n",
       "    <tr style=\"text-align: right;\">\n",
       "      <th></th>\n",
       "      <th>Location Id</th>\n",
       "      <th>Business Account Number</th>\n",
       "      <th>Ownership Name</th>\n",
       "      <th>DBA Name</th>\n",
       "      <th>Street Address</th>\n",
       "      <th>City</th>\n",
       "      <th>State</th>\n",
       "      <th>Source Zipcode</th>\n",
       "      <th>Business Start Date</th>\n",
       "      <th>Business End Date</th>\n",
       "      <th>...</th>\n",
       "      <th>NAICS Code</th>\n",
       "      <th>NAICS Code Description</th>\n",
       "      <th>Parking Tax</th>\n",
       "      <th>Transient Occupancy Tax</th>\n",
       "      <th>LIC Code</th>\n",
       "      <th>LIC Code Description</th>\n",
       "      <th>Supervisor District</th>\n",
       "      <th>Neighborhoods - Analysis Boundaries</th>\n",
       "      <th>Business Corridor</th>\n",
       "      <th>Business Location</th>\n",
       "    </tr>\n",
       "  </thead>\n",
       "  <tbody>\n",
       "    <tr>\n",
       "      <th>1750</th>\n",
       "      <td>1174864-01-181</td>\n",
       "      <td>1081748</td>\n",
       "      <td>Trevor Logan</td>\n",
       "      <td>Booster Foods</td>\n",
       "      <td>601 Baker St</td>\n",
       "      <td>San Francisco</td>\n",
       "      <td>CA</td>\n",
       "      <td>94117.0</td>\n",
       "      <td>01/01/2018</td>\n",
       "      <td>NaN</td>\n",
       "      <td>...</td>\n",
       "      <td>7220-7229</td>\n",
       "      <td>Food Services</td>\n",
       "      <td>False</td>\n",
       "      <td>False</td>\n",
       "      <td>NaN</td>\n",
       "      <td>NaN</td>\n",
       "      <td>NaN</td>\n",
       "      <td>NaN</td>\n",
       "      <td>NaN</td>\n",
       "      <td>NaN</td>\n",
       "    </tr>\n",
       "    <tr>\n",
       "      <th>2405</th>\n",
       "      <td>1175641-01-181</td>\n",
       "      <td>1082107</td>\n",
       "      <td>Christopher Plante</td>\n",
       "      <td>1548 Fulton St</td>\n",
       "      <td>1548 Fulton St</td>\n",
       "      <td>San Francisco</td>\n",
       "      <td>CA</td>\n",
       "      <td>94117.0</td>\n",
       "      <td>01/15/2018</td>\n",
       "      <td>NaN</td>\n",
       "      <td>...</td>\n",
       "      <td>7210-7219</td>\n",
       "      <td>Accommodations</td>\n",
       "      <td>False</td>\n",
       "      <td>True</td>\n",
       "      <td>NaN</td>\n",
       "      <td>NaN</td>\n",
       "      <td>5.0</td>\n",
       "      <td>Lone Mountain/USF</td>\n",
       "      <td>NaN</td>\n",
       "      <td>NaN</td>\n",
       "    </tr>\n",
       "    <tr>\n",
       "      <th>4591</th>\n",
       "      <td>1172040-12-171</td>\n",
       "      <td>1027206</td>\n",
       "      <td>Carlin Elizabeth</td>\n",
       "      <td>Carlin Elizabeth</td>\n",
       "      <td>634 Baker St</td>\n",
       "      <td>San Francisco</td>\n",
       "      <td>CA</td>\n",
       "      <td>94117.0</td>\n",
       "      <td>01/13/2005</td>\n",
       "      <td>NaN</td>\n",
       "      <td>...</td>\n",
       "      <td>NaN</td>\n",
       "      <td>NaN</td>\n",
       "      <td>False</td>\n",
       "      <td>False</td>\n",
       "      <td>H68</td>\n",
       "      <td>General Massage Practitioner</td>\n",
       "      <td>5.0</td>\n",
       "      <td>Western Addition</td>\n",
       "      <td>NaN</td>\n",
       "      <td>NaN</td>\n",
       "    </tr>\n",
       "    <tr>\n",
       "      <th>5399</th>\n",
       "      <td>1178144-02-181</td>\n",
       "      <td>1083232</td>\n",
       "      <td>Bradley Clarke</td>\n",
       "      <td>Leisure Co</td>\n",
       "      <td>1435 Fulton St Apt A</td>\n",
       "      <td>San Francisco</td>\n",
       "      <td>CA</td>\n",
       "      <td>94117.0</td>\n",
       "      <td>02/01/2018</td>\n",
       "      <td>NaN</td>\n",
       "      <td>...</td>\n",
       "      <td>3100-3399 4400-4599</td>\n",
       "      <td>Multiple</td>\n",
       "      <td>False</td>\n",
       "      <td>False</td>\n",
       "      <td>NaN</td>\n",
       "      <td>NaN</td>\n",
       "      <td>5.0</td>\n",
       "      <td>Hayes Valley</td>\n",
       "      <td>NaN</td>\n",
       "      <td>NaN</td>\n",
       "    </tr>\n",
       "    <tr>\n",
       "      <th>5542</th>\n",
       "      <td>1189029-05-181</td>\n",
       "      <td>1087991</td>\n",
       "      <td>Rebecca Sinclair</td>\n",
       "      <td>Rebecca Sinclair</td>\n",
       "      <td>621 Baker St St</td>\n",
       "      <td>San Francisco</td>\n",
       "      <td>CA</td>\n",
       "      <td>94117.0</td>\n",
       "      <td>05/21/2018</td>\n",
       "      <td>NaN</td>\n",
       "      <td>...</td>\n",
       "      <td>7210-7219</td>\n",
       "      <td>Accommodations</td>\n",
       "      <td>False</td>\n",
       "      <td>True</td>\n",
       "      <td>NaN</td>\n",
       "      <td>NaN</td>\n",
       "      <td>5.0</td>\n",
       "      <td>Lone Mountain/USF</td>\n",
       "      <td>NaN</td>\n",
       "      <td>NaN</td>\n",
       "    </tr>\n",
       "  </tbody>\n",
       "</table>\n",
       "<p>5 rows × 26 columns</p>\n",
       "</div>"
      ],
      "text/plain": [
       "         Location Id  Business Account Number      Ownership Name  \\\n",
       "1750  1174864-01-181                  1081748        Trevor Logan   \n",
       "2405  1175641-01-181                  1082107  Christopher Plante   \n",
       "4591  1172040-12-171                  1027206    Carlin Elizabeth   \n",
       "5399  1178144-02-181                  1083232      Bradley Clarke   \n",
       "5542  1189029-05-181                  1087991    Rebecca Sinclair   \n",
       "\n",
       "              DBA Name        Street Address           City State  \\\n",
       "1750     Booster Foods          601 Baker St  San Francisco    CA   \n",
       "2405    1548 Fulton St        1548 Fulton St  San Francisco    CA   \n",
       "4591  Carlin Elizabeth          634 Baker St  San Francisco    CA   \n",
       "5399        Leisure Co  1435 Fulton St Apt A  San Francisco    CA   \n",
       "5542  Rebecca Sinclair       621 Baker St St  San Francisco    CA   \n",
       "\n",
       "      Source Zipcode Business Start Date Business End Date        ...          \\\n",
       "1750         94117.0          01/01/2018               NaN        ...           \n",
       "2405         94117.0          01/15/2018               NaN        ...           \n",
       "4591         94117.0          01/13/2005               NaN        ...           \n",
       "5399         94117.0          02/01/2018               NaN        ...           \n",
       "5542         94117.0          05/21/2018               NaN        ...           \n",
       "\n",
       "               NAICS Code NAICS Code Description Parking Tax  \\\n",
       "1750            7220-7229          Food Services       False   \n",
       "2405            7210-7219         Accommodations       False   \n",
       "4591                  NaN                    NaN       False   \n",
       "5399  3100-3399 4400-4599               Multiple       False   \n",
       "5542            7210-7219         Accommodations       False   \n",
       "\n",
       "     Transient Occupancy Tax LIC Code          LIC Code Description  \\\n",
       "1750                   False      NaN                           NaN   \n",
       "2405                    True      NaN                           NaN   \n",
       "4591                   False      H68  General Massage Practitioner   \n",
       "5399                   False      NaN                           NaN   \n",
       "5542                    True      NaN                           NaN   \n",
       "\n",
       "     Supervisor District Neighborhoods - Analysis Boundaries  \\\n",
       "1750                 NaN                                 NaN   \n",
       "2405                 5.0                   Lone Mountain/USF   \n",
       "4591                 5.0                    Western Addition   \n",
       "5399                 5.0                        Hayes Valley   \n",
       "5542                 5.0                   Lone Mountain/USF   \n",
       "\n",
       "      Business Corridor  Business Location  \n",
       "1750                NaN                NaN  \n",
       "2405                NaN                NaN  \n",
       "4591                NaN                NaN  \n",
       "5399                NaN                NaN  \n",
       "5542                NaN                NaN  \n",
       "\n",
       "[5 rows x 26 columns]"
      ]
     },
     "execution_count": 57,
     "metadata": {},
     "output_type": "execute_result"
    }
   ],
   "source": [
    "business_df.head()"
   ]
  },
  {
   "cell_type": "code",
   "execution_count": 58,
   "metadata": {},
   "outputs": [
    {
     "data": {
      "text/plain": [
       "(129, 26)"
      ]
     },
     "execution_count": 58,
     "metadata": {},
     "output_type": "execute_result"
    }
   ],
   "source": [
    "business_df.shape"
   ]
  },
  {
   "cell_type": "markdown",
   "metadata": {},
   "source": [
    "Let's also remove the businesses without a Description"
   ]
  },
  {
   "cell_type": "code",
   "execution_count": 59,
   "metadata": {
    "collapsed": true
   },
   "outputs": [],
   "source": [
    "business_df = business_df[~business_df['NAICS Code Description'].isnull()]"
   ]
  },
  {
   "cell_type": "code",
   "execution_count": 60,
   "metadata": {
    "scrolled": false
   },
   "outputs": [
    {
     "data": {
      "text/plain": [
       "(88, 26)"
      ]
     },
     "execution_count": 60,
     "metadata": {},
     "output_type": "execute_result"
    }
   ],
   "source": [
    "business_df.shape"
   ]
  },
  {
   "cell_type": "markdown",
   "metadata": {},
   "source": [
    "Now we are left with 88 businesses in the vicinity of our grocery store. Let's take a closer look at these."
   ]
  },
  {
   "cell_type": "markdown",
   "metadata": {},
   "source": [
    "### Analyzing local businesses"
   ]
  },
  {
   "cell_type": "code",
   "execution_count": 61,
   "metadata": {},
   "outputs": [
    {
     "data": {
      "text/plain": [
       "Real Estate and Rental and Leasing Services         22\n",
       "Accommodations                                      13\n",
       "Retail Trade                                        10\n",
       "Arts, Entertainment, and Recreation                  9\n",
       "Professional, Scientific, and Technical Services     8\n",
       "Food Services                                        8\n",
       "Certain Services                                     5\n",
       "Construction                                         4\n",
       "Multiple                                             3\n",
       "Transportation and Warehousing                       2\n",
       "Private Education and Health Services                2\n",
       "Information                                          1\n",
       "Manufacturing                                        1\n",
       "Name: NAICS Code Description, dtype: int64"
      ]
     },
     "execution_count": 61,
     "metadata": {},
     "output_type": "execute_result"
    }
   ],
   "source": [
    "business_df['NAICS Code Description'].value_counts()"
   ]
  },
  {
   "cell_type": "code",
   "execution_count": 62,
   "metadata": {},
   "outputs": [
    {
     "data": {
      "image/png": "[encoded data removed]",
      "text/plain": [
       "<matplotlib.figure.Figure at 0x1a202f69e8>"
      ]
     },
     "metadata": {},
     "output_type": "display_data"
    }
   ],
   "source": [
    "make_bar_plot(business_df['NAICS Code Description'].value_counts(),\n",
    "             business_df['NAICS Code Description'].value_counts().index,\n",
    "             'Blues_r',\n",
    "             'Business Frequency',\n",
    "             'Business Category')"
   ]
  },
  {
   "cell_type": "markdown",
   "metadata": {},
   "source": [
    "A majority of the businesses around our store are Real Estate and Rental Services, which doesn't realy affect us much. <br>\n",
    "What might affect us are the other Food Services in the vicinity."
   ]
  },
  {
   "cell_type": "code",
   "execution_count": 63,
   "metadata": {},
   "outputs": [
    {
     "data": {
      "text/html": [
       "<div>\n",
       "<style scoped>\n",
       "    .dataframe tbody tr th:only-of-type {\n",
       "        vertical-align: middle;\n",
       "    }\n",
       "\n",
       "    .dataframe tbody tr th {\n",
       "        vertical-align: top;\n",
       "    }\n",
       "\n",
       "    .dataframe thead th {\n",
       "        text-align: right;\n",
       "    }\n",
       "</style>\n",
       "<table border=\"1\" class=\"dataframe\">\n",
       "  <thead>\n",
       "    <tr style=\"text-align: right;\">\n",
       "      <th></th>\n",
       "      <th>Location Id</th>\n",
       "      <th>Business Account Number</th>\n",
       "      <th>Ownership Name</th>\n",
       "      <th>DBA Name</th>\n",
       "      <th>Street Address</th>\n",
       "      <th>City</th>\n",
       "      <th>State</th>\n",
       "      <th>Source Zipcode</th>\n",
       "      <th>Business Start Date</th>\n",
       "      <th>Business End Date</th>\n",
       "      <th>...</th>\n",
       "      <th>NAICS Code</th>\n",
       "      <th>NAICS Code Description</th>\n",
       "      <th>Parking Tax</th>\n",
       "      <th>Transient Occupancy Tax</th>\n",
       "      <th>LIC Code</th>\n",
       "      <th>LIC Code Description</th>\n",
       "      <th>Supervisor District</th>\n",
       "      <th>Neighborhoods - Analysis Boundaries</th>\n",
       "      <th>Business Corridor</th>\n",
       "      <th>Business Location</th>\n",
       "    </tr>\n",
       "  </thead>\n",
       "  <tbody>\n",
       "    <tr>\n",
       "      <th>1750</th>\n",
       "      <td>1174864-01-181</td>\n",
       "      <td>1081748</td>\n",
       "      <td>Trevor Logan</td>\n",
       "      <td>Booster Foods</td>\n",
       "      <td>601 Baker St</td>\n",
       "      <td>San Francisco</td>\n",
       "      <td>CA</td>\n",
       "      <td>94117.0</td>\n",
       "      <td>01/01/2018</td>\n",
       "      <td>NaN</td>\n",
       "      <td>...</td>\n",
       "      <td>7220-7229</td>\n",
       "      <td>Food Services</td>\n",
       "      <td>False</td>\n",
       "      <td>False</td>\n",
       "      <td>NaN</td>\n",
       "      <td>NaN</td>\n",
       "      <td>NaN</td>\n",
       "      <td>NaN</td>\n",
       "      <td>NaN</td>\n",
       "      <td>NaN</td>\n",
       "    </tr>\n",
       "    <tr>\n",
       "      <th>46570</th>\n",
       "      <td>0379582-02-001</td>\n",
       "      <td>379582</td>\n",
       "      <td>Green Chile Kitchen &amp; Mrkt Llc</td>\n",
       "      <td>Chile Pies &amp; Ice Cream</td>\n",
       "      <td>601 Baker St</td>\n",
       "      <td>San Francisco</td>\n",
       "      <td>CA</td>\n",
       "      <td>94117.0</td>\n",
       "      <td>07/29/2004</td>\n",
       "      <td>NaN</td>\n",
       "      <td>...</td>\n",
       "      <td>7220-7229</td>\n",
       "      <td>Food Services</td>\n",
       "      <td>False</td>\n",
       "      <td>False</td>\n",
       "      <td>H24</td>\n",
       "      <td>Restaurant Less Than 1,000 Sqft</td>\n",
       "      <td>5.0</td>\n",
       "      <td>Lone Mountain/USF</td>\n",
       "      <td>NaN</td>\n",
       "      <td>601 BAKER ST\\nSan Francisco, CA 94117\\n(37.776...</td>\n",
       "    </tr>\n",
       "    <tr>\n",
       "      <th>63563</th>\n",
       "      <td>0412768-01-001</td>\n",
       "      <td>412768</td>\n",
       "      <td>Seoul On Wheels Inc</td>\n",
       "      <td>Seoul On Wheels Inc</td>\n",
       "      <td>1546 Fulton St</td>\n",
       "      <td>San Francisco</td>\n",
       "      <td>CA</td>\n",
       "      <td>94117.0</td>\n",
       "      <td>01/22/2007</td>\n",
       "      <td>NaN</td>\n",
       "      <td>...</td>\n",
       "      <td>7220-7229</td>\n",
       "      <td>Food Services</td>\n",
       "      <td>False</td>\n",
       "      <td>False</td>\n",
       "      <td>NaN</td>\n",
       "      <td>NaN</td>\n",
       "      <td>5.0</td>\n",
       "      <td>Lone Mountain/USF</td>\n",
       "      <td>NaN</td>\n",
       "      <td>1546 FULTON ST\\nSan Francisco, CA 94117\\n(37.7...</td>\n",
       "    </tr>\n",
       "    <tr>\n",
       "      <th>77045</th>\n",
       "      <td>0434710-02-001</td>\n",
       "      <td>434710</td>\n",
       "      <td>Fulton Lounge Inc</td>\n",
       "      <td>Tsunami Panhandle</td>\n",
       "      <td>1302-08 Fulton St</td>\n",
       "      <td>San Francisco</td>\n",
       "      <td>CA</td>\n",
       "      <td>94117.0</td>\n",
       "      <td>05/04/2010</td>\n",
       "      <td>NaN</td>\n",
       "      <td>...</td>\n",
       "      <td>7220-7229</td>\n",
       "      <td>Food Services</td>\n",
       "      <td>False</td>\n",
       "      <td>False</td>\n",
       "      <td>H25</td>\n",
       "      <td>Restaurant 1,000 - 2,000 Sqft</td>\n",
       "      <td>5.0</td>\n",
       "      <td>Western Addition</td>\n",
       "      <td>NaN</td>\n",
       "      <td>1302 08 FULTON ST\\nSan Francisco, CA 94117\\n(3...</td>\n",
       "    </tr>\n",
       "    <tr>\n",
       "      <th>77054</th>\n",
       "      <td>0434710-05-001</td>\n",
       "      <td>434710</td>\n",
       "      <td>Fulton Lounge Inc</td>\n",
       "      <td>Corkage Sake &amp; Wine Shop</td>\n",
       "      <td>1302 Fulton St</td>\n",
       "      <td>San Francisco</td>\n",
       "      <td>CA</td>\n",
       "      <td>94117.0</td>\n",
       "      <td>05/04/2010</td>\n",
       "      <td>NaN</td>\n",
       "      <td>...</td>\n",
       "      <td>7220-7229</td>\n",
       "      <td>Food Services</td>\n",
       "      <td>False</td>\n",
       "      <td>False</td>\n",
       "      <td>NaN</td>\n",
       "      <td>NaN</td>\n",
       "      <td>5.0</td>\n",
       "      <td>Western Addition</td>\n",
       "      <td>NaN</td>\n",
       "      <td>1302 FULTON ST\\nSan Francisco, CA 94117\\n(37.7...</td>\n",
       "    </tr>\n",
       "    <tr>\n",
       "      <th>133091</th>\n",
       "      <td>0957227-01-001</td>\n",
       "      <td>957227</td>\n",
       "      <td>Tsunami Panhandle Inc</td>\n",
       "      <td>Cafe Abir</td>\n",
       "      <td>1300 Fulton St</td>\n",
       "      <td>San Francisco</td>\n",
       "      <td>CA</td>\n",
       "      <td>94117.0</td>\n",
       "      <td>12/31/2008</td>\n",
       "      <td>NaN</td>\n",
       "      <td>...</td>\n",
       "      <td>7220-7229</td>\n",
       "      <td>Food Services</td>\n",
       "      <td>False</td>\n",
       "      <td>False</td>\n",
       "      <td>NaN</td>\n",
       "      <td>NaN</td>\n",
       "      <td>5.0</td>\n",
       "      <td>Western Addition</td>\n",
       "      <td>NaN</td>\n",
       "      <td>1300 FULTON ST\\nSan Francisco, CA 94117\\n(37.7...</td>\n",
       "    </tr>\n",
       "    <tr>\n",
       "      <th>188044</th>\n",
       "      <td>1141118-03-171</td>\n",
       "      <td>957227</td>\n",
       "      <td>Tsunami Panhandle Inc</td>\n",
       "      <td>Tsunami Panhandle</td>\n",
       "      <td>1300 -1306 Fulton St</td>\n",
       "      <td>San Francisco</td>\n",
       "      <td>CA</td>\n",
       "      <td>94117.0</td>\n",
       "      <td>12/31/2008</td>\n",
       "      <td>NaN</td>\n",
       "      <td>...</td>\n",
       "      <td>7220-7229</td>\n",
       "      <td>Food Services</td>\n",
       "      <td>False</td>\n",
       "      <td>False</td>\n",
       "      <td>NaN</td>\n",
       "      <td>NaN</td>\n",
       "      <td>5.0</td>\n",
       "      <td>Western Addition</td>\n",
       "      <td>NaN</td>\n",
       "      <td>NaN</td>\n",
       "    </tr>\n",
       "    <tr>\n",
       "      <th>203420</th>\n",
       "      <td>1157032-08-171</td>\n",
       "      <td>1016399</td>\n",
       "      <td>Ju-Ni Llc</td>\n",
       "      <td>Ju-Ni</td>\n",
       "      <td>1335 Fulton St Ste 101</td>\n",
       "      <td>San Francisco</td>\n",
       "      <td>CA</td>\n",
       "      <td>94117.0</td>\n",
       "      <td>07/24/2015</td>\n",
       "      <td>NaN</td>\n",
       "      <td>...</td>\n",
       "      <td>7220-7229</td>\n",
       "      <td>Food Services</td>\n",
       "      <td>False</td>\n",
       "      <td>False</td>\n",
       "      <td>H24</td>\n",
       "      <td>Restaurant Less Than 1,000 Sqft</td>\n",
       "      <td>5.0</td>\n",
       "      <td>Hayes Valley</td>\n",
       "      <td>NaN</td>\n",
       "      <td>NaN</td>\n",
       "    </tr>\n",
       "  </tbody>\n",
       "</table>\n",
       "<p>8 rows × 26 columns</p>\n",
       "</div>"
      ],
      "text/plain": [
       "           Location Id  Business Account Number  \\\n",
       "1750    1174864-01-181                  1081748   \n",
       "46570   0379582-02-001                   379582   \n",
       "63563   0412768-01-001                   412768   \n",
       "77045   0434710-02-001                   434710   \n",
       "77054   0434710-05-001                   434710   \n",
       "133091  0957227-01-001                   957227   \n",
       "188044  1141118-03-171                   957227   \n",
       "203420  1157032-08-171                  1016399   \n",
       "\n",
       "                        Ownership Name                  DBA Name  \\\n",
       "1750                      Trevor Logan             Booster Foods   \n",
       "46570   Green Chile Kitchen & Mrkt Llc    Chile Pies & Ice Cream   \n",
       "63563              Seoul On Wheels Inc       Seoul On Wheels Inc   \n",
       "77045                Fulton Lounge Inc         Tsunami Panhandle   \n",
       "77054                Fulton Lounge Inc  Corkage Sake & Wine Shop   \n",
       "133091           Tsunami Panhandle Inc                 Cafe Abir   \n",
       "188044           Tsunami Panhandle Inc         Tsunami Panhandle   \n",
       "203420                       Ju-Ni Llc                     Ju-Ni   \n",
       "\n",
       "                Street Address           City State  Source Zipcode  \\\n",
       "1750              601 Baker St  San Francisco    CA         94117.0   \n",
       "46570             601 Baker St  San Francisco    CA         94117.0   \n",
       "63563           1546 Fulton St  San Francisco    CA         94117.0   \n",
       "77045        1302-08 Fulton St  San Francisco    CA         94117.0   \n",
       "77054           1302 Fulton St  San Francisco    CA         94117.0   \n",
       "133091          1300 Fulton St  San Francisco    CA         94117.0   \n",
       "188044    1300 -1306 Fulton St  San Francisco    CA         94117.0   \n",
       "203420  1335 Fulton St Ste 101  San Francisco    CA         94117.0   \n",
       "\n",
       "       Business Start Date Business End Date  \\\n",
       "1750            01/01/2018               NaN   \n",
       "46570           07/29/2004               NaN   \n",
       "63563           01/22/2007               NaN   \n",
       "77045           05/04/2010               NaN   \n",
       "77054           05/04/2010               NaN   \n",
       "133091          12/31/2008               NaN   \n",
       "188044          12/31/2008               NaN   \n",
       "203420          07/24/2015               NaN   \n",
       "\n",
       "                              ...                         NAICS Code  \\\n",
       "1750                          ...                          7220-7229   \n",
       "46570                         ...                          7220-7229   \n",
       "63563                         ...                          7220-7229   \n",
       "77045                         ...                          7220-7229   \n",
       "77054                         ...                          7220-7229   \n",
       "133091                        ...                          7220-7229   \n",
       "188044                        ...                          7220-7229   \n",
       "203420                        ...                          7220-7229   \n",
       "\n",
       "       NAICS Code Description Parking Tax Transient Occupancy Tax LIC Code  \\\n",
       "1750            Food Services       False                   False      NaN   \n",
       "46570           Food Services       False                   False      H24   \n",
       "63563           Food Services       False                   False      NaN   \n",
       "77045           Food Services       False                   False      H25   \n",
       "77054           Food Services       False                   False      NaN   \n",
       "133091          Food Services       False                   False      NaN   \n",
       "188044          Food Services       False                   False      NaN   \n",
       "203420          Food Services       False                   False      H24   \n",
       "\n",
       "                   LIC Code Description Supervisor District  \\\n",
       "1750                                NaN                 NaN   \n",
       "46570   Restaurant Less Than 1,000 Sqft                 5.0   \n",
       "63563                               NaN                 5.0   \n",
       "77045     Restaurant 1,000 - 2,000 Sqft                 5.0   \n",
       "77054                               NaN                 5.0   \n",
       "133091                              NaN                 5.0   \n",
       "188044                              NaN                 5.0   \n",
       "203420  Restaurant Less Than 1,000 Sqft                 5.0   \n",
       "\n",
       "       Neighborhoods - Analysis Boundaries  Business Corridor  \\\n",
       "1750                                   NaN                NaN   \n",
       "46570                    Lone Mountain/USF                NaN   \n",
       "63563                    Lone Mountain/USF                NaN   \n",
       "77045                     Western Addition                NaN   \n",
       "77054                     Western Addition                NaN   \n",
       "133091                    Western Addition                NaN   \n",
       "188044                    Western Addition                NaN   \n",
       "203420                        Hayes Valley                NaN   \n",
       "\n",
       "                                        Business Location  \n",
       "1750                                                  NaN  \n",
       "46570   601 BAKER ST\\nSan Francisco, CA 94117\\n(37.776...  \n",
       "63563   1546 FULTON ST\\nSan Francisco, CA 94117\\n(37.7...  \n",
       "77045   1302 08 FULTON ST\\nSan Francisco, CA 94117\\n(3...  \n",
       "77054   1302 FULTON ST\\nSan Francisco, CA 94117\\n(37.7...  \n",
       "133091  1300 FULTON ST\\nSan Francisco, CA 94117\\n(37.7...  \n",
       "188044                                                NaN  \n",
       "203420                                                NaN  \n",
       "\n",
       "[8 rows x 26 columns]"
      ]
     },
     "execution_count": 63,
     "metadata": {},
     "output_type": "execute_result"
    }
   ],
   "source": [
    "business_df[business_df['NAICS Code Description'] == 'Food Services']"
   ]
  },
  {
   "cell_type": "code",
   "execution_count": 64,
   "metadata": {},
   "outputs": [
    {
     "data": {
      "text/html": [
       "<div>\n",
       "<style scoped>\n",
       "    .dataframe tbody tr th:only-of-type {\n",
       "        vertical-align: middle;\n",
       "    }\n",
       "\n",
       "    .dataframe tbody tr th {\n",
       "        vertical-align: top;\n",
       "    }\n",
       "\n",
       "    .dataframe thead th {\n",
       "        text-align: right;\n",
       "    }\n",
       "</style>\n",
       "<table border=\"1\" class=\"dataframe\">\n",
       "  <thead>\n",
       "    <tr style=\"text-align: right;\">\n",
       "      <th></th>\n",
       "      <th>Location Id</th>\n",
       "      <th>Business Account Number</th>\n",
       "      <th>Ownership Name</th>\n",
       "      <th>DBA Name</th>\n",
       "      <th>Street Address</th>\n",
       "      <th>City</th>\n",
       "      <th>State</th>\n",
       "      <th>Source Zipcode</th>\n",
       "      <th>Business Start Date</th>\n",
       "      <th>Business End Date</th>\n",
       "      <th>...</th>\n",
       "      <th>NAICS Code</th>\n",
       "      <th>NAICS Code Description</th>\n",
       "      <th>Parking Tax</th>\n",
       "      <th>Transient Occupancy Tax</th>\n",
       "      <th>LIC Code</th>\n",
       "      <th>LIC Code Description</th>\n",
       "      <th>Supervisor District</th>\n",
       "      <th>Neighborhoods - Analysis Boundaries</th>\n",
       "      <th>Business Corridor</th>\n",
       "      <th>Business Location</th>\n",
       "    </tr>\n",
       "  </thead>\n",
       "  <tbody>\n",
       "    <tr>\n",
       "      <th>6050</th>\n",
       "      <td>1191355-06-181</td>\n",
       "      <td>1059030</td>\n",
       "      <td>Dy Eric David</td>\n",
       "      <td>Nopa Corner Market</td>\n",
       "      <td>1601 Fulton St</td>\n",
       "      <td>San Francisco</td>\n",
       "      <td>CA</td>\n",
       "      <td>94117.0</td>\n",
       "      <td>10/05/2016</td>\n",
       "      <td>NaN</td>\n",
       "      <td>...</td>\n",
       "      <td>4400-4599</td>\n",
       "      <td>Retail Trade</td>\n",
       "      <td>False</td>\n",
       "      <td>False</td>\n",
       "      <td>NaN</td>\n",
       "      <td>NaN</td>\n",
       "      <td>NaN</td>\n",
       "      <td>NaN</td>\n",
       "      <td>NaN</td>\n",
       "      <td>NaN</td>\n",
       "    </tr>\n",
       "    <tr>\n",
       "      <th>14955</th>\n",
       "      <td>0086356-11-001</td>\n",
       "      <td>86356</td>\n",
       "      <td>Octavend Corp</td>\n",
       "      <td>Stevens Bus Products &amp; Flags</td>\n",
       "      <td>623 Baker St</td>\n",
       "      <td>San Francisco</td>\n",
       "      <td>CA</td>\n",
       "      <td>94117.0</td>\n",
       "      <td>01/01/1975</td>\n",
       "      <td>NaN</td>\n",
       "      <td>...</td>\n",
       "      <td>4400-4599</td>\n",
       "      <td>Retail Trade</td>\n",
       "      <td>False</td>\n",
       "      <td>False</td>\n",
       "      <td>NaN</td>\n",
       "      <td>NaN</td>\n",
       "      <td>5.0</td>\n",
       "      <td>Lone Mountain/USF</td>\n",
       "      <td>NaN</td>\n",
       "      <td>623 BAKER ST\\nSan Francisco, CA 94117\\n(37.776...</td>\n",
       "    </tr>\n",
       "    <tr>\n",
       "      <th>46345</th>\n",
       "      <td>0319579-07-001</td>\n",
       "      <td>319579</td>\n",
       "      <td>Terbolizard Elizabeth A</td>\n",
       "      <td>Local Craft</td>\n",
       "      <td>1421 Fulton St</td>\n",
       "      <td>San Francisco</td>\n",
       "      <td>CA</td>\n",
       "      <td>94117.0</td>\n",
       "      <td>03/06/2007</td>\n",
       "      <td>NaN</td>\n",
       "      <td>...</td>\n",
       "      <td>4400-4599</td>\n",
       "      <td>Retail Trade</td>\n",
       "      <td>False</td>\n",
       "      <td>False</td>\n",
       "      <td>NaN</td>\n",
       "      <td>NaN</td>\n",
       "      <td>5.0</td>\n",
       "      <td>Hayes Valley</td>\n",
       "      <td>NaN</td>\n",
       "      <td>1421 FULTON ST\\nSan Francisco, CA 94117\\n(37.7...</td>\n",
       "    </tr>\n",
       "    <tr>\n",
       "      <th>134015</th>\n",
       "      <td>1002906-07-141</td>\n",
       "      <td>358088</td>\n",
       "      <td>Leon Joseph</td>\n",
       "      <td>Jl Designs</td>\n",
       "      <td>430 Baker St 3</td>\n",
       "      <td>San Francisco</td>\n",
       "      <td>CA</td>\n",
       "      <td>94117.0</td>\n",
       "      <td>08/15/2002</td>\n",
       "      <td>NaN</td>\n",
       "      <td>...</td>\n",
       "      <td>4400-4599</td>\n",
       "      <td>Retail Trade</td>\n",
       "      <td>False</td>\n",
       "      <td>False</td>\n",
       "      <td>NaN</td>\n",
       "      <td>NaN</td>\n",
       "      <td>5.0</td>\n",
       "      <td>Hayes Valley</td>\n",
       "      <td>NaN</td>\n",
       "      <td>430 BAKER ST\\nSAN FRANCISCO, CA 94117\\n(37.774...</td>\n",
       "    </tr>\n",
       "    <tr>\n",
       "      <th>148866</th>\n",
       "      <td>1029167-05-151</td>\n",
       "      <td>935760</td>\n",
       "      <td>Courrier Cliff</td>\n",
       "      <td>San Francisco Balloons</td>\n",
       "      <td>533 Baker St</td>\n",
       "      <td>San Francisco</td>\n",
       "      <td>CA</td>\n",
       "      <td>94117.0</td>\n",
       "      <td>11/03/1994</td>\n",
       "      <td>NaN</td>\n",
       "      <td>...</td>\n",
       "      <td>4400-4599</td>\n",
       "      <td>Retail Trade</td>\n",
       "      <td>False</td>\n",
       "      <td>False</td>\n",
       "      <td>NaN</td>\n",
       "      <td>NaN</td>\n",
       "      <td>5.0</td>\n",
       "      <td>Lone Mountain/USF</td>\n",
       "      <td>NaN</td>\n",
       "      <td>533 BAKER ST\\nSAN FRANCISCO, CA 94117\\n(37.775...</td>\n",
       "    </tr>\n",
       "    <tr>\n",
       "      <th>179969</th>\n",
       "      <td>1122655-10-161</td>\n",
       "      <td>1059030</td>\n",
       "      <td>Dy Eric David</td>\n",
       "      <td>Nopa Liquors &amp; Deli</td>\n",
       "      <td>1601 Fulton St</td>\n",
       "      <td>San Francisco</td>\n",
       "      <td>CA</td>\n",
       "      <td>94117.0</td>\n",
       "      <td>10/05/2016</td>\n",
       "      <td>NaN</td>\n",
       "      <td>...</td>\n",
       "      <td>4400-4599</td>\n",
       "      <td>Retail Trade</td>\n",
       "      <td>False</td>\n",
       "      <td>False</td>\n",
       "      <td>H73</td>\n",
       "      <td>Deemed Approved Off-Sale Alcohol Use</td>\n",
       "      <td>NaN</td>\n",
       "      <td>NaN</td>\n",
       "      <td>NaN</td>\n",
       "      <td>NaN</td>\n",
       "    </tr>\n",
       "    <tr>\n",
       "      <th>188449</th>\n",
       "      <td>0086356-07-001</td>\n",
       "      <td>86356</td>\n",
       "      <td>Octavend Corp</td>\n",
       "      <td>Stevens</td>\n",
       "      <td>623 Baker St</td>\n",
       "      <td>San Francisco</td>\n",
       "      <td>CA</td>\n",
       "      <td>94117.0</td>\n",
       "      <td>01/01/1975</td>\n",
       "      <td>NaN</td>\n",
       "      <td>...</td>\n",
       "      <td>4400-4599</td>\n",
       "      <td>Retail Trade</td>\n",
       "      <td>False</td>\n",
       "      <td>False</td>\n",
       "      <td>NaN</td>\n",
       "      <td>NaN</td>\n",
       "      <td>5.0</td>\n",
       "      <td>Lone Mountain/USF</td>\n",
       "      <td>NaN</td>\n",
       "      <td>623 BAKER ST\\nSan Francisco, CA 94117\\n(37.776...</td>\n",
       "    </tr>\n",
       "    <tr>\n",
       "      <th>188450</th>\n",
       "      <td>0086356-08-001</td>\n",
       "      <td>86356</td>\n",
       "      <td>Octavend Corp</td>\n",
       "      <td>The Stevens Flagship</td>\n",
       "      <td>623 Baker St</td>\n",
       "      <td>San Francisco</td>\n",
       "      <td>CA</td>\n",
       "      <td>94117.0</td>\n",
       "      <td>01/01/1975</td>\n",
       "      <td>NaN</td>\n",
       "      <td>...</td>\n",
       "      <td>4400-4599</td>\n",
       "      <td>Retail Trade</td>\n",
       "      <td>False</td>\n",
       "      <td>False</td>\n",
       "      <td>NaN</td>\n",
       "      <td>NaN</td>\n",
       "      <td>5.0</td>\n",
       "      <td>Lone Mountain/USF</td>\n",
       "      <td>NaN</td>\n",
       "      <td>623 BAKER ST\\nSan Francisco, CA 94117\\n(37.776...</td>\n",
       "    </tr>\n",
       "    <tr>\n",
       "      <th>188451</th>\n",
       "      <td>0086356-09-001</td>\n",
       "      <td>86356</td>\n",
       "      <td>Octavend Corp</td>\n",
       "      <td>Stevens International</td>\n",
       "      <td>623 Baker St</td>\n",
       "      <td>San Francisco</td>\n",
       "      <td>CA</td>\n",
       "      <td>94117.0</td>\n",
       "      <td>01/01/1975</td>\n",
       "      <td>NaN</td>\n",
       "      <td>...</td>\n",
       "      <td>4400-4599</td>\n",
       "      <td>Retail Trade</td>\n",
       "      <td>False</td>\n",
       "      <td>False</td>\n",
       "      <td>NaN</td>\n",
       "      <td>NaN</td>\n",
       "      <td>5.0</td>\n",
       "      <td>Lone Mountain/USF</td>\n",
       "      <td>NaN</td>\n",
       "      <td>623 BAKER ST\\nSan Francisco, CA 94117\\n(37.776...</td>\n",
       "    </tr>\n",
       "    <tr>\n",
       "      <th>188452</th>\n",
       "      <td>0086356-10-001</td>\n",
       "      <td>86356</td>\n",
       "      <td>Octavend Corp</td>\n",
       "      <td>The San Francisco Flag Museum</td>\n",
       "      <td>623 Baker St</td>\n",
       "      <td>San Francisco</td>\n",
       "      <td>CA</td>\n",
       "      <td>94117.0</td>\n",
       "      <td>01/01/1975</td>\n",
       "      <td>NaN</td>\n",
       "      <td>...</td>\n",
       "      <td>4400-4599</td>\n",
       "      <td>Retail Trade</td>\n",
       "      <td>False</td>\n",
       "      <td>False</td>\n",
       "      <td>NaN</td>\n",
       "      <td>NaN</td>\n",
       "      <td>5.0</td>\n",
       "      <td>Lone Mountain/USF</td>\n",
       "      <td>NaN</td>\n",
       "      <td>623 BAKER ST\\nSan Francisco, CA 94117\\n(37.776...</td>\n",
       "    </tr>\n",
       "  </tbody>\n",
       "</table>\n",
       "<p>10 rows × 26 columns</p>\n",
       "</div>"
      ],
      "text/plain": [
       "           Location Id  Business Account Number           Ownership Name  \\\n",
       "6050    1191355-06-181                  1059030            Dy Eric David   \n",
       "14955   0086356-11-001                    86356            Octavend Corp   \n",
       "46345   0319579-07-001                   319579  Terbolizard Elizabeth A   \n",
       "134015  1002906-07-141                   358088              Leon Joseph   \n",
       "148866  1029167-05-151                   935760           Courrier Cliff   \n",
       "179969  1122655-10-161                  1059030            Dy Eric David   \n",
       "188449  0086356-07-001                    86356            Octavend Corp   \n",
       "188450  0086356-08-001                    86356            Octavend Corp   \n",
       "188451  0086356-09-001                    86356            Octavend Corp   \n",
       "188452  0086356-10-001                    86356            Octavend Corp   \n",
       "\n",
       "                             DBA Name  Street Address           City State  \\\n",
       "6050               Nopa Corner Market  1601 Fulton St  San Francisco    CA   \n",
       "14955    Stevens Bus Products & Flags    623 Baker St  San Francisco    CA   \n",
       "46345                     Local Craft  1421 Fulton St  San Francisco    CA   \n",
       "134015                     Jl Designs  430 Baker St 3  San Francisco    CA   \n",
       "148866         San Francisco Balloons    533 Baker St  San Francisco    CA   \n",
       "179969            Nopa Liquors & Deli  1601 Fulton St  San Francisco    CA   \n",
       "188449                        Stevens    623 Baker St  San Francisco    CA   \n",
       "188450           The Stevens Flagship    623 Baker St  San Francisco    CA   \n",
       "188451          Stevens International    623 Baker St  San Francisco    CA   \n",
       "188452  The San Francisco Flag Museum    623 Baker St  San Francisco    CA   \n",
       "\n",
       "        Source Zipcode Business Start Date Business End Date  \\\n",
       "6050           94117.0          10/05/2016               NaN   \n",
       "14955          94117.0          01/01/1975               NaN   \n",
       "46345          94117.0          03/06/2007               NaN   \n",
       "134015         94117.0          08/15/2002               NaN   \n",
       "148866         94117.0          11/03/1994               NaN   \n",
       "179969         94117.0          10/05/2016               NaN   \n",
       "188449         94117.0          01/01/1975               NaN   \n",
       "188450         94117.0          01/01/1975               NaN   \n",
       "188451         94117.0          01/01/1975               NaN   \n",
       "188452         94117.0          01/01/1975               NaN   \n",
       "\n",
       "                              ...                         NAICS Code  \\\n",
       "6050                          ...                          4400-4599   \n",
       "14955                         ...                          4400-4599   \n",
       "46345                         ...                          4400-4599   \n",
       "134015                        ...                          4400-4599   \n",
       "148866                        ...                          4400-4599   \n",
       "179969                        ...                          4400-4599   \n",
       "188449                        ...                          4400-4599   \n",
       "188450                        ...                          4400-4599   \n",
       "188451                        ...                          4400-4599   \n",
       "188452                        ...                          4400-4599   \n",
       "\n",
       "       NAICS Code Description Parking Tax Transient Occupancy Tax LIC Code  \\\n",
       "6050             Retail Trade       False                   False      NaN   \n",
       "14955            Retail Trade       False                   False      NaN   \n",
       "46345            Retail Trade       False                   False      NaN   \n",
       "134015           Retail Trade       False                   False      NaN   \n",
       "148866           Retail Trade       False                   False      NaN   \n",
       "179969           Retail Trade       False                   False      H73   \n",
       "188449           Retail Trade       False                   False      NaN   \n",
       "188450           Retail Trade       False                   False      NaN   \n",
       "188451           Retail Trade       False                   False      NaN   \n",
       "188452           Retail Trade       False                   False      NaN   \n",
       "\n",
       "                        LIC Code Description Supervisor District  \\\n",
       "6050                                     NaN                 NaN   \n",
       "14955                                    NaN                 5.0   \n",
       "46345                                    NaN                 5.0   \n",
       "134015                                   NaN                 5.0   \n",
       "148866                                   NaN                 5.0   \n",
       "179969  Deemed Approved Off-Sale Alcohol Use                 NaN   \n",
       "188449                                   NaN                 5.0   \n",
       "188450                                   NaN                 5.0   \n",
       "188451                                   NaN                 5.0   \n",
       "188452                                   NaN                 5.0   \n",
       "\n",
       "       Neighborhoods - Analysis Boundaries  Business Corridor  \\\n",
       "6050                                   NaN                NaN   \n",
       "14955                    Lone Mountain/USF                NaN   \n",
       "46345                         Hayes Valley                NaN   \n",
       "134015                        Hayes Valley                NaN   \n",
       "148866                   Lone Mountain/USF                NaN   \n",
       "179969                                 NaN                NaN   \n",
       "188449                   Lone Mountain/USF                NaN   \n",
       "188450                   Lone Mountain/USF                NaN   \n",
       "188451                   Lone Mountain/USF                NaN   \n",
       "188452                   Lone Mountain/USF                NaN   \n",
       "\n",
       "                                        Business Location  \n",
       "6050                                                  NaN  \n",
       "14955   623 BAKER ST\\nSan Francisco, CA 94117\\n(37.776...  \n",
       "46345   1421 FULTON ST\\nSan Francisco, CA 94117\\n(37.7...  \n",
       "134015  430 BAKER ST\\nSAN FRANCISCO, CA 94117\\n(37.774...  \n",
       "148866  533 BAKER ST\\nSAN FRANCISCO, CA 94117\\n(37.775...  \n",
       "179969                                                NaN  \n",
       "188449  623 BAKER ST\\nSan Francisco, CA 94117\\n(37.776...  \n",
       "188450  623 BAKER ST\\nSan Francisco, CA 94117\\n(37.776...  \n",
       "188451  623 BAKER ST\\nSan Francisco, CA 94117\\n(37.776...  \n",
       "188452  623 BAKER ST\\nSan Francisco, CA 94117\\n(37.776...  \n",
       "\n",
       "[10 rows x 26 columns]"
      ]
     },
     "execution_count": 64,
     "metadata": {},
     "output_type": "execute_result"
    }
   ],
   "source": [
    "business_df[business_df['NAICS Code Description'] == 'Retail Trade']"
   ]
  },
  {
   "cell_type": "markdown",
   "metadata": {},
   "source": [
    "Upon Inspecting the above two dataframes we can make the following observations:\n",
    ">* All the Food Services are restaurants and would increase the foot traffic around ASIV, and increase it's  popularity\n",
    ">* In the Retail trade businesses, we can identify a corner store and a Deli, which aren't direct competitors. In fact if these traders receive a significant amount of customers, in certain cases our grocery store can catch the overflow from these traders in turn <b>boosting our brand awareness</b>"
   ]
  },
  {
   "cell_type": "markdown",
   "metadata": {
    "collapsed": true
   },
   "source": [
    "## Local Population Demographics"
   ]
  },
  {
   "cell_type": "markdown",
   "metadata": {},
   "source": [
    "Next we will try to estimate the ethinic composition in the vicinity of our store, in order to better understand our customer base, before we open up our store."
   ]
  },
  {
   "cell_type": "code",
   "execution_count": 65,
   "metadata": {
    "collapsed": true
   },
   "outputs": [],
   "source": [
    "eth_df = pd.read_csv('data/sf_tract_ethnicity.csv')"
   ]
  },
  {
   "cell_type": "code",
   "execution_count": 66,
   "metadata": {},
   "outputs": [
    {
     "data": {
      "text/html": [
       "<div>\n",
       "<style scoped>\n",
       "    .dataframe tbody tr th:only-of-type {\n",
       "        vertical-align: middle;\n",
       "    }\n",
       "\n",
       "    .dataframe tbody tr th {\n",
       "        vertical-align: top;\n",
       "    }\n",
       "\n",
       "    .dataframe thead th {\n",
       "        text-align: right;\n",
       "    }\n",
       "</style>\n",
       "<table border=\"1\" class=\"dataframe\">\n",
       "  <thead>\n",
       "    <tr style=\"text-align: right;\">\n",
       "      <th></th>\n",
       "      <th>Unnamed: 0</th>\n",
       "      <th>Total population</th>\n",
       "      <th>Hispanic or Latino</th>\n",
       "      <th>Total population, not Hispanic or Latino</th>\n",
       "      <th>One race total</th>\n",
       "      <th>White</th>\n",
       "      <th>Black or African American</th>\n",
       "      <th>American Indian and Alaska Native</th>\n",
       "      <th>Asian</th>\n",
       "      <th>Native Hawaiian and Other Pacific Islander</th>\n",
       "      <th>Some Other Race</th>\n",
       "      <th>Two or More Races</th>\n",
       "    </tr>\n",
       "  </thead>\n",
       "  <tbody>\n",
       "    <tr>\n",
       "      <th>0</th>\n",
       "      <td>Census Tract 101, San Francisco County, Califo...</td>\n",
       "      <td>3739</td>\n",
       "      <td>286</td>\n",
       "      <td>3453</td>\n",
       "      <td>3601</td>\n",
       "      <td>1858</td>\n",
       "      <td>256</td>\n",
       "      <td>7</td>\n",
       "      <td>1345</td>\n",
       "      <td>23</td>\n",
       "      <td>112</td>\n",
       "      <td>138</td>\n",
       "    </tr>\n",
       "    <tr>\n",
       "      <th>1</th>\n",
       "      <td>Census Tract 102, San Francisco County, Califo...</td>\n",
       "      <td>4143</td>\n",
       "      <td>211</td>\n",
       "      <td>3932</td>\n",
       "      <td>4005</td>\n",
       "      <td>3518</td>\n",
       "      <td>28</td>\n",
       "      <td>6</td>\n",
       "      <td>419</td>\n",
       "      <td>6</td>\n",
       "      <td>28</td>\n",
       "      <td>138</td>\n",
       "    </tr>\n",
       "    <tr>\n",
       "      <th>2</th>\n",
       "      <td>Census Tract 103, San Francisco County, Califo...</td>\n",
       "      <td>3852</td>\n",
       "      <td>198</td>\n",
       "      <td>3654</td>\n",
       "      <td>3739</td>\n",
       "      <td>2460</td>\n",
       "      <td>36</td>\n",
       "      <td>5</td>\n",
       "      <td>1176</td>\n",
       "      <td>4</td>\n",
       "      <td>58</td>\n",
       "      <td>113</td>\n",
       "    </tr>\n",
       "    <tr>\n",
       "      <th>3</th>\n",
       "      <td>Census Tract 104, San Francisco County, Califo...</td>\n",
       "      <td>4545</td>\n",
       "      <td>239</td>\n",
       "      <td>4306</td>\n",
       "      <td>4396</td>\n",
       "      <td>3014</td>\n",
       "      <td>46</td>\n",
       "      <td>4</td>\n",
       "      <td>1270</td>\n",
       "      <td>7</td>\n",
       "      <td>55</td>\n",
       "      <td>149</td>\n",
       "    </tr>\n",
       "    <tr>\n",
       "      <th>4</th>\n",
       "      <td>Census Tract 105, San Francisco County, Califo...</td>\n",
       "      <td>2685</td>\n",
       "      <td>155</td>\n",
       "      <td>2530</td>\n",
       "      <td>2625</td>\n",
       "      <td>1756</td>\n",
       "      <td>46</td>\n",
       "      <td>3</td>\n",
       "      <td>778</td>\n",
       "      <td>2</td>\n",
       "      <td>40</td>\n",
       "      <td>60</td>\n",
       "    </tr>\n",
       "  </tbody>\n",
       "</table>\n",
       "</div>"
      ],
      "text/plain": [
       "                                          Unnamed: 0  Total population  \\\n",
       "0  Census Tract 101, San Francisco County, Califo...              3739   \n",
       "1  Census Tract 102, San Francisco County, Califo...              4143   \n",
       "2  Census Tract 103, San Francisco County, Califo...              3852   \n",
       "3  Census Tract 104, San Francisco County, Califo...              4545   \n",
       "4  Census Tract 105, San Francisco County, Califo...              2685   \n",
       "\n",
       "   Hispanic or Latino  Total population, not Hispanic or Latino  \\\n",
       "0                 286                                      3453   \n",
       "1                 211                                      3932   \n",
       "2                 198                                      3654   \n",
       "3                 239                                      4306   \n",
       "4                 155                                      2530   \n",
       "\n",
       "   One race total  White  Black or African American  \\\n",
       "0            3601   1858                        256   \n",
       "1            4005   3518                         28   \n",
       "2            3739   2460                         36   \n",
       "3            4396   3014                         46   \n",
       "4            2625   1756                         46   \n",
       "\n",
       "   American Indian and Alaska Native  Asian  \\\n",
       "0                                  7   1345   \n",
       "1                                  6    419   \n",
       "2                                  5   1176   \n",
       "3                                  4   1270   \n",
       "4                                  3    778   \n",
       "\n",
       "   Native Hawaiian and Other Pacific Islander  Some Other Race  \\\n",
       "0                                          23              112   \n",
       "1                                           6               28   \n",
       "2                                           4               58   \n",
       "3                                           7               55   \n",
       "4                                           2               40   \n",
       "\n",
       "   Two or More Races  \n",
       "0                138  \n",
       "1                138  \n",
       "2                113  \n",
       "3                149  \n",
       "4                 60  "
      ]
     },
     "execution_count": 66,
     "metadata": {},
     "output_type": "execute_result"
    }
   ],
   "source": [
    "eth_df.head()"
   ]
  },
  {
   "cell_type": "code",
   "execution_count": 67,
   "metadata": {},
   "outputs": [
    {
     "data": {
      "text/plain": [
       "(197, 12)"
      ]
     },
     "execution_count": 67,
     "metadata": {},
     "output_type": "execute_result"
    }
   ],
   "source": [
    "eth_df.shape"
   ]
  },
  {
   "cell_type": "markdown",
   "metadata": {},
   "source": [
    "We can observe that the dataframe contains information about various tracts in the San Francisco county. <br> Let's begin by looking at the tracts in out store's vicinity, which as found before are: \n",
    "> Tracts 164, 165, 157, 158.02, 158.01"
   ]
  },
  {
   "cell_type": "code",
   "execution_count": 68,
   "metadata": {
    "collapsed": true
   },
   "outputs": [],
   "source": [
    "new_columns = eth_df.columns.values    #Renaming the Tract column\n",
    "new_columns[0] = 'Tract_info'\n",
    "eth_df.columns = new_columns"
   ]
  },
  {
   "cell_type": "code",
   "execution_count": 69,
   "metadata": {},
   "outputs": [
    {
     "data": {
      "text/html": [
       "<div>\n",
       "<style scoped>\n",
       "    .dataframe tbody tr th:only-of-type {\n",
       "        vertical-align: middle;\n",
       "    }\n",
       "\n",
       "    .dataframe tbody tr th {\n",
       "        vertical-align: top;\n",
       "    }\n",
       "\n",
       "    .dataframe thead th {\n",
       "        text-align: right;\n",
       "    }\n",
       "</style>\n",
       "<table border=\"1\" class=\"dataframe\">\n",
       "  <thead>\n",
       "    <tr style=\"text-align: right;\">\n",
       "      <th></th>\n",
       "      <th>Tract_info</th>\n",
       "      <th>Total population</th>\n",
       "      <th>Hispanic or Latino</th>\n",
       "      <th>Total population, not Hispanic or Latino</th>\n",
       "      <th>One race total</th>\n",
       "      <th>White</th>\n",
       "      <th>Black or African American</th>\n",
       "      <th>American Indian and Alaska Native</th>\n",
       "      <th>Asian</th>\n",
       "      <th>Native Hawaiian and Other Pacific Islander</th>\n",
       "      <th>Some Other Race</th>\n",
       "      <th>Two or More Races</th>\n",
       "    </tr>\n",
       "  </thead>\n",
       "  <tbody>\n",
       "    <tr>\n",
       "      <th>46</th>\n",
       "      <td>Census Tract 157, San Francisco County, Califo...</td>\n",
       "      <td>7832</td>\n",
       "      <td>821</td>\n",
       "      <td>7011</td>\n",
       "      <td>7353</td>\n",
       "      <td>4609</td>\n",
       "      <td>398</td>\n",
       "      <td>21</td>\n",
       "      <td>2062</td>\n",
       "      <td>21</td>\n",
       "      <td>242</td>\n",
       "      <td>479</td>\n",
       "    </tr>\n",
       "    <tr>\n",
       "      <th>47</th>\n",
       "      <td>Census Tract 158.01, San Francisco County, Cal...</td>\n",
       "      <td>3594</td>\n",
       "      <td>399</td>\n",
       "      <td>3195</td>\n",
       "      <td>3408</td>\n",
       "      <td>1537</td>\n",
       "      <td>1033</td>\n",
       "      <td>14</td>\n",
       "      <td>654</td>\n",
       "      <td>10</td>\n",
       "      <td>160</td>\n",
       "      <td>186</td>\n",
       "    </tr>\n",
       "    <tr>\n",
       "      <th>48</th>\n",
       "      <td>Census Tract 158.02, San Francisco County, Cal...</td>\n",
       "      <td>2965</td>\n",
       "      <td>301</td>\n",
       "      <td>2664</td>\n",
       "      <td>2803</td>\n",
       "      <td>2077</td>\n",
       "      <td>354</td>\n",
       "      <td>10</td>\n",
       "      <td>255</td>\n",
       "      <td>10</td>\n",
       "      <td>97</td>\n",
       "      <td>162</td>\n",
       "    </tr>\n",
       "    <tr>\n",
       "      <th>54</th>\n",
       "      <td>Census Tract 164, San Francisco County, Califo...</td>\n",
       "      <td>3778</td>\n",
       "      <td>480</td>\n",
       "      <td>3298</td>\n",
       "      <td>3555</td>\n",
       "      <td>2565</td>\n",
       "      <td>370</td>\n",
       "      <td>19</td>\n",
       "      <td>373</td>\n",
       "      <td>8</td>\n",
       "      <td>220</td>\n",
       "      <td>223</td>\n",
       "    </tr>\n",
       "    <tr>\n",
       "      <th>55</th>\n",
       "      <td>Census Tract 165, San Francisco County, Califo...</td>\n",
       "      <td>5083</td>\n",
       "      <td>462</td>\n",
       "      <td>4621</td>\n",
       "      <td>4797</td>\n",
       "      <td>3632</td>\n",
       "      <td>359</td>\n",
       "      <td>21</td>\n",
       "      <td>637</td>\n",
       "      <td>4</td>\n",
       "      <td>144</td>\n",
       "      <td>286</td>\n",
       "    </tr>\n",
       "  </tbody>\n",
       "</table>\n",
       "</div>"
      ],
      "text/plain": [
       "                                           Tract_info  Total population  \\\n",
       "46  Census Tract 157, San Francisco County, Califo...              7832   \n",
       "47  Census Tract 158.01, San Francisco County, Cal...              3594   \n",
       "48  Census Tract 158.02, San Francisco County, Cal...              2965   \n",
       "54  Census Tract 164, San Francisco County, Califo...              3778   \n",
       "55  Census Tract 165, San Francisco County, Califo...              5083   \n",
       "\n",
       "    Hispanic or Latino  Total population, not Hispanic or Latino  \\\n",
       "46                 821                                      7011   \n",
       "47                 399                                      3195   \n",
       "48                 301                                      2664   \n",
       "54                 480                                      3298   \n",
       "55                 462                                      4621   \n",
       "\n",
       "    One race total  White  Black or African American  \\\n",
       "46            7353   4609                        398   \n",
       "47            3408   1537                       1033   \n",
       "48            2803   2077                        354   \n",
       "54            3555   2565                        370   \n",
       "55            4797   3632                        359   \n",
       "\n",
       "    American Indian and Alaska Native  Asian  \\\n",
       "46                                 21   2062   \n",
       "47                                 14    654   \n",
       "48                                 10    255   \n",
       "54                                 19    373   \n",
       "55                                 21    637   \n",
       "\n",
       "    Native Hawaiian and Other Pacific Islander  Some Other Race  \\\n",
       "46                                          21              242   \n",
       "47                                          10              160   \n",
       "48                                          10               97   \n",
       "54                                           8              220   \n",
       "55                                           4              144   \n",
       "\n",
       "    Two or More Races  \n",
       "46                479  \n",
       "47                186  \n",
       "48                162  \n",
       "54                223  \n",
       "55                286  "
      ]
     },
     "execution_count": 69,
     "metadata": {},
     "output_type": "execute_result"
    }
   ],
   "source": [
    "local_eth_df = eth_df[eth_df['Tract_info'].str.contains('164|165|157|158.02|158.01')]\n",
    "local_eth_df"
   ]
  },
  {
   "cell_type": "code",
   "execution_count": 70,
   "metadata": {
    "scrolled": true
   },
   "outputs": [
    {
     "data": {
      "text/html": [
       "<div>\n",
       "<style scoped>\n",
       "    .dataframe tbody tr th:only-of-type {\n",
       "        vertical-align: middle;\n",
       "    }\n",
       "\n",
       "    .dataframe tbody tr th {\n",
       "        vertical-align: top;\n",
       "    }\n",
       "\n",
       "    .dataframe thead th {\n",
       "        text-align: right;\n",
       "    }\n",
       "</style>\n",
       "<table border=\"1\" class=\"dataframe\">\n",
       "  <thead>\n",
       "    <tr style=\"text-align: right;\">\n",
       "      <th></th>\n",
       "      <th>Tract_info</th>\n",
       "      <th>White</th>\n",
       "      <th>Black or African American</th>\n",
       "      <th>American Indian and Alaska Native</th>\n",
       "      <th>Asian</th>\n",
       "      <th>Native Hawaiian and Other Pacific Islander</th>\n",
       "      <th>Some Other Race</th>\n",
       "      <th>Two or More Races</th>\n",
       "    </tr>\n",
       "  </thead>\n",
       "  <tbody>\n",
       "    <tr>\n",
       "      <th>46</th>\n",
       "      <td>Census Tract 157, San Francisco County, Califo...</td>\n",
       "      <td>4609</td>\n",
       "      <td>398</td>\n",
       "      <td>21</td>\n",
       "      <td>2062</td>\n",
       "      <td>21</td>\n",
       "      <td>242</td>\n",
       "      <td>479</td>\n",
       "    </tr>\n",
       "    <tr>\n",
       "      <th>47</th>\n",
       "      <td>Census Tract 158.01, San Francisco County, Cal...</td>\n",
       "      <td>1537</td>\n",
       "      <td>1033</td>\n",
       "      <td>14</td>\n",
       "      <td>654</td>\n",
       "      <td>10</td>\n",
       "      <td>160</td>\n",
       "      <td>186</td>\n",
       "    </tr>\n",
       "    <tr>\n",
       "      <th>48</th>\n",
       "      <td>Census Tract 158.02, San Francisco County, Cal...</td>\n",
       "      <td>2077</td>\n",
       "      <td>354</td>\n",
       "      <td>10</td>\n",
       "      <td>255</td>\n",
       "      <td>10</td>\n",
       "      <td>97</td>\n",
       "      <td>162</td>\n",
       "    </tr>\n",
       "    <tr>\n",
       "      <th>54</th>\n",
       "      <td>Census Tract 164, San Francisco County, Califo...</td>\n",
       "      <td>2565</td>\n",
       "      <td>370</td>\n",
       "      <td>19</td>\n",
       "      <td>373</td>\n",
       "      <td>8</td>\n",
       "      <td>220</td>\n",
       "      <td>223</td>\n",
       "    </tr>\n",
       "    <tr>\n",
       "      <th>55</th>\n",
       "      <td>Census Tract 165, San Francisco County, Califo...</td>\n",
       "      <td>3632</td>\n",
       "      <td>359</td>\n",
       "      <td>21</td>\n",
       "      <td>637</td>\n",
       "      <td>4</td>\n",
       "      <td>144</td>\n",
       "      <td>286</td>\n",
       "    </tr>\n",
       "  </tbody>\n",
       "</table>\n",
       "</div>"
      ],
      "text/plain": [
       "                                           Tract_info  White  \\\n",
       "46  Census Tract 157, San Francisco County, Califo...   4609   \n",
       "47  Census Tract 158.01, San Francisco County, Cal...   1537   \n",
       "48  Census Tract 158.02, San Francisco County, Cal...   2077   \n",
       "54  Census Tract 164, San Francisco County, Califo...   2565   \n",
       "55  Census Tract 165, San Francisco County, Califo...   3632   \n",
       "\n",
       "    Black or African American  American Indian and Alaska Native  Asian  \\\n",
       "46                        398                                 21   2062   \n",
       "47                       1033                                 14    654   \n",
       "48                        354                                 10    255   \n",
       "54                        370                                 19    373   \n",
       "55                        359                                 21    637   \n",
       "\n",
       "    Native Hawaiian and Other Pacific Islander  Some Other Race  \\\n",
       "46                                          21              242   \n",
       "47                                          10              160   \n",
       "48                                          10               97   \n",
       "54                                           8              220   \n",
       "55                                           4              144   \n",
       "\n",
       "    Two or More Races  \n",
       "46                479  \n",
       "47                186  \n",
       "48                162  \n",
       "54                223  \n",
       "55                286  "
      ]
     },
     "execution_count": 70,
     "metadata": {},
     "output_type": "execute_result"
    }
   ],
   "source": [
    "local_eth_df = local_eth_df.iloc[:,[0,5,6,7,8,9,10,11]]\n",
    "local_eth_df"
   ]
  },
  {
   "cell_type": "code",
   "execution_count": 71,
   "metadata": {
    "scrolled": false
   },
   "outputs": [
    {
     "data": {
      "text/plain": [
       "<matplotlib.text.Text at 0x1a13a59940>"
      ]
     },
     "execution_count": 71,
     "metadata": {},
     "output_type": "execute_result"
    },
    {
     "data": {
      "image/png": "[encoded data removed]",
      "text/plain": [
       "<matplotlib.figure.Figure at 0x1a205c6390>"
      ]
     },
     "metadata": {},
     "output_type": "display_data"
    }
   ],
   "source": [
    "fig, axs = plt.subplots()\n",
    "local_eth_df.plot.barh(stacked = True, figsize = (10,10),ax = axs)\n",
    "axs.set_yticklabels(local_eth_df.Tract_info)\n",
    "axs.set_xlabel('Population Count')\n",
    "axs.set_ylabel('Tract')"
   ]
  },
  {
   "cell_type": "markdown",
   "metadata": {},
   "source": [
    ">It can be seen that the majority of the local population is White followed by Asians and African Americans. We can use this information while setting up our store and for marketing purposes."
   ]
  },
  {
   "cell_type": "markdown",
   "metadata": {},
   "source": [
    "## Analyzing Rent in the city of San Francisco"
   ]
  },
  {
   "cell_type": "markdown",
   "metadata": {},
   "source": [
    "The data was obtained from Zillow and gives the Median rental price per Square Feet for Multi Family 5+ units.<br>\n",
    "Rental data for commercial places was not available, so I decided to use the per Square Feet rent for larger untis to get a fair estimate of the rent we will have to pay for our grocery store.<br>\n",
    "According to sfplanning.org the size of our store if located at 601 Baker Street, would be 1,047 sq ft. We can use this value to make our rent predictions."
   ]
  },
  {
   "cell_type": "code",
   "execution_count": 362,
   "metadata": {
    "collapsed": true
   },
   "outputs": [],
   "source": [
    "plot_size = 1047"
   ]
  },
  {
   "cell_type": "code",
   "execution_count": 72,
   "metadata": {
    "collapsed": true
   },
   "outputs": [],
   "source": [
    "rent_df = pd.read_csv('data/Zip_MedianRentalPricePerSqft_Mfr5Plus.csv')"
   ]
  },
  {
   "cell_type": "code",
   "execution_count": 73,
   "metadata": {},
   "outputs": [
    {
     "data": {
      "text/html": [
       "<div>\n",
       "<style scoped>\n",
       "    .dataframe tbody tr th:only-of-type {\n",
       "        vertical-align: middle;\n",
       "    }\n",
       "\n",
       "    .dataframe tbody tr th {\n",
       "        vertical-align: top;\n",
       "    }\n",
       "\n",
       "    .dataframe thead th {\n",
       "        text-align: right;\n",
       "    }\n",
       "</style>\n",
       "<table border=\"1\" class=\"dataframe\">\n",
       "  <thead>\n",
       "    <tr style=\"text-align: right;\">\n",
       "      <th></th>\n",
       "      <th>RegionName</th>\n",
       "      <th>City</th>\n",
       "      <th>State</th>\n",
       "      <th>Metro</th>\n",
       "      <th>CountyName</th>\n",
       "      <th>SizeRank</th>\n",
       "      <th>2010-02</th>\n",
       "      <th>2010-03</th>\n",
       "      <th>2010-04</th>\n",
       "      <th>2010-05</th>\n",
       "      <th>...</th>\n",
       "      <th>2017-07</th>\n",
       "      <th>2017-08</th>\n",
       "      <th>2017-09</th>\n",
       "      <th>2017-10</th>\n",
       "      <th>2017-11</th>\n",
       "      <th>2017-12</th>\n",
       "      <th>2018-01</th>\n",
       "      <th>2018-02</th>\n",
       "      <th>2018-03</th>\n",
       "      <th>2018-04</th>\n",
       "    </tr>\n",
       "  </thead>\n",
       "  <tbody>\n",
       "    <tr>\n",
       "      <th>0</th>\n",
       "      <td>99705</td>\n",
       "      <td>North Pole</td>\n",
       "      <td>AK</td>\n",
       "      <td>Fairbanks</td>\n",
       "      <td>Fairbanks North Star</td>\n",
       "      <td>2176</td>\n",
       "      <td>NaN</td>\n",
       "      <td>NaN</td>\n",
       "      <td>NaN</td>\n",
       "      <td>NaN</td>\n",
       "      <td>...</td>\n",
       "      <td>1.238095</td>\n",
       "      <td>1.250000</td>\n",
       "      <td>1.300000</td>\n",
       "      <td>1.333333</td>\n",
       "      <td>1.258208</td>\n",
       "      <td>1.158967</td>\n",
       "      <td>1.133333</td>\n",
       "      <td>1.219048</td>\n",
       "      <td>1.277778</td>\n",
       "      <td>1.285948</td>\n",
       "    </tr>\n",
       "    <tr>\n",
       "      <th>1</th>\n",
       "      <td>99701</td>\n",
       "      <td>Fairbanks</td>\n",
       "      <td>AK</td>\n",
       "      <td>Fairbanks</td>\n",
       "      <td>Fairbanks North Star</td>\n",
       "      <td>2246</td>\n",
       "      <td>NaN</td>\n",
       "      <td>NaN</td>\n",
       "      <td>NaN</td>\n",
       "      <td>NaN</td>\n",
       "      <td>...</td>\n",
       "      <td>1.299837</td>\n",
       "      <td>1.285357</td>\n",
       "      <td>1.205034</td>\n",
       "      <td>1.200000</td>\n",
       "      <td>1.221875</td>\n",
       "      <td>1.246875</td>\n",
       "      <td>1.230769</td>\n",
       "      <td>1.271552</td>\n",
       "      <td>1.238095</td>\n",
       "      <td>1.317708</td>\n",
       "    </tr>\n",
       "    <tr>\n",
       "      <th>2</th>\n",
       "      <td>99654</td>\n",
       "      <td>Tanaina</td>\n",
       "      <td>AK</td>\n",
       "      <td>Anchorage</td>\n",
       "      <td>Matanuska Susitna</td>\n",
       "      <td>1811</td>\n",
       "      <td>NaN</td>\n",
       "      <td>NaN</td>\n",
       "      <td>NaN</td>\n",
       "      <td>NaN</td>\n",
       "      <td>...</td>\n",
       "      <td>1.086957</td>\n",
       "      <td>1.038075</td>\n",
       "      <td>1.000000</td>\n",
       "      <td>1.042010</td>\n",
       "      <td>1.086957</td>\n",
       "      <td>1.073564</td>\n",
       "      <td>1.087336</td>\n",
       "      <td>1.055633</td>\n",
       "      <td>1.035714</td>\n",
       "      <td>1.041667</td>\n",
       "    </tr>\n",
       "    <tr>\n",
       "      <th>3</th>\n",
       "      <td>99623</td>\n",
       "      <td>Knik-Fairview</td>\n",
       "      <td>AK</td>\n",
       "      <td>Anchorage</td>\n",
       "      <td>Matanuska Susitna</td>\n",
       "      <td>2421</td>\n",
       "      <td>NaN</td>\n",
       "      <td>NaN</td>\n",
       "      <td>NaN</td>\n",
       "      <td>NaN</td>\n",
       "      <td>...</td>\n",
       "      <td>1.020842</td>\n",
       "      <td>0.978836</td>\n",
       "      <td>1.000000</td>\n",
       "      <td>0.955807</td>\n",
       "      <td>1.009986</td>\n",
       "      <td>1.010479</td>\n",
       "      <td>1.012951</td>\n",
       "      <td>1.004570</td>\n",
       "      <td>1.026316</td>\n",
       "      <td>1.009139</td>\n",
       "    </tr>\n",
       "    <tr>\n",
       "      <th>4</th>\n",
       "      <td>99577</td>\n",
       "      <td>Anchorage</td>\n",
       "      <td>AK</td>\n",
       "      <td>Anchorage</td>\n",
       "      <td>Anchorage</td>\n",
       "      <td>1939</td>\n",
       "      <td>NaN</td>\n",
       "      <td>NaN</td>\n",
       "      <td>NaN</td>\n",
       "      <td>NaN</td>\n",
       "      <td>...</td>\n",
       "      <td>1.158592</td>\n",
       "      <td>1.153937</td>\n",
       "      <td>1.145833</td>\n",
       "      <td>1.148148</td>\n",
       "      <td>1.133242</td>\n",
       "      <td>1.147059</td>\n",
       "      <td>1.105556</td>\n",
       "      <td>1.128419</td>\n",
       "      <td>1.211538</td>\n",
       "      <td>1.165827</td>\n",
       "    </tr>\n",
       "  </tbody>\n",
       "</table>\n",
       "<p>5 rows × 105 columns</p>\n",
       "</div>"
      ],
      "text/plain": [
       "   RegionName           City State      Metro            CountyName  SizeRank  \\\n",
       "0       99705     North Pole    AK  Fairbanks  Fairbanks North Star      2176   \n",
       "1       99701      Fairbanks    AK  Fairbanks  Fairbanks North Star      2246   \n",
       "2       99654        Tanaina    AK  Anchorage     Matanuska Susitna      1811   \n",
       "3       99623  Knik-Fairview    AK  Anchorage     Matanuska Susitna      2421   \n",
       "4       99577      Anchorage    AK  Anchorage             Anchorage      1939   \n",
       "\n",
       "   2010-02  2010-03  2010-04  2010-05    ...      2017-07   2017-08   2017-09  \\\n",
       "0      NaN      NaN      NaN      NaN    ...     1.238095  1.250000  1.300000   \n",
       "1      NaN      NaN      NaN      NaN    ...     1.299837  1.285357  1.205034   \n",
       "2      NaN      NaN      NaN      NaN    ...     1.086957  1.038075  1.000000   \n",
       "3      NaN      NaN      NaN      NaN    ...     1.020842  0.978836  1.000000   \n",
       "4      NaN      NaN      NaN      NaN    ...     1.158592  1.153937  1.145833   \n",
       "\n",
       "    2017-10   2017-11   2017-12   2018-01   2018-02   2018-03   2018-04  \n",
       "0  1.333333  1.258208  1.158967  1.133333  1.219048  1.277778  1.285948  \n",
       "1  1.200000  1.221875  1.246875  1.230769  1.271552  1.238095  1.317708  \n",
       "2  1.042010  1.086957  1.073564  1.087336  1.055633  1.035714  1.041667  \n",
       "3  0.955807  1.009986  1.010479  1.012951  1.004570  1.026316  1.009139  \n",
       "4  1.148148  1.133242  1.147059  1.105556  1.128419  1.211538  1.165827  \n",
       "\n",
       "[5 rows x 105 columns]"
      ]
     },
     "execution_count": 73,
     "metadata": {},
     "output_type": "execute_result"
    }
   ],
   "source": [
    "rent_df.head()"
   ]
  },
  {
   "cell_type": "markdown",
   "metadata": {},
   "source": [
    "We have rent data up until April of 2018 identified by the last column 2018-04. The RegionName is actually the zip code of the particular location.<br> Lets filter our data, and look at San Francisco, in particular zip code 94117."
   ]
  },
  {
   "cell_type": "code",
   "execution_count": 74,
   "metadata": {
    "collapsed": true
   },
   "outputs": [],
   "source": [
    "shop_rent_df = rent_df[rent_df.RegionName ==  94117]"
   ]
  },
  {
   "cell_type": "code",
   "execution_count": 75,
   "metadata": {
    "scrolled": false
   },
   "outputs": [
    {
     "data": {
      "text/html": [
       "<div>\n",
       "<style scoped>\n",
       "    .dataframe tbody tr th:only-of-type {\n",
       "        vertical-align: middle;\n",
       "    }\n",
       "\n",
       "    .dataframe tbody tr th {\n",
       "        vertical-align: top;\n",
       "    }\n",
       "\n",
       "    .dataframe thead th {\n",
       "        text-align: right;\n",
       "    }\n",
       "</style>\n",
       "<table border=\"1\" class=\"dataframe\">\n",
       "  <thead>\n",
       "    <tr style=\"text-align: right;\">\n",
       "      <th></th>\n",
       "      <th>RegionName</th>\n",
       "      <th>City</th>\n",
       "      <th>State</th>\n",
       "      <th>Metro</th>\n",
       "      <th>CountyName</th>\n",
       "      <th>SizeRank</th>\n",
       "      <th>2010-02</th>\n",
       "      <th>2010-03</th>\n",
       "      <th>2010-04</th>\n",
       "      <th>2010-05</th>\n",
       "      <th>...</th>\n",
       "      <th>2017-07</th>\n",
       "      <th>2017-08</th>\n",
       "      <th>2017-09</th>\n",
       "      <th>2017-10</th>\n",
       "      <th>2017-11</th>\n",
       "      <th>2017-12</th>\n",
       "      <th>2018-01</th>\n",
       "      <th>2018-02</th>\n",
       "      <th>2018-03</th>\n",
       "      <th>2018-04</th>\n",
       "    </tr>\n",
       "  </thead>\n",
       "  <tbody>\n",
       "    <tr>\n",
       "      <th>238</th>\n",
       "      <td>94117</td>\n",
       "      <td>San Francisco</td>\n",
       "      <td>CA</td>\n",
       "      <td>San Francisco</td>\n",
       "      <td>San Francisco</td>\n",
       "      <td>604</td>\n",
       "      <td>NaN</td>\n",
       "      <td>NaN</td>\n",
       "      <td>NaN</td>\n",
       "      <td>NaN</td>\n",
       "      <td>...</td>\n",
       "      <td>4.118098</td>\n",
       "      <td>4.117546</td>\n",
       "      <td>4.1625</td>\n",
       "      <td>4.230769</td>\n",
       "      <td>4.1275</td>\n",
       "      <td>4.25</td>\n",
       "      <td>4.527273</td>\n",
       "      <td>4.463904</td>\n",
       "      <td>4.222857</td>\n",
       "      <td>4.339144</td>\n",
       "    </tr>\n",
       "  </tbody>\n",
       "</table>\n",
       "<p>1 rows × 105 columns</p>\n",
       "</div>"
      ],
      "text/plain": [
       "     RegionName           City State          Metro     CountyName  SizeRank  \\\n",
       "238       94117  San Francisco    CA  San Francisco  San Francisco       604   \n",
       "\n",
       "     2010-02  2010-03  2010-04  2010-05    ...      2017-07   2017-08  \\\n",
       "238      NaN      NaN      NaN      NaN    ...     4.118098  4.117546   \n",
       "\n",
       "     2017-09   2017-10  2017-11  2017-12   2018-01   2018-02   2018-03  \\\n",
       "238   4.1625  4.230769   4.1275     4.25  4.527273  4.463904  4.222857   \n",
       "\n",
       "      2018-04  \n",
       "238  4.339144  \n",
       "\n",
       "[1 rows x 105 columns]"
      ]
     },
     "execution_count": 75,
     "metadata": {},
     "output_type": "execute_result"
    }
   ],
   "source": [
    "shop_rent_df"
   ]
  },
  {
   "cell_type": "markdown",
   "metadata": {},
   "source": [
    "As we can see, there are a number of columns for which the rent information is not avaliable and is denoted by NaN.<br> Let's remove these columns."
   ]
  },
  {
   "cell_type": "code",
   "execution_count": 76,
   "metadata": {},
   "outputs": [
    {
     "name": "stderr",
     "output_type": "stream",
     "text": [
      "/anaconda/lib/python3.6/site-packages/ipykernel_launcher.py:1: SettingWithCopyWarning: \n",
      "A value is trying to be set on a copy of a slice from a DataFrame\n",
      "\n",
      "See the caveats in the documentation: http://pandas.pydata.org/pandas-docs/stable/indexing.html#indexing-view-versus-copy\n",
      "  \"\"\"Entry point for launching an IPython kernel.\n"
     ]
    }
   ],
   "source": [
    "shop_rent_df.dropna(axis = 'columns',inplace=True)"
   ]
  },
  {
   "cell_type": "code",
   "execution_count": 77,
   "metadata": {
    "scrolled": true
   },
   "outputs": [
    {
     "data": {
      "text/html": [
       "<div>\n",
       "<style scoped>\n",
       "    .dataframe tbody tr th:only-of-type {\n",
       "        vertical-align: middle;\n",
       "    }\n",
       "\n",
       "    .dataframe tbody tr th {\n",
       "        vertical-align: top;\n",
       "    }\n",
       "\n",
       "    .dataframe thead th {\n",
       "        text-align: right;\n",
       "    }\n",
       "</style>\n",
       "<table border=\"1\" class=\"dataframe\">\n",
       "  <thead>\n",
       "    <tr style=\"text-align: right;\">\n",
       "      <th></th>\n",
       "      <th>RegionName</th>\n",
       "      <th>SizeRank</th>\n",
       "      <th>2013-11</th>\n",
       "      <th>2013-12</th>\n",
       "      <th>2014-01</th>\n",
       "      <th>2014-02</th>\n",
       "      <th>2014-03</th>\n",
       "      <th>2014-04</th>\n",
       "      <th>2014-05</th>\n",
       "      <th>2014-06</th>\n",
       "      <th>...</th>\n",
       "      <th>2017-07</th>\n",
       "      <th>2017-08</th>\n",
       "      <th>2017-09</th>\n",
       "      <th>2017-10</th>\n",
       "      <th>2017-11</th>\n",
       "      <th>2017-12</th>\n",
       "      <th>2018-01</th>\n",
       "      <th>2018-02</th>\n",
       "      <th>2018-03</th>\n",
       "      <th>2018-04</th>\n",
       "    </tr>\n",
       "  </thead>\n",
       "  <tbody>\n",
       "    <tr>\n",
       "      <th>count</th>\n",
       "      <td>1.0</td>\n",
       "      <td>1.0</td>\n",
       "      <td>1.000000</td>\n",
       "      <td>1.000000</td>\n",
       "      <td>1.000000</td>\n",
       "      <td>1.000000</td>\n",
       "      <td>1.000000</td>\n",
       "      <td>1.000000</td>\n",
       "      <td>1.000000</td>\n",
       "      <td>1.000000</td>\n",
       "      <td>...</td>\n",
       "      <td>1.000000</td>\n",
       "      <td>1.000000</td>\n",
       "      <td>1.0000</td>\n",
       "      <td>1.000000</td>\n",
       "      <td>1.0000</td>\n",
       "      <td>1.00</td>\n",
       "      <td>1.000000</td>\n",
       "      <td>1.000000</td>\n",
       "      <td>1.000000</td>\n",
       "      <td>1.000000</td>\n",
       "    </tr>\n",
       "    <tr>\n",
       "      <th>mean</th>\n",
       "      <td>94117.0</td>\n",
       "      <td>604.0</td>\n",
       "      <td>3.249303</td>\n",
       "      <td>3.290043</td>\n",
       "      <td>3.541448</td>\n",
       "      <td>3.349195</td>\n",
       "      <td>3.349195</td>\n",
       "      <td>3.642708</td>\n",
       "      <td>4.166667</td>\n",
       "      <td>3.728814</td>\n",
       "      <td>...</td>\n",
       "      <td>4.118098</td>\n",
       "      <td>4.117546</td>\n",
       "      <td>4.1625</td>\n",
       "      <td>4.230769</td>\n",
       "      <td>4.1275</td>\n",
       "      <td>4.25</td>\n",
       "      <td>4.527273</td>\n",
       "      <td>4.463904</td>\n",
       "      <td>4.222857</td>\n",
       "      <td>4.339144</td>\n",
       "    </tr>\n",
       "    <tr>\n",
       "      <th>std</th>\n",
       "      <td>NaN</td>\n",
       "      <td>NaN</td>\n",
       "      <td>NaN</td>\n",
       "      <td>NaN</td>\n",
       "      <td>NaN</td>\n",
       "      <td>NaN</td>\n",
       "      <td>NaN</td>\n",
       "      <td>NaN</td>\n",
       "      <td>NaN</td>\n",
       "      <td>NaN</td>\n",
       "      <td>...</td>\n",
       "      <td>NaN</td>\n",
       "      <td>NaN</td>\n",
       "      <td>NaN</td>\n",
       "      <td>NaN</td>\n",
       "      <td>NaN</td>\n",
       "      <td>NaN</td>\n",
       "      <td>NaN</td>\n",
       "      <td>NaN</td>\n",
       "      <td>NaN</td>\n",
       "      <td>NaN</td>\n",
       "    </tr>\n",
       "    <tr>\n",
       "      <th>min</th>\n",
       "      <td>94117.0</td>\n",
       "      <td>604.0</td>\n",
       "      <td>3.249303</td>\n",
       "      <td>3.290043</td>\n",
       "      <td>3.541448</td>\n",
       "      <td>3.349195</td>\n",
       "      <td>3.349195</td>\n",
       "      <td>3.642708</td>\n",
       "      <td>4.166667</td>\n",
       "      <td>3.728814</td>\n",
       "      <td>...</td>\n",
       "      <td>4.118098</td>\n",
       "      <td>4.117546</td>\n",
       "      <td>4.1625</td>\n",
       "      <td>4.230769</td>\n",
       "      <td>4.1275</td>\n",
       "      <td>4.25</td>\n",
       "      <td>4.527273</td>\n",
       "      <td>4.463904</td>\n",
       "      <td>4.222857</td>\n",
       "      <td>4.339144</td>\n",
       "    </tr>\n",
       "    <tr>\n",
       "      <th>25%</th>\n",
       "      <td>94117.0</td>\n",
       "      <td>604.0</td>\n",
       "      <td>3.249303</td>\n",
       "      <td>3.290043</td>\n",
       "      <td>3.541448</td>\n",
       "      <td>3.349195</td>\n",
       "      <td>3.349195</td>\n",
       "      <td>3.642708</td>\n",
       "      <td>4.166667</td>\n",
       "      <td>3.728814</td>\n",
       "      <td>...</td>\n",
       "      <td>4.118098</td>\n",
       "      <td>4.117546</td>\n",
       "      <td>4.1625</td>\n",
       "      <td>4.230769</td>\n",
       "      <td>4.1275</td>\n",
       "      <td>4.25</td>\n",
       "      <td>4.527273</td>\n",
       "      <td>4.463904</td>\n",
       "      <td>4.222857</td>\n",
       "      <td>4.339144</td>\n",
       "    </tr>\n",
       "    <tr>\n",
       "      <th>50%</th>\n",
       "      <td>94117.0</td>\n",
       "      <td>604.0</td>\n",
       "      <td>3.249303</td>\n",
       "      <td>3.290043</td>\n",
       "      <td>3.541448</td>\n",
       "      <td>3.349195</td>\n",
       "      <td>3.349195</td>\n",
       "      <td>3.642708</td>\n",
       "      <td>4.166667</td>\n",
       "      <td>3.728814</td>\n",
       "      <td>...</td>\n",
       "      <td>4.118098</td>\n",
       "      <td>4.117546</td>\n",
       "      <td>4.1625</td>\n",
       "      <td>4.230769</td>\n",
       "      <td>4.1275</td>\n",
       "      <td>4.25</td>\n",
       "      <td>4.527273</td>\n",
       "      <td>4.463904</td>\n",
       "      <td>4.222857</td>\n",
       "      <td>4.339144</td>\n",
       "    </tr>\n",
       "    <tr>\n",
       "      <th>75%</th>\n",
       "      <td>94117.0</td>\n",
       "      <td>604.0</td>\n",
       "      <td>3.249303</td>\n",
       "      <td>3.290043</td>\n",
       "      <td>3.541448</td>\n",
       "      <td>3.349195</td>\n",
       "      <td>3.349195</td>\n",
       "      <td>3.642708</td>\n",
       "      <td>4.166667</td>\n",
       "      <td>3.728814</td>\n",
       "      <td>...</td>\n",
       "      <td>4.118098</td>\n",
       "      <td>4.117546</td>\n",
       "      <td>4.1625</td>\n",
       "      <td>4.230769</td>\n",
       "      <td>4.1275</td>\n",
       "      <td>4.25</td>\n",
       "      <td>4.527273</td>\n",
       "      <td>4.463904</td>\n",
       "      <td>4.222857</td>\n",
       "      <td>4.339144</td>\n",
       "    </tr>\n",
       "    <tr>\n",
       "      <th>max</th>\n",
       "      <td>94117.0</td>\n",
       "      <td>604.0</td>\n",
       "      <td>3.249303</td>\n",
       "      <td>3.290043</td>\n",
       "      <td>3.541448</td>\n",
       "      <td>3.349195</td>\n",
       "      <td>3.349195</td>\n",
       "      <td>3.642708</td>\n",
       "      <td>4.166667</td>\n",
       "      <td>3.728814</td>\n",
       "      <td>...</td>\n",
       "      <td>4.118098</td>\n",
       "      <td>4.117546</td>\n",
       "      <td>4.1625</td>\n",
       "      <td>4.230769</td>\n",
       "      <td>4.1275</td>\n",
       "      <td>4.25</td>\n",
       "      <td>4.527273</td>\n",
       "      <td>4.463904</td>\n",
       "      <td>4.222857</td>\n",
       "      <td>4.339144</td>\n",
       "    </tr>\n",
       "  </tbody>\n",
       "</table>\n",
       "<p>8 rows × 56 columns</p>\n",
       "</div>"
      ],
      "text/plain": [
       "       RegionName  SizeRank   2013-11   2013-12   2014-01   2014-02   2014-03  \\\n",
       "count         1.0       1.0  1.000000  1.000000  1.000000  1.000000  1.000000   \n",
       "mean      94117.0     604.0  3.249303  3.290043  3.541448  3.349195  3.349195   \n",
       "std           NaN       NaN       NaN       NaN       NaN       NaN       NaN   \n",
       "min       94117.0     604.0  3.249303  3.290043  3.541448  3.349195  3.349195   \n",
       "25%       94117.0     604.0  3.249303  3.290043  3.541448  3.349195  3.349195   \n",
       "50%       94117.0     604.0  3.249303  3.290043  3.541448  3.349195  3.349195   \n",
       "75%       94117.0     604.0  3.249303  3.290043  3.541448  3.349195  3.349195   \n",
       "max       94117.0     604.0  3.249303  3.290043  3.541448  3.349195  3.349195   \n",
       "\n",
       "        2014-04   2014-05   2014-06    ...      2017-07   2017-08  2017-09  \\\n",
       "count  1.000000  1.000000  1.000000    ...     1.000000  1.000000   1.0000   \n",
       "mean   3.642708  4.166667  3.728814    ...     4.118098  4.117546   4.1625   \n",
       "std         NaN       NaN       NaN    ...          NaN       NaN      NaN   \n",
       "min    3.642708  4.166667  3.728814    ...     4.118098  4.117546   4.1625   \n",
       "25%    3.642708  4.166667  3.728814    ...     4.118098  4.117546   4.1625   \n",
       "50%    3.642708  4.166667  3.728814    ...     4.118098  4.117546   4.1625   \n",
       "75%    3.642708  4.166667  3.728814    ...     4.118098  4.117546   4.1625   \n",
       "max    3.642708  4.166667  3.728814    ...     4.118098  4.117546   4.1625   \n",
       "\n",
       "        2017-10  2017-11  2017-12   2018-01   2018-02   2018-03   2018-04  \n",
       "count  1.000000   1.0000     1.00  1.000000  1.000000  1.000000  1.000000  \n",
       "mean   4.230769   4.1275     4.25  4.527273  4.463904  4.222857  4.339144  \n",
       "std         NaN      NaN      NaN       NaN       NaN       NaN       NaN  \n",
       "min    4.230769   4.1275     4.25  4.527273  4.463904  4.222857  4.339144  \n",
       "25%    4.230769   4.1275     4.25  4.527273  4.463904  4.222857  4.339144  \n",
       "50%    4.230769   4.1275     4.25  4.527273  4.463904  4.222857  4.339144  \n",
       "75%    4.230769   4.1275     4.25  4.527273  4.463904  4.222857  4.339144  \n",
       "max    4.230769   4.1275     4.25  4.527273  4.463904  4.222857  4.339144  \n",
       "\n",
       "[8 rows x 56 columns]"
      ]
     },
     "execution_count": 77,
     "metadata": {},
     "output_type": "execute_result"
    }
   ],
   "source": [
    "shop_rent_df.describe()"
   ]
  },
  {
   "cell_type": "code",
   "execution_count": 78,
   "metadata": {
    "collapsed": true
   },
   "outputs": [],
   "source": [
    "shop_rent_df = shop_rent_df.T"
   ]
  },
  {
   "cell_type": "code",
   "execution_count": 79,
   "metadata": {
    "collapsed": true
   },
   "outputs": [],
   "source": [
    "shop_rent_df.columns = ['shop_rent']"
   ]
  },
  {
   "cell_type": "code",
   "execution_count": 80,
   "metadata": {
    "scrolled": true
   },
   "outputs": [
    {
     "data": {
      "text/html": [
       "<div>\n",
       "<style scoped>\n",
       "    .dataframe tbody tr th:only-of-type {\n",
       "        vertical-align: middle;\n",
       "    }\n",
       "\n",
       "    .dataframe tbody tr th {\n",
       "        vertical-align: top;\n",
       "    }\n",
       "\n",
       "    .dataframe thead th {\n",
       "        text-align: right;\n",
       "    }\n",
       "</style>\n",
       "<table border=\"1\" class=\"dataframe\">\n",
       "  <thead>\n",
       "    <tr style=\"text-align: right;\">\n",
       "      <th></th>\n",
       "      <th>shop_rent</th>\n",
       "    </tr>\n",
       "  </thead>\n",
       "  <tbody>\n",
       "    <tr>\n",
       "      <th>RegionName</th>\n",
       "      <td>94117</td>\n",
       "    </tr>\n",
       "    <tr>\n",
       "      <th>City</th>\n",
       "      <td>San Francisco</td>\n",
       "    </tr>\n",
       "    <tr>\n",
       "      <th>State</th>\n",
       "      <td>CA</td>\n",
       "    </tr>\n",
       "    <tr>\n",
       "      <th>Metro</th>\n",
       "      <td>San Francisco</td>\n",
       "    </tr>\n",
       "    <tr>\n",
       "      <th>CountyName</th>\n",
       "      <td>San Francisco</td>\n",
       "    </tr>\n",
       "    <tr>\n",
       "      <th>SizeRank</th>\n",
       "      <td>604</td>\n",
       "    </tr>\n",
       "    <tr>\n",
       "      <th>2013-11</th>\n",
       "      <td>3.2493</td>\n",
       "    </tr>\n",
       "    <tr>\n",
       "      <th>2013-12</th>\n",
       "      <td>3.29004</td>\n",
       "    </tr>\n",
       "  </tbody>\n",
       "</table>\n",
       "</div>"
      ],
      "text/plain": [
       "                shop_rent\n",
       "RegionName          94117\n",
       "City        San Francisco\n",
       "State                  CA\n",
       "Metro       San Francisco\n",
       "CountyName  San Francisco\n",
       "SizeRank              604\n",
       "2013-11            3.2493\n",
       "2013-12           3.29004"
      ]
     },
     "execution_count": 80,
     "metadata": {},
     "output_type": "execute_result"
    }
   ],
   "source": [
    "shop_rent_df.head(8)"
   ]
  },
  {
   "cell_type": "markdown",
   "metadata": {},
   "source": [
    "As it turns out we only have rent information from November 2013 to April 2018. This is not a lot to go on while creating our model for rent prediction, but we shall try our best with the data we have."
   ]
  },
  {
   "cell_type": "code",
   "execution_count": 81,
   "metadata": {
    "scrolled": false
   },
   "outputs": [
    {
     "data": {
      "text/plain": [
       "<matplotlib.text.Text at 0x1a148a56a0>"
      ]
     },
     "execution_count": 81,
     "metadata": {},
     "output_type": "execute_result"
    },
    {
     "data": {
      "image/png": "[encoded data removed]",
      "text/plain": [
       "<matplotlib.figure.Figure at 0x1a13fe5a90>"
      ]
     },
     "metadata": {},
     "output_type": "display_data"
    }
   ],
   "source": [
    "fig, axs = plt.subplots(figsize= (16,10))\n",
    "sns.pointplot(x=shop_rent_df.index[6:], y = shop_rent_df.iloc[6:,0],\n",
    "              data=shop_rent_df,\n",
    "              markers=['o'],ax = axs)\n",
    "axs.set_xlabel('Year-Month')\n",
    "axs.set_xticklabels(labels=shop_rent_df.index[6:], rotation = 45)\n",
    "axs.set_ylabel('Median Rent Per Sqft')\n",
    "axs.set_title('Rent Trend near Store Location')"
   ]
  },
  {
   "cell_type": "code",
   "execution_count": 82,
   "metadata": {},
   "outputs": [
    {
     "data": {
      "text/plain": [
       "<matplotlib.text.Text at 0x1a1ab9b6a0>"
      ]
     },
     "execution_count": 82,
     "metadata": {},
     "output_type": "execute_result"
    },
    {
     "data": {
      "image/png": "[encoded data removed]",
      "text/plain": [
       "<matplotlib.figure.Figure at 0x1a13fc73c8>"
      ]
     },
     "metadata": {},
     "output_type": "display_data"
    }
   ],
   "source": [
    "fig,axs = plt.subplots(figsize = (10,8))\n",
    "sns.distplot(shop_rent_df.iloc[6:,0],axlabel='Median Rent per Sqft',ax = axs)\n",
    "axs.set_title('Histogram for Median Rent per Sqft')"
   ]
  },
  {
   "cell_type": "markdown",
   "metadata": {},
   "source": [
    "Since we are dealing with a time series here, we can not make use of Regression techniques as regression requires the observation to be independant, but in our case they are <b>dependant on time</b>."
   ]
  },
  {
   "cell_type": "markdown",
   "metadata": {
    "collapsed": true
   },
   "source": [
    "### Time Series Analysis for Rent Data"
   ]
  },
  {
   "cell_type": "markdown",
   "metadata": {},
   "source": [
    "We start by converting our data to a time series"
   ]
  },
  {
   "cell_type": "code",
   "execution_count": 88,
   "metadata": {},
   "outputs": [],
   "source": [
    "datetime_index = pd.DatetimeIndex(shop_rent_df.index[6:])"
   ]
  },
  {
   "cell_type": "code",
   "execution_count": 218,
   "metadata": {
    "collapsed": true
   },
   "outputs": [],
   "source": [
    "ts = pd.Series(shop_rent_df.iloc[6:,0],index=datetime_index)"
   ]
  },
  {
   "cell_type": "code",
   "execution_count": 256,
   "metadata": {},
   "outputs": [],
   "source": [
    "ts = ts.astype({'shop_rent':'float64'})"
   ]
  },
  {
   "cell_type": "code",
   "execution_count": 224,
   "metadata": {
    "scrolled": true
   },
   "outputs": [
    {
     "data": {
      "text/plain": [
       "2013-11-01    3.249303\n",
       "2013-12-01    3.290043\n",
       "2014-01-01    3.541448\n",
       "2014-02-01    3.349195\n",
       "2014-03-01    3.349195\n",
       "Name: shop_rent, dtype: float64"
      ]
     },
     "execution_count": 224,
     "metadata": {},
     "output_type": "execute_result"
    }
   ],
   "source": [
    "ts.head()"
   ]
  },
  {
   "cell_type": "markdown",
   "metadata": {},
   "source": [
    "This allows us to access the data using just the year etc as follows:"
   ]
  },
  {
   "cell_type": "code",
   "execution_count": 225,
   "metadata": {},
   "outputs": [
    {
     "data": {
      "text/plain": [
       "2014-01-01    3.541448\n",
       "2014-02-01    3.349195\n",
       "2014-03-01    3.349195\n",
       "2014-04-01    3.642708\n",
       "2014-05-01    4.166667\n",
       "Name: shop_rent, dtype: float64"
      ]
     },
     "execution_count": 225,
     "metadata": {},
     "output_type": "execute_result"
    }
   ],
   "source": [
    "ts['2014'].head()"
   ]
  },
  {
   "cell_type": "markdown",
   "metadata": {},
   "source": [
    "Now we need to check if our time series is <b>stationary</b>.<br>\n",
    "Stationarity is an underlying assumption for many statistical methods used in time series analysis. A more detailed definition can be found at the Wikipedia page here:\n",
    ">https://en.wikipedia.org/wiki/Stationary_process<br>\n",
    "\n",
    "The following blog post was also extremely useful in learning how to analyze time series, you can check it out <a href='https://www.analyticsvidhya.com/blog/2016/02/time-series-forecasting-codes-python/'>here</a>.\n",
    "\n",
    "Briefly what staionarity means is that statistical properties such as mean and variance of the time series remain same over time.\n",
    "We can check this by plotting the mean and variance/standard deviation over a rolling period, and by using the Dickey Fuller test. We shall take the quaterly rolling preiod in our analysis."
   ]
  },
  {
   "cell_type": "code",
   "execution_count": 226,
   "metadata": {},
   "outputs": [
    {
     "data": {
      "text/plain": [
       "<matplotlib.legend.Legend at 0x1c2e2dc828>"
      ]
     },
     "execution_count": 226,
     "metadata": {},
     "output_type": "execute_result"
    },
    {
     "data": {
      "image/png": "[encoded data removed]",
      "text/plain": [
       "<matplotlib.figure.Figure at 0x1c2e36f3c8>"
      ]
     },
     "metadata": {},
     "output_type": "display_data"
    }
   ],
   "source": [
    "from statsmodels.tsa.stattools import adfuller\n",
    "\n",
    "rol_mean = ts.rolling(window=4).mean()\n",
    "rol_std = ts.rolling(window=4).std()\n",
    "\n",
    "plt.figure(figsize = (10,6))\n",
    "plt.plot(ts,color = 'blue', label = 'Original')\n",
    "plt.plot(rol_mean, color = 'black', label = 'Rolling Mean')\n",
    "plt.plot(rol_std, color = 'red', label = 'Rolling Standard Deviation')\n",
    "plt.legend(loc = 'best')\n"
   ]
  },
  {
   "cell_type": "markdown",
   "metadata": {},
   "source": [
    "It appears as expected from our initial trend plot and the above figure that the Mean has an overall increasing trend, but it's not a significant increase, with some seasonal fluctuations.<br> Let's carry out the Dickey-Fuller test to confirm if our time series is stationary or not."
   ]
  },
  {
   "cell_type": "code",
   "execution_count": 228,
   "metadata": {},
   "outputs": [
    {
     "name": "stdout",
     "output_type": "stream",
     "text": [
      "ADF Statistic: -3.199209\n",
      "p-value: 0.020030\n",
      "Critical Values:\n",
      "\t1%: -3.560\n",
      "\t5%: -2.918\n",
      "\t10%: -2.597\n"
     ]
    }
   ],
   "source": [
    "dftest = adfuller(ts)\n",
    "print('ADF Statistic: %f' % dftest[0])\n",
    "print('p-value: %f' % dftest[1])\n",
    "print('Critical Values:')\n",
    "for key, value in dftest[4].items():\n",
    "    print('\\t%s: %.3f' % (key, value))"
   ]
  },
  {
   "cell_type": "markdown",
   "metadata": {},
   "source": [
    "We observe that our ADF statistic value is: -3.199 (The lower the more chance we can reject the null hypothesis)<br>\n",
    "THe ADF statistic value of -3.199 is lower than the 5% critical value of -2.918 and very close to the 1% critical value of -3.560.\n",
    ">This means that we can refute the null hypothesis with a significance value of <5%, meaning that  there is low probability that this has happened by chance.\n",
    "\n",
    "This concludes that our time series is in fact(non-intuitively) stationary.\n"
   ]
  },
  {
   "cell_type": "markdown",
   "metadata": {},
   "source": [
    "Now that we know that our time series is more or less stationary. We can forecast using the ARIMA technique. Details about the technique can be found <a href=\"https://en.wikipedia.org/wiki/Autoregressive_integrated_moving_average\"> here </a>."
   ]
  },
  {
   "cell_type": "markdown",
   "metadata": {},
   "source": [
    "### Time Series Analysis using ARIMA"
   ]
  },
  {
   "cell_type": "markdown",
   "metadata": {},
   "source": [
    "#### Auto-correlation Plot"
   ]
  },
  {
   "cell_type": "code",
   "execution_count": 271,
   "metadata": {},
   "outputs": [
    {
     "data": {
      "image/png": "[encoded data removed]",
      "text/plain": [
       "<matplotlib.figure.Figure at 0x1c3161bac8>"
      ]
     },
     "metadata": {},
     "output_type": "display_data"
    }
   ],
   "source": [
    "from pandas.plotting import autocorrelation_plot\n",
    "plt.figure(figsize = (15,6))\n",
    "autocorrelation_plot(ts)\n",
    "# plt.style.context('whitegrid')\n",
    "plt.xticks(np.arange(0,54, 5.0))\n",
    "sns.set_style('white')\n",
    "sns.set_style('ticks')\n",
    "plt.show()"
   ]
  },
  {
   "cell_type": "markdown",
   "metadata": {},
   "source": [
    "There is a positive correlation between the first ~10 lags, which is significant for the first ~4-5 lags. We can use this value as our AR parameters."
   ]
  },
  {
   "cell_type": "code",
   "execution_count": 275,
   "metadata": {},
   "outputs": [
    {
     "name": "stderr",
     "output_type": "stream",
     "text": [
      "/anaconda/lib/python3.6/site-packages/statsmodels/tsa/kalmanf/kalmanfilter.py:646: FutureWarning: Conversion of the second argument of issubdtype from `float` to `np.floating` is deprecated. In future, it will be treated as `np.float64 == np.dtype(float).type`.\n",
      "  if issubdtype(paramsdtype, float):\n",
      "/anaconda/lib/python3.6/site-packages/statsmodels/tsa/kalmanf/kalmanfilter.py:650: FutureWarning: Conversion of the second argument of issubdtype from `complex` to `np.complexfloating` is deprecated. In future, it will be treated as `np.complex128 == np.dtype(complex).type`.\n",
      "  elif issubdtype(paramsdtype, complex):\n",
      "/anaconda/lib/python3.6/site-packages/statsmodels/tsa/kalmanf/kalmanfilter.py:577: FutureWarning: Conversion of the second argument of issubdtype from `float` to `np.floating` is deprecated. In future, it will be treated as `np.float64 == np.dtype(float).type`.\n",
      "  if issubdtype(paramsdtype, float):\n"
     ]
    },
    {
     "name": "stdout",
     "output_type": "stream",
     "text": [
      "                             ARIMA Model Results                              \n",
      "==============================================================================\n",
      "Dep. Variable:            D.shop_rent   No. Observations:                   53\n",
      "Model:                 ARIMA(4, 1, 0)   Log Likelihood                  10.225\n",
      "Method:                       css-mle   S.D. of innovations              0.199\n",
      "Date:                Sun, 24 Jun 2018   AIC                             -8.450\n",
      "Time:                        14:32:09   BIC                              3.372\n",
      "Sample:                    12-01-2013   HQIC                            -3.904\n",
      "                         - 04-01-2018                                         \n",
      "=====================================================================================\n",
      "                        coef    std err          z      P>|z|      [0.025      0.975]\n",
      "-------------------------------------------------------------------------------------\n",
      "const                 0.0202      0.017      1.160      0.252      -0.014       0.054\n",
      "ar.L1.D.shop_rent    -0.2600      0.137     -1.904      0.063      -0.528       0.008\n",
      "ar.L2.D.shop_rent    -0.2553      0.140     -1.817      0.075      -0.531       0.020\n",
      "ar.L3.D.shop_rent    -0.1175      0.141     -0.831      0.410      -0.395       0.160\n",
      "ar.L4.D.shop_rent     0.0475      0.138      0.344      0.732      -0.223       0.318\n",
      "                                    Roots                                    \n",
      "=============================================================================\n",
      "                 Real           Imaginary           Modulus         Frequency\n",
      "-----------------------------------------------------------------------------\n",
      "AR.1           -1.9012           -0.0000j            1.9012           -0.5000\n",
      "AR.2            0.0423           -1.6059j            1.6064           -0.2458\n",
      "AR.3            0.0423           +1.6059j            1.6064            0.2458\n",
      "AR.4            4.2890           -0.0000j            4.2890           -0.0000\n",
      "-----------------------------------------------------------------------------\n",
      "               0\n",
      "count  53.000000\n",
      "mean    0.001276\n",
      "std     0.201236\n",
      "min    -0.473870\n",
      "25%    -0.117395\n",
      "50%    -0.006820\n",
      "75%     0.143562\n",
      "max     0.533644\n"
     ]
    },
    {
     "data": {
      "image/png": "[encoded data removed]",
      "text/plain": [
       "<matplotlib.figure.Figure at 0x1c31f78e10>"
      ]
     },
     "metadata": {},
     "output_type": "display_data"
    },
    {
     "data": {
      "image/png": "[encoded data removed]",
      "text/plain": [
       "<matplotlib.figure.Figure at 0x1c319a0978>"
      ]
     },
     "metadata": {},
     "output_type": "display_data"
    }
   ],
   "source": [
    "model = ARIMA(ts, order=(4,1,0))\n",
    "model_fit = model.fit(disp=0)\n",
    "print(model_fit.summary())\n",
    "# plot residual errors\n",
    "residuals = pd.DataFrame(model_fit.resid)\n",
    "residuals.plot()\n",
    "plt.title('ARIMA Fit Residual Error Line Plot')\n",
    "residuals.plot(kind='kde')\n",
    "plt.title('ARIMA Fit Residual Error Density Plot')\n",
    "print(residuals.describe())"
   ]
  },
  {
   "cell_type": "markdown",
   "metadata": {},
   "source": [
    "We get a ~zero mean in the residuals, which is a good sign, indicating there is not much bias in our predictions."
   ]
  },
  {
   "cell_type": "code",
   "execution_count": 351,
   "metadata": {
    "scrolled": false
   },
   "outputs": [
    {
     "name": "stderr",
     "output_type": "stream",
     "text": [
      "/anaconda/lib/python3.6/site-packages/statsmodels/tsa/kalmanf/kalmanfilter.py:646: FutureWarning: Conversion of the second argument of issubdtype from `float` to `np.floating` is deprecated. In future, it will be treated as `np.float64 == np.dtype(float).type`.\n",
      "  if issubdtype(paramsdtype, float):\n",
      "/anaconda/lib/python3.6/site-packages/statsmodels/tsa/kalmanf/kalmanfilter.py:650: FutureWarning: Conversion of the second argument of issubdtype from `complex` to `np.complexfloating` is deprecated. In future, it will be treated as `np.complex128 == np.dtype(complex).type`.\n",
      "  elif issubdtype(paramsdtype, complex):\n",
      "/anaconda/lib/python3.6/site-packages/statsmodels/tsa/kalmanf/kalmanfilter.py:577: FutureWarning: Conversion of the second argument of issubdtype from `float` to `np.floating` is deprecated. In future, it will be treated as `np.float64 == np.dtype(float).type`.\n",
      "  if issubdtype(paramsdtype, float):\n"
     ]
    },
    {
     "name": "stdout",
     "output_type": "stream",
     "text": [
      "predicted=4.511909, expected=4.415929\n",
      "predicted=4.451076, expected=4.692851\n",
      "predicted=4.648387, expected=4.434574\n",
      "predicted=4.558748, expected=4.013423\n",
      "predicted=4.255994, expected=3.970377\n",
      "predicted=4.191767, expected=3.992857\n",
      "predicted=4.080297, expected=3.992857\n",
      "predicted=4.002261, expected=3.987730\n",
      "predicted=4.010535, expected=3.999622\n",
      "predicted=4.024321, expected=4.118098\n",
      "predicted=4.113233, expected=4.117546\n",
      "predicted=4.118196, expected=4.162500\n",
      "predicted=4.166722, expected=4.230769\n",
      "predicted=4.239059, expected=4.127500\n",
      "predicted=4.162547, expected=4.250000\n",
      "predicted=4.263950, expected=4.527273\n",
      "predicted=4.477537, expected=4.463904\n",
      "predicted=4.434098, expected=4.222857\n",
      "predicted=4.304411, expected=4.339144\n",
      "Test MSE: 0.036\n"
     ]
    }
   ],
   "source": [
    "from sklearn.metrics import mean_squared_error\n",
    "\n",
    "size = int(len(ts) * 0.66)\n",
    "train, test = ts[0:size], ts[size:len(ts)]\n",
    "history = [x for x in train]\n",
    "predictions = list()\n",
    "for t in range(len(test)):\n",
    "\tmodel = ARIMA(history, order=(4,1,0))\n",
    "\tmodel_fit = model.fit(disp=0)\n",
    "\toutput = model_fit.forecast()\n",
    "\tyhat = output[0]\n",
    "\tpredictions.append(yhat)\n",
    "\tobs = test[t]\n",
    "\thistory.append(obs)\n",
    "\tprint('predicted=%f, expected=%f' % (yhat, obs))\n",
    "error = mean_squared_error(test, predictions)\n",
    "print('Test MSE: %.3f' % error)\n",
    "# plot\n"
   ]
  },
  {
   "cell_type": "code",
   "execution_count": 359,
   "metadata": {},
   "outputs": [
    {
     "data": {
      "text/plain": [
       "<matplotlib.text.Text at 0x1c343c44e0>"
      ]
     },
     "execution_count": 359,
     "metadata": {},
     "output_type": "execute_result"
    },
    {
     "data": {
      "image/png": "[encoded data removed]",
      "text/plain": [
       "<matplotlib.figure.Figure at 0x1c34375fd0>"
      ]
     },
     "metadata": {},
     "output_type": "display_data"
    }
   ],
   "source": [
    "plt.plot(test.values,label = 'Test set Rent Values')\n",
    "plt.plot(predictions, color='red', label = 'Predicted Rent Values')\n",
    "plt.legend(loc='best')\n",
    "plt.title('Actual vs Predicted Rent for the Test set')"
   ]
  },
  {
   "cell_type": "code",
   "execution_count": 357,
   "metadata": {},
   "outputs": [
    {
     "data": {
      "text/plain": [
       "array([4.30441112, 4.39648858, 4.40979973, 4.39361467])"
      ]
     },
     "execution_count": 357,
     "metadata": {},
     "output_type": "execute_result"
    }
   ],
   "source": [
    "forecast = model_fit.forecast(steps=4)[0]\n",
    "forecast"
   ]
  },
  {
   "cell_type": "code",
   "execution_count": 360,
   "metadata": {},
   "outputs": [
    {
     "data": {
      "text/plain": [
       "<matplotlib.text.Text at 0x1c34cdd9b0>"
      ]
     },
     "execution_count": 360,
     "metadata": {},
     "output_type": "execute_result"
    },
    {
     "data": {
      "image/png": "[encoded data removed]",
      "text/plain": [
       "<matplotlib.figure.Figure at 0x1c3242d940>"
      ]
     },
     "metadata": {},
     "output_type": "display_data"
    }
   ],
   "source": [
    "predictions = np.append(predictions,forecast)\n",
    "plt.plot(test.values,label = 'Test set Rent Values')\n",
    "plt.plot(predictions, color='red', label = 'Predicted Rent Values')\n",
    "plt.legend(loc='best')\n",
    "plt.title('Prediction Rent/sqft for an additional quarter')"
   ]
  },
  {
   "cell_type": "markdown",
   "metadata": {},
   "source": [
    "Averaging the forecasted value for the quarter from May - August 2018, we get an estimate of the Rent per Sqft in the city"
   ]
  },
  {
   "cell_type": "code",
   "execution_count": 361,
   "metadata": {},
   "outputs": [
    {
     "data": {
      "text/plain": [
       "4.376078523621106"
      ]
     },
     "execution_count": 361,
     "metadata": {},
     "output_type": "execute_result"
    }
   ],
   "source": [
    "mean_future_rent = np.mean(forecast)\n",
    "mean_future_rent"
   ]
  },
  {
   "cell_type": "code",
   "execution_count": 363,
   "metadata": {},
   "outputs": [
    {
     "data": {
      "text/plain": [
       "4581.754214231298"
      ]
     },
     "execution_count": 363,
     "metadata": {},
     "output_type": "execute_result"
    }
   ],
   "source": [
    "rent = mean_future_rent * plot_size\n",
    "rent"
   ]
  },
  {
   "cell_type": "markdown",
   "metadata": {},
   "source": [
    ">Therefore, a fair estimate of the monthly rent we'll have to pay for our store at our current chosen location is $4,580."
   ]
  },
  {
   "cell_type": "markdown",
   "metadata": {},
   "source": [
    "## Concluding Remarks"
   ]
  },
  {
   "cell_type": "code",
   "execution_count": null,
   "metadata": {
    "collapsed": true
   },
   "outputs": [],
   "source": []
  },
  {
   "cell_type": "code",
   "execution_count": null,
   "metadata": {
    "collapsed": true
   },
   "outputs": [],
   "source": []
  },
  {
   "cell_type": "markdown",
   "metadata": {},
   "source": [
    "This completes our exploratory analysis for opening a grocery store in the Baker and Fulton Street block in San Francisco!<br>"
   ]
  },
  {
   "cell_type": "code",
   "execution_count": null,
   "metadata": {
    "collapsed": true
   },
   "outputs": [],
   "source": []
  }
 ],
 "metadata": {
  "kernelspec": {
   "display_name": "Python 3",
   "language": "python",
   "name": "python3"
  },
  "language_info": {
   "codemirror_mode": {
    "name": "ipython",
    "version": 3
   },
   "file_extension": ".py",
   "mimetype": "text/x-python",
   "name": "python",
   "nbconvert_exporter": "python",
   "pygments_lexer": "ipython3",
   "version": "3.6.4"
  }
 },
 "nbformat": 4,
 "nbformat_minor": 2
}
